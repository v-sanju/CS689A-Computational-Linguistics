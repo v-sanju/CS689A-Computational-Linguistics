{
 "cells": [
  {
   "cell_type": "markdown",
   "metadata": {},
   "source": [
    "# Question 1"
   ]
  },
  {
   "cell_type": "markdown",
   "metadata": {},
   "source": [
    "1. इस बार कांग्रेस ने जो घोषणा पत्र जारी किया है उसमें आपके 6000 के सामने कांग्रेस के 72000 भारी पड़ेंगा?\n",
    "* इस:O, बार:O, कांग्रेस:B-ORG, ने:O, जो:O, घोषणा:O, पत्र:O, जारी:O, किया:O, है:O, उसमें:O, आपके:O, 6000:O, के:O, सामने:O, कांग्रेस:B-ORG, के:O, 72000:O, भारी:O, पड़ेंगा:O, ?:O\n",
    "\n",
    "2. मोदी सरकार के पहले कार्यकाल में भी तीन तलाक को लेकर बिल लाया गया था, हालांकि तब यह राज्यसभा में पास नहीं हो पाया था.\n",
    "* मोदी:B-ORG, सरकार:I-ORG, के:O, पहले:O, कार्यकाल:O, में:O, भी:O, तीन:O, तलाक:O, को:O, लेकर:O, बिल:O, लाया:O, गया:O, था:O, ,:O, हालांकि:O, तब:O, यह:O, राज्यसभा:O, में:O, पास:O, नहीं:O, हो:O, पाया:O, था:O, .:O\n",
    "\n",
    "3. चुल्हे की संरचना सामान्यतया ब्युटेन पर चलने वाले चुल्हे के समान ही होती है परंतु इनके (बायोगैस चुल्हे) बर्नर में वायु छिद्र का आकार बड़ा होता है।\n",
    "* चुल्हे:O, की:O, संरचना:O, सामान्यतया:O, ब्युटेन:B-MISC, पर:O, चलने:O, वाले:O, चुल्हे:O, के:O, समान:O, ही:O, होती:O, है:O, परंतु:O, इनके:O, (:O, बायोगैस:O, चुल्हे:O, ):O, बर्नर:O, में:O, वायु:O, छिद्र:O, का:O, आकार:O, बड़ा:O, होता:O, है:O, I:O\n",
    "\n",
    "4. उसने तुरंत बैंक में जाकर पता किया तो उसके खाते से किसी ने एटीएम के माध्यम से तीस हजार रुपये निकाल लिए थे।\n",
    "* उसने:O, तुरंत:O, बैंक:O, में:O, जाकर:O, पता:O, किया:O, तो:O, उसके:O, खाते:O, से:O, किसी:O, ने:O, एटीएम:B-MISC, के:O, माध्यम:O, से:O, तीस:O, हजार:O, रुपये:O, निकाल:O, लिए:O, थे:O, I:O\n",
    "\n",
    "5. इससे पहले भी कई अफेयर हुए हैं जिनमें कुछ तो सफल रिलेशनशिप में तब्दील हो गए वहीं कुछ अफेयर सिर्फ अफसाना बनकर रह गए। \n",
    "* इससे:O, पहले:O, भी:O, कई:O, अफेयर:O, हुए:O, हैं:O, जिनमें:O, कुछ:O, तो:O, सफल:O, रिलेशनशिप:O, में:O, तब्दील:O, हो:O, गए:O, वहीं:O, कुछ:O, अफेयर:O, सिर्फ:O, अफसाना:O, बनकर:O, रह:O, गए:O, I:O\n",
    "\n",
    "6. संविधान का ८० प्रतिशत कार्य पुरा हो चुका है । \n",
    "* संविधान:B-ORG, का:O, ८०:O, प्रतिशत:O, कार्य:O, पुरा:O, हो:O, चुका:O, है:O, I:O\n",
    "\n",
    "7. उनके पिता का कोई पता नहीं चल पाया. साथ ही शादी का सामान यानी गहनों और कपड़ों का भी कुछ पता नहीं चल पाया है.\n",
    "* उनके:O, पिता:O, का:O, कोई:O, पता:O, नहीं:O, चल:O, पाया:O, .:O, साथ:O, ही:O, शादी:O, का:O, सामान:O, यानी:O, गहनों:O, और:O, कपड़ों:O, का:O, भी:O, कुछ:O, पता:O, नहीं:O, चल:O, पाया:O, है:O, .:O\n",
    "\n",
    "8. नीति आयोग के CEO अमिताभ कांत ने कहा कि देश में पिछले तीन साल में प्रति ग्राहक मोबाइल डाटा कंज्मप्शन में 142 फीसदी की ग्रोथ दर्ज की गई है।\n",
    "* नीति:B-ORG, आयोग:I-ORG, के:O, CEO:B-MISC, अमिताभ:B-PER, कांत:I-PER, ने:O, कहा:O, कि:O, देश:O, में:O, पिछले:O, तीन:O, साल:O, में:O, प्रति:O, ग्राहक:O, मोबाइल:O, डाटा:O, कंज्मप्शन:O, में:O, 142:O, फीसदी:O, की:O, ग्रोथ:O, दर्ज:O, की:O, गई:O, है:O, I:O\n",
    "\n",
    "9. इनेलो हर वर्ग के लोगों की सुरक्षा करने में सक्षम : सतबीर कादियान\n",
    "* इनेलो:B-MISC, हर:O, वर्ग:O, के:O, लोगों:O, की:O, सुरक्षा:O, करने:O, में:O, सक्षम:O, ::O, सतबीर:B-PER, कादियान:I-PER\n",
    "\n",
    "10. मीडिया रिपोर्टों के मुताबिक एक चर्च के बाहर सुरक्षाकर्मी एक महिला और उसके दो बच्चों को राेक कर उनसे पूछताछ कर रही थी।\n",
    "* मीडिया:O, रिपोर्टों:O, के:O, मुताबिक:O, एक:O, चर्च:O, के:O, बाहर:O, सुरक्षाकर्मी:O, एक:O, महिला:O, और:O, उसके:O, दो:O, बच्चों:O, को:O, राेक:O, कर:O, उनसे:O, पूछताछ:O, कर:O, रही:O, थी:O, I:O\n",
    "\n",
    "11. गौरतलब है कि शेयर बाजारों में मंगलवार को लगातार दूसरे दिन गिरावट आयी और सेंसेक्स 642 अंक टूटकर 36,481.09 अंक पर बंद हुआ।\n",
    "* गौरतलब:O, है:O, कि:O, शेयर:O, बाजारों:O, में:O, मंगलवार:B-MISC, को:O, लगातार:O, दूसरे:O, दिन:O, गिरावट:O, आयी:O, और:O, सेंसेक्स:B-ORG, 642:O, अंक:O, टूटकर:O, 36,481.09:O, अंक:O, पर:O, बंद:O, हुआ:O, I:O\n",
    "\n",
    "12. जीआरडी इंटरनेशनल कॉलेज में मनाया तीज का उत्सव | जीआरडी इंटरनेशनल कॉलेज में मनाया तीज का उत्सव - Dainik Bhaskar\n",
    "* जीआरडी:B-ORG, इंटरनेशनल:I-ORG, कॉलेज:I-ORG, में:O, मनाया:O, तीज:B-MISC, का:O, उत्सव:O, I:O, जीआरडी:B-ORG, इंटरनेशनल:I-ORG, कॉलेज:I-ORG, में:O, मनाया:O, तीज:B-MISC, का:O, उत्सव:O, -:O, Dainik:B-ORG, Bhaskar:I-ORG\n",
    "\n",
    "13. एक बार जापान के सिन्धी सेठ आसूमल द्वारा जापान में तकनीकी शिक्षा पाने वाले भारतीय छात्रों को दी […]\n",
    "* एक:O, बार:O, जापान:B-LOC, के:O, सिन्धी:B-MISC, सेठ:O, आसूमल:B-PER, द्वारा:O, जापान:B-LOC, में:O, तकनीकी:O, शिक्षा:O, पाने:O, वाले:O, भारतीय:B-LOC, छात्रों:O, को:O, दी:O, […]:O\n",
    "\n",
    "14. उद्घाटन करने के बाद सभा को संबोधित करते हुए सीएम त्रिवेंद्र ने कहा कि क्षेत्र में प्रस्तावित पंचेश्वर बांध देश के लिए महत्वपूर्ण है, लिहाज़ डूब क्षेत्र की लोगों की जरूरतें पूरा करना राज्य सरकार कर्तव्य है।\n",
    "* उद्घाटन:O, करने:O, के:O, बाद:O, सभा:O, को:O, संबोधित:O, करते:O, हुए:O, सीएम:B-MISC, त्रिवेंद्र:B-PER, ने:O, कहा:O, कि:O, क्षेत्र:O, में:O, प्रस्तावित:O, पंचेश्वर:B-MISC, बांध:O, देश:O, के:O, लिए:O, महत्वपूर्ण:O, है:O, ,:O, लिहाज़:O, डूब:O, क्षेत्र:O, की:O, लोगों:O, की:O, जरूरतें:O, पूरा:O, करना:O, राज्य:O, सरकार:O, कर्तव्य:O, है:O, ।:O\n",
    "\n",
    "15. -12 बजे से 3 बजे तक चेतक ब्रिज से गोविंदपुरा की तरफ आने वाले वाहनों पर प्रतिबंध रहेगा|\n",
    "* -:O, 12:O, बजे:O, से:O, 3:O, बजे:O, तक:O, चेतक:B-LOC, ब्रिज:I-LOC, से:O, गोविंदपुरा:B-LOC, की:O, तरफ:O, आने:O, वाले:O, वाहनों:O, पर:O, प्रतिबंध:O, रहेगा:O, |:O\n",
    "\n",
    "16. फारूक सुबह करीब 11:30 बजे सेक्टर-18 में ईडी कार्यालय पहुंचे और शाम 5:30 बजे बाहर आये।\n",
    "* फारूक:B-PER, सुबह:O, करीब:O, 11:30:O, बजे:O, सेक्टर:B-LOC, -:I-LOC, 18:I-LOC, में:O, ईडी:B-ORG, कार्यालय:O, पहुंचे:O, और:O, शाम:O, 5:30:O, बजे:O, बाहर:O, आये:O, ।:O\n",
    "\n",
    "17. के बारामुला में हुए एक सड़क हादसे में शेरपुर गांव के एक फौजी की मौत हो गई है।\n",
    "* के:O, बारामुला:B-PER, में:O, हुए:O, एक:O, सड़क:O, हादसे:O, में:O, शेरपुर:B-LOC, गांव:I-LOC, के:O, एक:O, फौजी:O, की:O, मौत:O, हो:O, गई:O, है:O, ।:O\n",
    "\n",
    "18. इस बीच , राष्ट्रपति भण्डारी ने कहा हमारें भारत भ्रमण से दों देशों के संबन्धों को मजबूती मिलेंगी । \n",
    "* इस:O, बीच:O, ,:O, राष्ट्रपति:B-MISC, भण्डारी:B-PER, ने:O, कहा:O, हमारें:O, भारत:B-LOC, भ्रमण:O, से:O, दों:O, देशों:O, के:O, संबन्धों:O, को:O, मजबूती:O, मिलेंगी:O, ।:O\n",
    "\n",
    "19. टेक्सास में निजी यात्री विमान दुर्घटनाग्रस्त, दस लोगों की मौत\n",
    "* टेक्सास:B-LOC, में:O, निजी:O, यात्री:O, विमान:O, दुर्घटनाग्रस्त:O, ,:O, दस:O, लोगों:O, की:O, मौत:O\n",
    "\n",
    "20. हाल ही में 18 साल की पूनम राणा ने भी नेहरु पर्वतारोहण संस्थान उत्तरकाशी से प्रशिक्षण लेकर एवरेस्ट फतह किया है.\n",
    "* हाल:O, ही:O, में:O, 18:O, साल:O, की:O, पूनम:B-PER, राणा:I-PER, ने:O, भी:O, नेहरु:B-ORG, पर्वतारोहण:I-ORG, संस्थान:I-ORG, उत्तरकाशी:B-LOC, से:O, प्रशिक्षण:O, लेकर:O, एवरेस्ट:B-MISC, फतह:O, किया:O, है:O, .:O\n",
    "\n",
    "21. 14 मैचों में छह जीत के बाद अंक तालिका में वे पांचवें स्थान पर थी।\n",
    "* 14:O, मैचों:O, में:O, छह:O, जीत:O, के:O, बाद:O, अंक:O, तालिका:O, में:O, वे:O, पांचवें:O, स्थान:O, पर:O, थी:O, ।:O\n",
    "\n",
    "22. लुटने के डर से व्यापारी ने दुकान की जगह थाने से बंटवाई यूरिया\n",
    "* लुटने:O, के:O, डर:O, से:O, व्यापारी:O, ने:O, दुकान:O, की:O, जगह:O, थाने:O, से:O, बंटवाई:O, यूरिया:O\n",
    "\n",
    "23. मध्यप्रदेश / अयोध्या पर फैसले की संभावना; पुलिसकर्मियों की छुट्टी रद्द, इंदौर टेस्ट के दौरान अतिरिक्त बल तैनात होगा\n",
    "* मध्यप्रदेश:B-LOC, /:O, अयोध्या:B-LOC, पर:O, फैसले:O, की:O, संभावना:O, ;:O, पुलिसकर्मियों:O, की:O, छुट्टी:O, रद्द:O, ,:O, इंदौर:B-MISC, टेस्ट:I-MISC, के:O, दौरान:O, अतिरिक्त:O, बल:O, तैनात:O, होगा:O\n",
    "\n",
    "24. प्राप्‍त जानकारी के अनुसार यह हादसा रायबरेली के निकट हरचन्दपुर के बाबापुर के पास सुबह करीब छह बजे हुआ।\n",
    "* प्राप्‍त:O, जानकारी:O, के:O, अनुसार:O, यह:O, हादसा:O, रायबरेली:B-LOC, के:O, निकट:O, हरचन्दपुर:B-LOC, के:O, बाबापुर:B-LOC, के:O, पास:O, सुबह:O, करीब:O, छह:O, बजे:O, हुआ:O, ।:O\n",
    "\n",
    "25. इन लोगों ने बताया कि गांव में भूमिगत जल पीने योग्य नहीं है।\n",
    "* इन:O, लोगों:O, ने:O, बताया:O, कि:O, गांव:O, में:O, भूमिगत:O, जल:O, पीने:O, योग्य:O, नहीं:O, है:O, ।:O\n",
    "\n"
   ]
  },
  {
   "cell_type": "markdown",
   "metadata": {},
   "source": [
    "# Question 3"
   ]
  },
  {
   "cell_type": "markdown",
   "metadata": {},
   "source": [
    "1. इस बार कांग्रेस ने जो घोषणा पत्र जारी किया है उसमें आपके 6000 के सामने कांग्रेस के 72000 भारी पड़ेंगा?\n",
    "* इस:O बार:O कांग्रेस:B-ORG ने:O जो:O घोषणा:O पत्र:O जारी:O किया:O है:O उसमें:O आपके:O 6000:O के:O सामने:O कांग्रेस:B-ORG के:O 72000:O भारी:O पड़ेंगा:O\n",
    "2. घरातील सद्यस्थिती सांगून स्वत:ची कुंडली करून घ्यायची आहे, असे तिने सांगितले.\n",
    "* मोदी:B-PER सरकार:O के:O पहले:O कार्यकाल:O में:O भी:O तीन:O तलाक:O को:O लेकर:O बिल:O लाया:O गया:O था:O, O हालांकि:O तब:O यह:O राज्यसभा:O में:O पास:O नहीं:O हो:O पाया:O था:O\n",
    "3. चुल्हे की संरचना सामान्यतया ब्युटेन पर चलने वाले चुल्हे के समान ही होती है परंतु इनके (बायोगैस चुल्हे) बर्नर में वायु छिद्र का आकार बड़ा होता है।\n",
    "* चुल्हे:O की:O संरचना:O सामान्यतया:O ब्युटेन:O पर:O चलने:O वाले:O चुल्हे:O के:O समान:O ही:O होती:O है:O परंतु:O इनके:O (बायोगैस:O चुल्हे:O) बर्नर:O में:O वायु:O छिद्र:O का:O आकार:O बड़ा:O होता:O है:O\n",
    "4. उसने तुरंत बैंक में जाकर पता किया तो उसके खाते से किसी ने एटीएम के माध्यम से तीस हजार रुपये निकाल लिए थे।\n",
    "* उसने:O तुरंत:O बैंक:O में:O जाकर:O पता:O किया:O तो:O उसके:O खाते:O से:O किसी:O ने:O एटीएम:B-ORG के:O माध्यम:O से:O तीस:O हजार:O रुपये:O निकाल:O लिए:O थे:O\n",
    "5. इससे पहले भी कई अफेयर हुए हैं जिनमें कुछ तो सफल रिलेशनशिप में तब्दील हो गए वहीं कुछ अफेयर सिर्फ अफसाना बनकर रह गए।\n",
    "* इससे:O पहले:O भी:O कई:O अफेयर:O हुए:O हैं:O जिनमें:O कुछ:O तो:O सफल:O रिलेशनशिप:O में:O तब्दील:O हो:O गए:O वहीं:O कुछ:O अफेयर:O सिर्फ:O अफसाना:O बनकर:O रह:O गए:O\n",
    "6. संविधान का ८० प्रतिशत कार्य पुरा हो चुका है ।\n",
    "* संविधान:O का:O ८०:O प्रतिशत:O कार्य:O पुरा:O हो:O चुका:O है:O ।:O\n",
    "7. उनके पिता का कोई पता नहीं चल पाया. साथ ही शादी का सामान यानी गहनों और कपड़ों का भी कुछ पता नहीं चल पाया है.\n",
    "* उनके:O पिता:O का:O कोई:O पता:O नहीं:O चल:O पाया:O ।:O साथ:O ही:O शादी:O का:O सामान:O यानी:O गहनों:O और:O कपड़ों:O का:O भी:O कुछ:O पता:O नहीं:O चल:O पाया:O है:O ।:O\n",
    "8. नीति आयोग के CEO अमिताभ कांत ने कहा कि देश में पिछले तीन साल में प्रति ग्राहक मोबाइल डाटा कंज्मप्शन में 142 फीसदी की ग्रोथ दर्ज की गई है।\n",
    "* नीति:B-ORG आयोग:I-ORG के:I-ORG CEO:I-ORG अमिताभ:O कांत:O ने:O कहा:O कि:O देश:O में:O पिछले:O तीन:O साल:O में:O प्रति:O ग्राहक:O मोबाइल:O डाटा:O कंज्मप्शन:O में:O 142:O फीसदी:O की:O ग्रोथ:O दर्ज:O की:O गई:O है:O ।:O\n",
    "9. इनेलो हर वर्ग के लोगों की सुरक्षा करने में सक्षम : सतबीर कादियान\n",
    "* इनेलो:B-ORG हर:O वर्ग:O के:O लोगों:O की:O सुरक्षा:O करने:O में:O सक्षम:O :O सतबीर:O कादियान:O\n",
    "10. मीडिया रिपोर्टों के मुताबिक एक चर्च के बाहर सुरक्षाकर्मी एक महिला और उसके दो बच्चों को राेक कर उनसे पूछताछ कर रही थी।\n",
    "* मीडिया:O रिपोर्टों:O के:O मुताबिक:O एक:O चर्च:O के:O बाहर:O सुरक्षाकर्मी:O एक:O महिला:O और:O उसके:O दो:O बच्चों:O को:O राेक:O कर:O उनसे:O पूछताछ:O कर:O रही:O थी:O ।:O\n",
    "11. गौरतलब है कि शेयर बाजारों में मंगलवार को लगातार दूसरे दिन गिरावट आयी और सेंसेक्स 642 अंक टूटकर 36,481.09 अंक पर बंद हुआ।\n",
    "* गौरतलब:B-ORG है:O कि:O शेयर:O बाजारों:O में:O मंगलवार:O को:O लगातार:O दूसरे:O दिन:O गिरावट:O आयी:O और:O सेंसेक्स:B-ORG 642:O अंक:O टूटकर:O 36,481.09:O अंक:O पर:O बंद:O हुआ:O\n",
    "12. जीआरडी इंटरनेशनल कॉलेज में मनाया तीज का उत्सव | जीआरडी इंटरनेशनल कॉलेज में मनाया तीज का उत्सव - Dainik Bhaskar\n",
    "* जीआरडी:B-ORG इंटरनेशनल:I-ORG कॉलेज:I-ORG में:O मनाया:O तीज:B-EVENT का:O उत्सव:O |:O जीआरडी:B-ORG इंटरनेशनल:I-ORG कॉलेज:I-ORG में:O मनाया:O तीज:B-EVENT का:O उत्सव:O -:O Dainik:B-ORG Bhaskar:I-ORG\n",
    "13. एक बार जापान के सिन्धी सेठ आसूमल द्वारा जापान में तकनीकी शिक्षा पाने वाले भारतीय छात्रों को दी […]\n",
    "* एक:O बार:O जापान:B-LOC के:I-LOC सिन्धी:I-PER सेठ:I-PER आसूमल:I-PER द्वारा:O जापान:B-LOC में:O तकनीकी:O शिक्षा:O पाने:O वाले:O भारतीय:B-MISC छात्रों:O को:O दी:O …\n",
    "14. उद्घाटन करने के बाद सभा को संबोधित करते हुए सीएम त्रिवेंद्र ने कहा कि क्षेत्र में प्रस्तावित पंचेश्वर बांध देश के लिए महत्वपूर्ण है, लिहाज़ डूब क्षेत्र की लोगों की जरूरतें पूरा करना राज्य सरकार कर्तव्य है।\n",
    "* उद्घाटन:O करने:O के:O बाद:O सभा:O को:O संबोधित:O करते:O हुए:O सीएम:B-PER त्रिवेंद्र:I-PER ने:O कहा:O कि:O क्षेत्र:O में:O प्रस्तावित:O पंचेश्वर:B-LOC बांध:O देश:O के:O लिए:O महत्वपूर्ण:O है:O, लिहाज़:O डूब:O क्षेत्र:O की:O लोगों:O की:O जरूरतें:O पूरा:O करना:O राज्य:O सरकार:O कर्तव्य:O है:O।\n",
    "15. -12 बजे से 3 बजे तक चेतक ब्रिज से गोविंदपुरा की तरफ आने वाले वाहनों पर प्रतिबंध रहेगा|\n",
    "* -12:O बजे:O से:O 3:O बजे:O तक:O चेतक:B-LOC ब्रिज:I-LOC से:O गोविंदपुरा:B-LOC की:O तरफ:O आने:O वाले:O वाहनों:O पर:O प्रतिबंध:O रहेगा:O|\n",
    "16. फारूक सुबह करीब 11:30 बजे सेक्टर-18 में ईडी कार्यालय पहुंचे और शाम 5:30 बजे बाहर आये।\n",
    "* फारूक:B-PER सुबह:O करीब:O 11:30:O बजे:O सेक्टर-18:B-LOC में:O ईडी:B-ORG कार्यालय:I-ORG पहुंचे:O और:O शाम:O 5:30:O बजे:O बाहर:O आये:O।\n",
    "17. के बारामुला में हुए एक सड़क हादसे में शेरपुर गांव के एक फौजी की मौत हो गई है।\n",
    "* के:O बारामुला:B-LOC में:O हुए:O एक:O सड़क:O हादसे:O में:O शेरपुर:B-LOC गांव:B-LOC के:O एक:O फौजी:O की:O मौत:O हो:O गई:O है।O\n",
    "18. इस बीच , राष्ट्रपति भण्डारी ने कहा हमारें भारत भ्रमण से दों देशों के संबन्धों को मजबूती मिलेंगी ।\n",
    "* इस:O बीच:O ,:O राष्ट्रपति:O भण्डारी:B-PER ने:O कहा:O हमारें:O भारत:O भ्रमण:O से:O दों:O देशों:O के:O संबन्धों:O को:O मजबूती:O मिलेंगी:O ।:O\n",
    "19. टेक्सास में निजी यात्री विमान दुर्घटनाग्रस्त, दस लोगों की मौत\n",
    "* टेक्सास:B-LOC में:O निजी:O यात्री:O विमान:O दुर्घटनाग्रस्त:O ,:O दस:O लोगों:O की:O मौत:O\n",
    "20. हाल ही में 18 साल की पूनम राणा ने भी नेहरु पर्वतारोहण संस्थान उत्तरकाशी से प्रशिक्षण लेकर एवरेस्ट फतह किया है.\n",
    "* हाल ही:O में:O 18:O साल:O की:O पूनम:B-PER राणा:I-PER ने:O भी:O नेहरु:B-PER पर्वतारोहण:I-PER संस्थान:I-ORG उत्तरकाशी:I-LOC से:O प्रशिक्षण:O लेकर:O एवरेस्ट:B-LOC फतह:O किया:O है:O .:O\n",
    "21. 14 मैचों में छह जीत के बाद अंक तालिका में वे पांचवें स्थान पर थी।\n",
    "* 14:O मैचों:O में:O छह:O जीत:O के:O बाद:O अंक:O तालिका:O में:O वे:O पांचवें:O स्थान:O पर:O थी:O ।:O\n",
    "22. लुटने के डर से व्यापारी ने दुकान की जगह थाने से बंटवाई यूरिया\n",
    "* लुटने:O के:O डर:O से:O व्यापारी:O ने:O दुकान:O की:O जगह:O थाने:O से:O बंटवाई:O यूरिया:B-MISC\n",
    "23. मध्यप्रदेश / अयोध्या पर फैसले की संभावना; पुलिसकर्मियों की छुट्टी रद्द, इंदौर टेस्ट के दौरान अतिरिक्त बल तैनात होगा\n",
    "* मध्यप्रदेश:B-LOC /:O अयोध्या:B-LOC पर:O फैसले:O की:O संभावना:O ;:O पुलिसकर्मियों:O की:O छुट्टी:O रद्द:O ,:O इंदौर:B-LOC टेस्ट:O के:O दौरान:O अतिरिक्त:O बल:O तैनात:O होगा:O\n",
    "24. प्राप्‍त जानकारी के अनुसार यह हादसा रायबरेली के निकट हरचन्दपुर के बाबापुर के पास सुबह करीब छह बजे हुआ।\n",
    "* प्राप्‍त:O जानकारी:O के:O अनुसार:O यह:O हादसा:O रायबरेली:B-LOC के:O निकट:O हरचन्दपुर:B-LOC के:O बाबापुर:B-LOC के:O पास:O सुबह:O करीब:O छह:O बजे:O हुआ:O ।:O\n",
    "25. इन लोगों ने बताया कि गांव में भूमिगत जल पीने योग्य नहीं है।\n",
    "* इन:O लोगों:O ने:O बताया:O कि:O गांव:B-LOC में:O भूमिगत:O जल:O पीने:O योग्य:O नहीं:O है:O ।:O\n",
    "\n",
    "\n",
    "\n",
    "\n",
    "\n",
    "\n",
    "\n",
    "\n",
    "\n",
    "\n",
    "\n",
    "\n",
    "\n",
    "\n",
    "\n",
    "\n",
    "\n",
    "\n",
    "\n",
    "\n",
    "\n",
    "\n",
    "\n",
    "\n",
    "\n",
    "\n",
    "\n",
    "\n",
    "\n",
    "\n",
    "\n",
    "\n",
    "\n",
    "\n",
    "\n",
    "\n",
    "\n",
    "\n",
    "\n",
    "\n",
    "\n",
    "\n",
    "\n",
    "\n",
    "\n",
    "\n",
    "\n",
    "\n"
   ]
  },
  {
   "cell_type": "markdown",
   "metadata": {},
   "source": [
    "# Question 4"
   ]
  },
  {
   "cell_type": "markdown",
   "metadata": {},
   "source": [
    "### Pre_processing"
   ]
  },
  {
   "cell_type": "code",
   "execution_count": 1,
   "metadata": {
    "execution": {
     "iopub.execute_input": "2024-03-13T16:55:41.014844Z",
     "iopub.status.busy": "2024-03-13T16:55:41.014368Z",
     "iopub.status.idle": "2024-03-13T16:55:41.061554Z",
     "shell.execute_reply": "2024-03-13T16:55:41.060198Z",
     "shell.execute_reply.started": "2024-03-13T16:55:41.014791Z"
    }
   },
   "outputs": [],
   "source": [
    "# loading tags identified manually\n",
    "with open('/kaggle/input/q1-dataset/Q1 manual tags.txt') as f:\n",
    "    q1_manual_tags = f.read()\n",
    "q1_manual_tags = q1_manual_tags.split()"
   ]
  },
  {
   "cell_type": "code",
   "execution_count": 2,
   "metadata": {
    "execution": {
     "iopub.execute_input": "2024-03-13T16:55:42.151127Z",
     "iopub.status.busy": "2024-03-13T16:55:42.149872Z",
     "iopub.status.idle": "2024-03-13T16:55:42.162137Z",
     "shell.execute_reply": "2024-03-13T16:55:42.160823Z",
     "shell.execute_reply.started": "2024-03-13T16:55:42.151069Z"
    }
   },
   "outputs": [],
   "source": [
    "with open('/kaggle/input/q1-new-datas/q1_manual_corpus.txt') as f:\n",
    "    ground_truth_tokens = f.read()\n",
    "ground_truth_tokens = ground_truth_tokens.split()\n",
    "ground_truth_ner = ground_truth_tokens[:499]\n",
    "ground_truth_bert = ground_truth_tokens[:501]"
   ]
  },
  {
   "cell_type": "markdown",
   "metadata": {},
   "source": [
    "## Testing output of IndicNER against Q1"
   ]
  },
  {
   "cell_type": "code",
   "execution_count": 3,
   "metadata": {
    "execution": {
     "iopub.execute_input": "2024-03-13T16:55:44.866807Z",
     "iopub.status.busy": "2024-03-13T16:55:44.866306Z",
     "iopub.status.idle": "2024-03-13T16:55:44.877850Z",
     "shell.execute_reply": "2024-03-13T16:55:44.875674Z",
     "shell.execute_reply.started": "2024-03-13T16:55:44.866765Z"
    }
   },
   "outputs": [],
   "source": [
    "import pickle\n",
    "\n",
    "# File path from where you want to load the object\n",
    "file_path = '/kaggle/input/fine-tuned-tags/indic_ner_tags.pkl'\n",
    "\n",
    "# Open the file in binary read mode\n",
    "with open(file_path, 'rb') as file:\n",
    "    # Deserialize the object\n",
    "    indic_ner_tags = pickle.load(file)"
   ]
  },
  {
   "cell_type": "code",
   "execution_count": 4,
   "metadata": {
    "execution": {
     "iopub.execute_input": "2024-03-13T16:55:47.535369Z",
     "iopub.status.busy": "2024-03-13T16:55:47.534936Z",
     "iopub.status.idle": "2024-03-13T16:55:48.384474Z",
     "shell.execute_reply": "2024-03-13T16:55:48.383202Z",
     "shell.execute_reply.started": "2024-03-13T16:55:47.535333Z"
    }
   },
   "outputs": [
    {
     "name": "stdout",
     "output_type": "stream",
     "text": [
      "Precision:\t 28.47\n",
      "Recall: \t 31.22\n",
      "F1-score:\t 29.02\n"
     ]
    },
    {
     "name": "stderr",
     "output_type": "stream",
     "text": [
      "/opt/conda/lib/python3.10/site-packages/sklearn/metrics/_classification.py:1344: UndefinedMetricWarning: Precision is ill-defined and being set to 0.0 in labels with no predicted samples. Use `zero_division` parameter to control this behavior.\n",
      "  _warn_prf(average, modifier, msg_start, len(result))\n"
     ]
    }
   ],
   "source": [
    "from sklearn.metrics import precision_score, recall_score, f1_score\n",
    "\n",
    "# Calculate precision, recall, and F1-score\n",
    "precision = precision_score(ground_truth_ner, indic_ner_tags, average='macro')\n",
    "recall = recall_score(ground_truth_ner, indic_ner_tags, average='macro')\n",
    "f1 = f1_score(ground_truth_ner, indic_ner_tags, average='macro')\n",
    "\n",
    "print(\"Precision:\\t {:.2f}\".format(precision*100))\n",
    "print(\"Recall: \\t {:.2f}\".format(recall*100))\n",
    "print(\"F1-score:\\t {:.2f}\".format(f1*100))"
   ]
  },
  {
   "cell_type": "markdown",
   "metadata": {},
   "source": [
    "## Testing output of IndicBERT against Q1"
   ]
  },
  {
   "cell_type": "code",
   "execution_count": 5,
   "metadata": {
    "execution": {
     "iopub.execute_input": "2024-03-13T16:55:51.242440Z",
     "iopub.status.busy": "2024-03-13T16:55:51.241846Z",
     "iopub.status.idle": "2024-03-13T16:55:51.253609Z",
     "shell.execute_reply": "2024-03-13T16:55:51.251631Z",
     "shell.execute_reply.started": "2024-03-13T16:55:51.242402Z"
    }
   },
   "outputs": [],
   "source": [
    "import pickle\n",
    "\n",
    "# File path from where you want to load the object\n",
    "file_path = '/kaggle/input/fine-tuned-tags/indic_bert_tags.pkl'\n",
    "\n",
    "# Open the file in binary read mode\n",
    "with open(file_path, 'rb') as file:\n",
    "    # Deserialize the object\n",
    "    indic_bert_tags = pickle.load(file)"
   ]
  },
  {
   "cell_type": "code",
   "execution_count": 6,
   "metadata": {
    "execution": {
     "iopub.execute_input": "2024-03-13T16:55:52.330456Z",
     "iopub.status.busy": "2024-03-13T16:55:52.330014Z",
     "iopub.status.idle": "2024-03-13T16:55:52.360721Z",
     "shell.execute_reply": "2024-03-13T16:55:52.358418Z",
     "shell.execute_reply.started": "2024-03-13T16:55:52.330422Z"
    }
   },
   "outputs": [
    {
     "name": "stdout",
     "output_type": "stream",
     "text": [
      "Precision:\t 16.91\n",
      "Recall: \t 14.16\n",
      "F1-score:\t 14.66\n"
     ]
    },
    {
     "name": "stderr",
     "output_type": "stream",
     "text": [
      "/opt/conda/lib/python3.10/site-packages/sklearn/metrics/_classification.py:1344: UndefinedMetricWarning: Precision is ill-defined and being set to 0.0 in labels with no predicted samples. Use `zero_division` parameter to control this behavior.\n",
      "  _warn_prf(average, modifier, msg_start, len(result))\n"
     ]
    }
   ],
   "source": [
    "from sklearn.metrics import precision_score, recall_score, f1_score\n",
    "\n",
    "# Calculate precision, recall, and F1-score\n",
    "precision = precision_score(ground_truth_bert, indic_bert_tags, average='macro')\n",
    "recall = recall_score(ground_truth_bert, indic_bert_tags, average='macro')\n",
    "f1 = f1_score(ground_truth_bert, indic_bert_tags, average='macro')\n",
    "\n",
    "print(\"Precision:\\t {:.2f}\".format(precision*100))\n",
    "print(\"Recall: \\t {:.2f}\".format(recall*100))\n",
    "print(\"F1-score:\\t {:.2f}\".format(f1*100))"
   ]
  },
  {
   "cell_type": "markdown",
   "metadata": {},
   "source": [
    "## Testing Output of Q3 against Q1"
   ]
  },
  {
   "cell_type": "code",
   "execution_count": 7,
   "metadata": {
    "execution": {
     "iopub.execute_input": "2024-03-13T16:55:54.533896Z",
     "iopub.status.busy": "2024-03-13T16:55:54.533159Z",
     "iopub.status.idle": "2024-03-13T16:55:54.544392Z",
     "shell.execute_reply": "2024-03-13T16:55:54.542877Z",
     "shell.execute_reply.started": "2024-03-13T16:55:54.533838Z"
    }
   },
   "outputs": [],
   "source": [
    "with open('/kaggle/input/q1-dataset/q3_GPT_corpus.txt') as f:\n",
    "    gpt_predicted_tokens = f.read()\n",
    "gpt_predicted_tokens = gpt_predicted_tokens.split()"
   ]
  },
  {
   "cell_type": "code",
   "execution_count": 8,
   "metadata": {
    "execution": {
     "iopub.execute_input": "2024-03-13T16:55:55.550754Z",
     "iopub.status.busy": "2024-03-13T16:55:55.550184Z",
     "iopub.status.idle": "2024-03-13T16:55:55.581049Z",
     "shell.execute_reply": "2024-03-13T16:55:55.579828Z",
     "shell.execute_reply.started": "2024-03-13T16:55:55.550718Z"
    }
   },
   "outputs": [
    {
     "name": "stdout",
     "output_type": "stream",
     "text": [
      "Precision:\t 14.39\n",
      "Recall: \t 14.96\n",
      "F1-score:\t 14.66\n"
     ]
    },
    {
     "name": "stderr",
     "output_type": "stream",
     "text": [
      "/opt/conda/lib/python3.10/site-packages/sklearn/metrics/_classification.py:1344: UndefinedMetricWarning: Precision is ill-defined and being set to 0.0 in labels with no predicted samples. Use `zero_division` parameter to control this behavior.\n",
      "  _warn_prf(average, modifier, msg_start, len(result))\n",
      "/opt/conda/lib/python3.10/site-packages/sklearn/metrics/_classification.py:1344: UndefinedMetricWarning: Recall is ill-defined and being set to 0.0 in labels with no true samples. Use `zero_division` parameter to control this behavior.\n",
      "  _warn_prf(average, modifier, msg_start, len(result))\n"
     ]
    }
   ],
   "source": [
    "from sklearn.metrics import precision_score, recall_score, f1_score\n",
    "\n",
    "# Calculate precision, recall, and F1-score\n",
    "precision = precision_score(ground_truth_tokens, gpt_predicted_tokens, average='macro')\n",
    "recall = recall_score(ground_truth_tokens, gpt_predicted_tokens, average='macro')\n",
    "f1 = f1_score(ground_truth_tokens, gpt_predicted_tokens, average='macro')\n",
    "\n",
    "print(\"Precision:\\t {:.2f}\".format(precision*100))\n",
    "print(\"Recall: \\t {:.2f}\".format(recall*100))\n",
    "print(\"F1-score:\\t {:.2f}\".format(f1*100))"
   ]
  },
  {
   "cell_type": "markdown",
   "metadata": {},
   "source": [
    "Below Code explains why Precision, Recall and F-Score are so low despite the fact many of the 'O' tags are matching"
   ]
  },
  {
   "cell_type": "code",
   "execution_count": 9,
   "metadata": {
    "execution": {
     "iopub.execute_input": "2024-03-13T16:55:57.462001Z",
     "iopub.status.busy": "2024-03-13T16:55:57.461281Z",
     "iopub.status.idle": "2024-03-13T16:55:57.482458Z",
     "shell.execute_reply": "2024-03-13T16:55:57.480694Z",
     "shell.execute_reply.started": "2024-03-13T16:55:57.461952Z"
    }
   },
   "outputs": [
    {
     "name": "stdout",
     "output_type": "stream",
     "text": [
      "Class O:\t Precision = 90.16\n",
      "Class B-ORG:\t Precision = 18.18\n",
      "Class I-ORG:\t Precision = 30.00\n",
      "Class B-MISC:\t Precision = 0.00\n",
      "Class B-PER:\t Precision = 0.00\n",
      "Class I-PER:\t Precision = 0.00\n",
      "Class B-LOC:\t Precision = 5.56\n",
      "Class I-LOC:\t Precision = 0.00\n",
      "Class I-MISC:\t Precision = 0.00\n",
      "Class B-EVENT:\t Precision = 0.00\n"
     ]
    },
    {
     "name": "stderr",
     "output_type": "stream",
     "text": [
      "/opt/conda/lib/python3.10/site-packages/sklearn/metrics/_classification.py:1344: UndefinedMetricWarning: Precision is ill-defined and being set to 0.0 in labels with no predicted samples. Use `zero_division` parameter to control this behavior.\n",
      "  _warn_prf(average, modifier, msg_start, len(result))\n"
     ]
    }
   ],
   "source": [
    "from sklearn.metrics import precision_score\n",
    "# Define class labels\n",
    "class_labels = [\"O\",\"B-ORG\",\"I-ORG\",\"B-MISC\",\"B-PER\",\"I-PER\",\"B-LOC\",\"I-LOC\",\"I-MISC\",\"B-EVENT\",]  # list containing class labels corresponding to their indices\n",
    "\n",
    "# Calculate precision for each class\n",
    "precision_per_class = precision_score(ground_truth_tokens, gpt_predicted_tokens, average=None, labels=class_labels)\n",
    "\n",
    "# Print precision for each class\n",
    "for label, precision in zip(class_labels, precision_per_class):\n",
    "    print(f\"Class {label}:\\t Precision = {precision*100:.2f}\")\n"
   ]
  },
  {
   "cell_type": "code",
   "execution_count": null,
   "metadata": {},
   "outputs": [],
   "source": []
  }
 ],
 "metadata": {
  "kaggle": {
   "accelerator": "none",
   "dataSources": [
    {
     "datasetId": 4592952,
     "sourceId": 7835711,
     "sourceType": "datasetVersion"
    },
    {
     "datasetId": 4592968,
     "sourceId": 7835729,
     "sourceType": "datasetVersion"
    },
    {
     "datasetId": 4592983,
     "sourceId": 7835750,
     "sourceType": "datasetVersion"
    }
   ],
   "dockerImageVersionId": 30664,
   "isGpuEnabled": false,
   "isInternetEnabled": true,
   "language": "python",
   "sourceType": "notebook"
  },
  "kernelspec": {
   "display_name": "Python 3 (ipykernel)",
   "language": "python",
   "name": "python3"
  },
  "language_info": {
   "codemirror_mode": {
    "name": "ipython",
    "version": 3
   },
   "file_extension": ".py",
   "mimetype": "text/x-python",
   "name": "python",
   "nbconvert_exporter": "python",
   "pygments_lexer": "ipython3",
   "version": "3.12.2"
  }
 },
 "nbformat": 4,
 "nbformat_minor": 4
}
