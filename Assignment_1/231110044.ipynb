{
  "metadata": {
    "kernelspec": {
      "name": "python3",
      "display_name": "Python 3"
    },
    "language_info": {
      "name": "python",
      "version": "3.10.13",
      "mimetype": "text/x-python",
      "codemirror_mode": {
        "name": "ipython",
        "version": 3
      },
      "pygments_lexer": "ipython3",
      "nbconvert_exporter": "python",
      "file_extension": ".py"
    },
    "colab": {
      "provenance": [],
      "collapsed_sections": [
        "8dd90250-c955-4334-b850-9b08b8340a52",
        "f3b2541d-cff6-48c3-ae67-8655be83e666",
        "LQeUjX4d6B4f",
        "bPzqmxE6gk9_",
        "c1FEAevnGGbt",
        "IXNe4unCsKza",
        "V-TfC0HTsR8h",
        "jdzar2I2x_iQ",
        "mUQRaFFt36vt",
        "LrFh_cGh4oIo",
        "VGDqWIrr40Hy",
        "FBVyG4ir6aay",
        "bRvgm-ye7JPk",
        "4_lVtnN7BC4L",
        "bVahdRZGB7_N",
        "DKsOOdp-Ddcx",
        "JHx9rqHGD16Y",
        "PBswrqEkEXF4",
        "4K3_IasZEs9J",
        "vcIGjE3nE5vA",
        "Zb7yOcIoZtmt",
        "74y8F84GaoFZ",
        "7XCq8yMsa8hT",
        "5KnhxhRkh3sg",
        "15PBuW5aiCEf",
        "gPFm5EKSiWfL",
        "uAAjLOtwivXz",
        "-t9WLdx-j07r",
        "zABjRtvQkH9P",
        "wEB1A-hza9bG",
        "cTg27QQiblaj",
        "fGqJgdUTjzg0",
        "h6IrQMd2j2TW",
        "i9msAwULj5I0",
        "7vABuXxAFTP5"
      ]
    },
    "widgets": {
      "application/vnd.jupyter.widget-state+json": {
        "43def3b8d9574790b193ec50425db5e4": {
          "model_module": "@jupyter-widgets/controls",
          "model_name": "HBoxModel",
          "model_module_version": "1.5.0",
          "state": {
            "_dom_classes": [],
            "_model_module": "@jupyter-widgets/controls",
            "_model_module_version": "1.5.0",
            "_model_name": "HBoxModel",
            "_view_count": null,
            "_view_module": "@jupyter-widgets/controls",
            "_view_module_version": "1.5.0",
            "_view_name": "HBoxView",
            "box_style": "",
            "children": [
              "IPY_MODEL_9d4fe9cc89f641aea638c0cc1fb63200",
              "IPY_MODEL_7f24a7b9bdd54de4ac2b2cf8f2de9b7a",
              "IPY_MODEL_1bd604c36a6e4d1983c089065ed6a70a"
            ],
            "layout": "IPY_MODEL_e952fecf01af4e7ba2e1dcf7c403886b"
          }
        },
        "9d4fe9cc89f641aea638c0cc1fb63200": {
          "model_module": "@jupyter-widgets/controls",
          "model_name": "HTMLModel",
          "model_module_version": "1.5.0",
          "state": {
            "_dom_classes": [],
            "_model_module": "@jupyter-widgets/controls",
            "_model_module_version": "1.5.0",
            "_model_name": "HTMLModel",
            "_view_count": null,
            "_view_module": "@jupyter-widgets/controls",
            "_view_module_version": "1.5.0",
            "_view_name": "HTMLView",
            "description": "",
            "description_tooltip": null,
            "layout": "IPY_MODEL_11e187bdc06648cdb79bb2b8840a8df4",
            "placeholder": "​",
            "style": "IPY_MODEL_60dbc27e5bd541f1a448de69eef161af",
            "value": "config.json: 100%"
          }
        },
        "7f24a7b9bdd54de4ac2b2cf8f2de9b7a": {
          "model_module": "@jupyter-widgets/controls",
          "model_name": "FloatProgressModel",
          "model_module_version": "1.5.0",
          "state": {
            "_dom_classes": [],
            "_model_module": "@jupyter-widgets/controls",
            "_model_module_version": "1.5.0",
            "_model_name": "FloatProgressModel",
            "_view_count": null,
            "_view_module": "@jupyter-widgets/controls",
            "_view_module_version": "1.5.0",
            "_view_name": "ProgressView",
            "bar_style": "success",
            "description": "",
            "description_tooltip": null,
            "layout": "IPY_MODEL_22f3ac646b7147f6ad8a18c4deaff749",
            "max": 507,
            "min": 0,
            "orientation": "horizontal",
            "style": "IPY_MODEL_730e80d965984d87b5d404e6c99e1c62",
            "value": 507
          }
        },
        "1bd604c36a6e4d1983c089065ed6a70a": {
          "model_module": "@jupyter-widgets/controls",
          "model_name": "HTMLModel",
          "model_module_version": "1.5.0",
          "state": {
            "_dom_classes": [],
            "_model_module": "@jupyter-widgets/controls",
            "_model_module_version": "1.5.0",
            "_model_name": "HTMLModel",
            "_view_count": null,
            "_view_module": "@jupyter-widgets/controls",
            "_view_module_version": "1.5.0",
            "_view_name": "HTMLView",
            "description": "",
            "description_tooltip": null,
            "layout": "IPY_MODEL_15081aa425f6443dbd8da1a79ce750f9",
            "placeholder": "​",
            "style": "IPY_MODEL_6209a98f8b274ff68c99327db015dd95",
            "value": " 507/507 [00:00&lt;00:00, 29.4kB/s]"
          }
        },
        "e952fecf01af4e7ba2e1dcf7c403886b": {
          "model_module": "@jupyter-widgets/base",
          "model_name": "LayoutModel",
          "model_module_version": "1.2.0",
          "state": {
            "_model_module": "@jupyter-widgets/base",
            "_model_module_version": "1.2.0",
            "_model_name": "LayoutModel",
            "_view_count": null,
            "_view_module": "@jupyter-widgets/base",
            "_view_module_version": "1.2.0",
            "_view_name": "LayoutView",
            "align_content": null,
            "align_items": null,
            "align_self": null,
            "border": null,
            "bottom": null,
            "display": null,
            "flex": null,
            "flex_flow": null,
            "grid_area": null,
            "grid_auto_columns": null,
            "grid_auto_flow": null,
            "grid_auto_rows": null,
            "grid_column": null,
            "grid_gap": null,
            "grid_row": null,
            "grid_template_areas": null,
            "grid_template_columns": null,
            "grid_template_rows": null,
            "height": null,
            "justify_content": null,
            "justify_items": null,
            "left": null,
            "margin": null,
            "max_height": null,
            "max_width": null,
            "min_height": null,
            "min_width": null,
            "object_fit": null,
            "object_position": null,
            "order": null,
            "overflow": null,
            "overflow_x": null,
            "overflow_y": null,
            "padding": null,
            "right": null,
            "top": null,
            "visibility": null,
            "width": null
          }
        },
        "11e187bdc06648cdb79bb2b8840a8df4": {
          "model_module": "@jupyter-widgets/base",
          "model_name": "LayoutModel",
          "model_module_version": "1.2.0",
          "state": {
            "_model_module": "@jupyter-widgets/base",
            "_model_module_version": "1.2.0",
            "_model_name": "LayoutModel",
            "_view_count": null,
            "_view_module": "@jupyter-widgets/base",
            "_view_module_version": "1.2.0",
            "_view_name": "LayoutView",
            "align_content": null,
            "align_items": null,
            "align_self": null,
            "border": null,
            "bottom": null,
            "display": null,
            "flex": null,
            "flex_flow": null,
            "grid_area": null,
            "grid_auto_columns": null,
            "grid_auto_flow": null,
            "grid_auto_rows": null,
            "grid_column": null,
            "grid_gap": null,
            "grid_row": null,
            "grid_template_areas": null,
            "grid_template_columns": null,
            "grid_template_rows": null,
            "height": null,
            "justify_content": null,
            "justify_items": null,
            "left": null,
            "margin": null,
            "max_height": null,
            "max_width": null,
            "min_height": null,
            "min_width": null,
            "object_fit": null,
            "object_position": null,
            "order": null,
            "overflow": null,
            "overflow_x": null,
            "overflow_y": null,
            "padding": null,
            "right": null,
            "top": null,
            "visibility": null,
            "width": null
          }
        },
        "60dbc27e5bd541f1a448de69eef161af": {
          "model_module": "@jupyter-widgets/controls",
          "model_name": "DescriptionStyleModel",
          "model_module_version": "1.5.0",
          "state": {
            "_model_module": "@jupyter-widgets/controls",
            "_model_module_version": "1.5.0",
            "_model_name": "DescriptionStyleModel",
            "_view_count": null,
            "_view_module": "@jupyter-widgets/base",
            "_view_module_version": "1.2.0",
            "_view_name": "StyleView",
            "description_width": ""
          }
        },
        "22f3ac646b7147f6ad8a18c4deaff749": {
          "model_module": "@jupyter-widgets/base",
          "model_name": "LayoutModel",
          "model_module_version": "1.2.0",
          "state": {
            "_model_module": "@jupyter-widgets/base",
            "_model_module_version": "1.2.0",
            "_model_name": "LayoutModel",
            "_view_count": null,
            "_view_module": "@jupyter-widgets/base",
            "_view_module_version": "1.2.0",
            "_view_name": "LayoutView",
            "align_content": null,
            "align_items": null,
            "align_self": null,
            "border": null,
            "bottom": null,
            "display": null,
            "flex": null,
            "flex_flow": null,
            "grid_area": null,
            "grid_auto_columns": null,
            "grid_auto_flow": null,
            "grid_auto_rows": null,
            "grid_column": null,
            "grid_gap": null,
            "grid_row": null,
            "grid_template_areas": null,
            "grid_template_columns": null,
            "grid_template_rows": null,
            "height": null,
            "justify_content": null,
            "justify_items": null,
            "left": null,
            "margin": null,
            "max_height": null,
            "max_width": null,
            "min_height": null,
            "min_width": null,
            "object_fit": null,
            "object_position": null,
            "order": null,
            "overflow": null,
            "overflow_x": null,
            "overflow_y": null,
            "padding": null,
            "right": null,
            "top": null,
            "visibility": null,
            "width": null
          }
        },
        "730e80d965984d87b5d404e6c99e1c62": {
          "model_module": "@jupyter-widgets/controls",
          "model_name": "ProgressStyleModel",
          "model_module_version": "1.5.0",
          "state": {
            "_model_module": "@jupyter-widgets/controls",
            "_model_module_version": "1.5.0",
            "_model_name": "ProgressStyleModel",
            "_view_count": null,
            "_view_module": "@jupyter-widgets/base",
            "_view_module_version": "1.2.0",
            "_view_name": "StyleView",
            "bar_color": null,
            "description_width": ""
          }
        },
        "15081aa425f6443dbd8da1a79ce750f9": {
          "model_module": "@jupyter-widgets/base",
          "model_name": "LayoutModel",
          "model_module_version": "1.2.0",
          "state": {
            "_model_module": "@jupyter-widgets/base",
            "_model_module_version": "1.2.0",
            "_model_name": "LayoutModel",
            "_view_count": null,
            "_view_module": "@jupyter-widgets/base",
            "_view_module_version": "1.2.0",
            "_view_name": "LayoutView",
            "align_content": null,
            "align_items": null,
            "align_self": null,
            "border": null,
            "bottom": null,
            "display": null,
            "flex": null,
            "flex_flow": null,
            "grid_area": null,
            "grid_auto_columns": null,
            "grid_auto_flow": null,
            "grid_auto_rows": null,
            "grid_column": null,
            "grid_gap": null,
            "grid_row": null,
            "grid_template_areas": null,
            "grid_template_columns": null,
            "grid_template_rows": null,
            "height": null,
            "justify_content": null,
            "justify_items": null,
            "left": null,
            "margin": null,
            "max_height": null,
            "max_width": null,
            "min_height": null,
            "min_width": null,
            "object_fit": null,
            "object_position": null,
            "order": null,
            "overflow": null,
            "overflow_x": null,
            "overflow_y": null,
            "padding": null,
            "right": null,
            "top": null,
            "visibility": null,
            "width": null
          }
        },
        "6209a98f8b274ff68c99327db015dd95": {
          "model_module": "@jupyter-widgets/controls",
          "model_name": "DescriptionStyleModel",
          "model_module_version": "1.5.0",
          "state": {
            "_model_module": "@jupyter-widgets/controls",
            "_model_module_version": "1.5.0",
            "_model_name": "DescriptionStyleModel",
            "_view_count": null,
            "_view_module": "@jupyter-widgets/base",
            "_view_module_version": "1.2.0",
            "_view_name": "StyleView",
            "description_width": ""
          }
        },
        "d44ec017298b472bbec5cea437d1df35": {
          "model_module": "@jupyter-widgets/controls",
          "model_name": "HBoxModel",
          "model_module_version": "1.5.0",
          "state": {
            "_dom_classes": [],
            "_model_module": "@jupyter-widgets/controls",
            "_model_module_version": "1.5.0",
            "_model_name": "HBoxModel",
            "_view_count": null,
            "_view_module": "@jupyter-widgets/controls",
            "_view_module_version": "1.5.0",
            "_view_name": "HBoxView",
            "box_style": "",
            "children": [
              "IPY_MODEL_867ad2d2ef5541619bf49dc5397bd090",
              "IPY_MODEL_03b9047ba4a548bc921ec8862a9c75dd",
              "IPY_MODEL_75c8f66f4c214844a872ec69fd5e635e"
            ],
            "layout": "IPY_MODEL_d3493a5d0c094f7f91e39a5ef5ef461d"
          }
        },
        "867ad2d2ef5541619bf49dc5397bd090": {
          "model_module": "@jupyter-widgets/controls",
          "model_name": "HTMLModel",
          "model_module_version": "1.5.0",
          "state": {
            "_dom_classes": [],
            "_model_module": "@jupyter-widgets/controls",
            "_model_module_version": "1.5.0",
            "_model_name": "HTMLModel",
            "_view_count": null,
            "_view_module": "@jupyter-widgets/controls",
            "_view_module_version": "1.5.0",
            "_view_name": "HTMLView",
            "description": "",
            "description_tooltip": null,
            "layout": "IPY_MODEL_94a9ca464f174ba595c8d6eaca2c5b44",
            "placeholder": "​",
            "style": "IPY_MODEL_ebd58180641f42d894dc95bb65c52bd4",
            "value": "spiece.model: 100%"
          }
        },
        "03b9047ba4a548bc921ec8862a9c75dd": {
          "model_module": "@jupyter-widgets/controls",
          "model_name": "FloatProgressModel",
          "model_module_version": "1.5.0",
          "state": {
            "_dom_classes": [],
            "_model_module": "@jupyter-widgets/controls",
            "_model_module_version": "1.5.0",
            "_model_name": "FloatProgressModel",
            "_view_count": null,
            "_view_module": "@jupyter-widgets/controls",
            "_view_module_version": "1.5.0",
            "_view_name": "ProgressView",
            "bar_style": "success",
            "description": "",
            "description_tooltip": null,
            "layout": "IPY_MODEL_3e257a2cde35411192f44e37e4fc9c15",
            "max": 5646064,
            "min": 0,
            "orientation": "horizontal",
            "style": "IPY_MODEL_a996bc0ef43f4a6eaf4b5b65952bf0b7",
            "value": 5646064
          }
        },
        "75c8f66f4c214844a872ec69fd5e635e": {
          "model_module": "@jupyter-widgets/controls",
          "model_name": "HTMLModel",
          "model_module_version": "1.5.0",
          "state": {
            "_dom_classes": [],
            "_model_module": "@jupyter-widgets/controls",
            "_model_module_version": "1.5.0",
            "_model_name": "HTMLModel",
            "_view_count": null,
            "_view_module": "@jupyter-widgets/controls",
            "_view_module_version": "1.5.0",
            "_view_name": "HTMLView",
            "description": "",
            "description_tooltip": null,
            "layout": "IPY_MODEL_6f145d28a2e04435808c18543af2be4d",
            "placeholder": "​",
            "style": "IPY_MODEL_7b0a27e203e640398752c49815f49e9d",
            "value": " 5.65M/5.65M [00:00&lt;00:00, 35.9MB/s]"
          }
        },
        "d3493a5d0c094f7f91e39a5ef5ef461d": {
          "model_module": "@jupyter-widgets/base",
          "model_name": "LayoutModel",
          "model_module_version": "1.2.0",
          "state": {
            "_model_module": "@jupyter-widgets/base",
            "_model_module_version": "1.2.0",
            "_model_name": "LayoutModel",
            "_view_count": null,
            "_view_module": "@jupyter-widgets/base",
            "_view_module_version": "1.2.0",
            "_view_name": "LayoutView",
            "align_content": null,
            "align_items": null,
            "align_self": null,
            "border": null,
            "bottom": null,
            "display": null,
            "flex": null,
            "flex_flow": null,
            "grid_area": null,
            "grid_auto_columns": null,
            "grid_auto_flow": null,
            "grid_auto_rows": null,
            "grid_column": null,
            "grid_gap": null,
            "grid_row": null,
            "grid_template_areas": null,
            "grid_template_columns": null,
            "grid_template_rows": null,
            "height": null,
            "justify_content": null,
            "justify_items": null,
            "left": null,
            "margin": null,
            "max_height": null,
            "max_width": null,
            "min_height": null,
            "min_width": null,
            "object_fit": null,
            "object_position": null,
            "order": null,
            "overflow": null,
            "overflow_x": null,
            "overflow_y": null,
            "padding": null,
            "right": null,
            "top": null,
            "visibility": null,
            "width": null
          }
        },
        "94a9ca464f174ba595c8d6eaca2c5b44": {
          "model_module": "@jupyter-widgets/base",
          "model_name": "LayoutModel",
          "model_module_version": "1.2.0",
          "state": {
            "_model_module": "@jupyter-widgets/base",
            "_model_module_version": "1.2.0",
            "_model_name": "LayoutModel",
            "_view_count": null,
            "_view_module": "@jupyter-widgets/base",
            "_view_module_version": "1.2.0",
            "_view_name": "LayoutView",
            "align_content": null,
            "align_items": null,
            "align_self": null,
            "border": null,
            "bottom": null,
            "display": null,
            "flex": null,
            "flex_flow": null,
            "grid_area": null,
            "grid_auto_columns": null,
            "grid_auto_flow": null,
            "grid_auto_rows": null,
            "grid_column": null,
            "grid_gap": null,
            "grid_row": null,
            "grid_template_areas": null,
            "grid_template_columns": null,
            "grid_template_rows": null,
            "height": null,
            "justify_content": null,
            "justify_items": null,
            "left": null,
            "margin": null,
            "max_height": null,
            "max_width": null,
            "min_height": null,
            "min_width": null,
            "object_fit": null,
            "object_position": null,
            "order": null,
            "overflow": null,
            "overflow_x": null,
            "overflow_y": null,
            "padding": null,
            "right": null,
            "top": null,
            "visibility": null,
            "width": null
          }
        },
        "ebd58180641f42d894dc95bb65c52bd4": {
          "model_module": "@jupyter-widgets/controls",
          "model_name": "DescriptionStyleModel",
          "model_module_version": "1.5.0",
          "state": {
            "_model_module": "@jupyter-widgets/controls",
            "_model_module_version": "1.5.0",
            "_model_name": "DescriptionStyleModel",
            "_view_count": null,
            "_view_module": "@jupyter-widgets/base",
            "_view_module_version": "1.2.0",
            "_view_name": "StyleView",
            "description_width": ""
          }
        },
        "3e257a2cde35411192f44e37e4fc9c15": {
          "model_module": "@jupyter-widgets/base",
          "model_name": "LayoutModel",
          "model_module_version": "1.2.0",
          "state": {
            "_model_module": "@jupyter-widgets/base",
            "_model_module_version": "1.2.0",
            "_model_name": "LayoutModel",
            "_view_count": null,
            "_view_module": "@jupyter-widgets/base",
            "_view_module_version": "1.2.0",
            "_view_name": "LayoutView",
            "align_content": null,
            "align_items": null,
            "align_self": null,
            "border": null,
            "bottom": null,
            "display": null,
            "flex": null,
            "flex_flow": null,
            "grid_area": null,
            "grid_auto_columns": null,
            "grid_auto_flow": null,
            "grid_auto_rows": null,
            "grid_column": null,
            "grid_gap": null,
            "grid_row": null,
            "grid_template_areas": null,
            "grid_template_columns": null,
            "grid_template_rows": null,
            "height": null,
            "justify_content": null,
            "justify_items": null,
            "left": null,
            "margin": null,
            "max_height": null,
            "max_width": null,
            "min_height": null,
            "min_width": null,
            "object_fit": null,
            "object_position": null,
            "order": null,
            "overflow": null,
            "overflow_x": null,
            "overflow_y": null,
            "padding": null,
            "right": null,
            "top": null,
            "visibility": null,
            "width": null
          }
        },
        "a996bc0ef43f4a6eaf4b5b65952bf0b7": {
          "model_module": "@jupyter-widgets/controls",
          "model_name": "ProgressStyleModel",
          "model_module_version": "1.5.0",
          "state": {
            "_model_module": "@jupyter-widgets/controls",
            "_model_module_version": "1.5.0",
            "_model_name": "ProgressStyleModel",
            "_view_count": null,
            "_view_module": "@jupyter-widgets/base",
            "_view_module_version": "1.2.0",
            "_view_name": "StyleView",
            "bar_color": null,
            "description_width": ""
          }
        },
        "6f145d28a2e04435808c18543af2be4d": {
          "model_module": "@jupyter-widgets/base",
          "model_name": "LayoutModel",
          "model_module_version": "1.2.0",
          "state": {
            "_model_module": "@jupyter-widgets/base",
            "_model_module_version": "1.2.0",
            "_model_name": "LayoutModel",
            "_view_count": null,
            "_view_module": "@jupyter-widgets/base",
            "_view_module_version": "1.2.0",
            "_view_name": "LayoutView",
            "align_content": null,
            "align_items": null,
            "align_self": null,
            "border": null,
            "bottom": null,
            "display": null,
            "flex": null,
            "flex_flow": null,
            "grid_area": null,
            "grid_auto_columns": null,
            "grid_auto_flow": null,
            "grid_auto_rows": null,
            "grid_column": null,
            "grid_gap": null,
            "grid_row": null,
            "grid_template_areas": null,
            "grid_template_columns": null,
            "grid_template_rows": null,
            "height": null,
            "justify_content": null,
            "justify_items": null,
            "left": null,
            "margin": null,
            "max_height": null,
            "max_width": null,
            "min_height": null,
            "min_width": null,
            "object_fit": null,
            "object_position": null,
            "order": null,
            "overflow": null,
            "overflow_x": null,
            "overflow_y": null,
            "padding": null,
            "right": null,
            "top": null,
            "visibility": null,
            "width": null
          }
        },
        "7b0a27e203e640398752c49815f49e9d": {
          "model_module": "@jupyter-widgets/controls",
          "model_name": "DescriptionStyleModel",
          "model_module_version": "1.5.0",
          "state": {
            "_model_module": "@jupyter-widgets/controls",
            "_model_module_version": "1.5.0",
            "_model_name": "DescriptionStyleModel",
            "_view_count": null,
            "_view_module": "@jupyter-widgets/base",
            "_view_module_version": "1.2.0",
            "_view_name": "StyleView",
            "description_width": ""
          }
        }
      }
    },
    "kaggle": {
      "accelerator": "none",
      "dataSources": [
        {
          "sourceId": 7641115,
          "sourceType": "datasetVersion",
          "datasetId": 4453373
        },
        {
          "sourceId": 7641297,
          "sourceType": "datasetVersion",
          "datasetId": 4453502
        }
      ],
      "dockerImageVersionId": 30646,
      "isInternetEnabled": false,
      "language": "python",
      "sourceType": "notebook",
      "isGpuEnabled": false
    }
  },
  "nbformat_minor": 5,
  "nbformat": 4,
  "cells": [
    {
      "source": [
        "\n",
        "# IMPORTANT: RUN THIS CELL IN ORDER TO IMPORT YOUR KAGGLE DATA SOURCES\n",
        "# TO THE CORRECT LOCATION (/kaggle/input) IN YOUR NOTEBOOK,\n",
        "# THEN FEEL FREE TO DELETE THIS CELL.\n",
        "# NOTE: THIS NOTEBOOK ENVIRONMENT DIFFERS FROM KAGGLE'S PYTHON\n",
        "# ENVIRONMENT SO THERE MAY BE MISSING LIBRARIES USED BY YOUR\n",
        "# NOTEBOOK.\n",
        "\n",
        "import os\n",
        "import sys\n",
        "from tempfile import NamedTemporaryFile\n",
        "from urllib.request import urlopen\n",
        "from urllib.parse import unquote, urlparse\n",
        "from urllib.error import HTTPError\n",
        "from zipfile import ZipFile\n",
        "import tarfile\n",
        "import shutil\n",
        "\n",
        "CHUNK_SIZE = 40960\n",
        "DATA_SOURCE_MAPPING = 'hindi-corpus:https%3A%2F%2Fstorage.googleapis.com%2Fkaggle-data-sets%2F4453373%2F7641115%2Fbundle%2Farchive.zip%3FX-Goog-Algorithm%3DGOOG4-RSA-SHA256%26X-Goog-Credential%3Dgcp-kaggle-com%2540kaggle-161607.iam.gserviceaccount.com%252F20240217%252Fauto%252Fstorage%252Fgoog4_request%26X-Goog-Date%3D20240217T072301Z%26X-Goog-Expires%3D259200%26X-Goog-SignedHeaders%3Dhost%26X-Goog-Signature%3D79488004496c7264e145a48824d1c40fb9d4e51be8611444ac1a0c13a6828940d4f87889f3e9b79aa1bfc94c9a2781c5fbc065d1231491d3bcddc07c336a3ba355c504f5cefa7a04708bac10a5e5272193241eb5381042e6029cb42662cec95676de5816a88366b1868150533153718d973a40b5d26c25338adb44ea0cf4ce3e33bdfe4145fb66e505c8aaccd4202b23244d99a00bfffb321249e7845fd121e5c1bba7bfe4e7207d8555174f90cb881c6c91a310840c9c1a420c7216e42ef6e5c97c568e0f41a745e5400d4116b4920bfad8ac7e403a3442fea7a321e41cbbf55b8fec670f76cd4d66d641982294b555af41135871db4d4ab4c196b0c7f476d2,indicbert:https%3A%2F%2Fstorage.googleapis.com%2Fkaggle-data-sets%2F4453502%2F7641297%2Fbundle%2Farchive.zip%3FX-Goog-Algorithm%3DGOOG4-RSA-SHA256%26X-Goog-Credential%3Dgcp-kaggle-com%2540kaggle-161607.iam.gserviceaccount.com%252F20240217%252Fauto%252Fstorage%252Fgoog4_request%26X-Goog-Date%3D20240217T072301Z%26X-Goog-Expires%3D259200%26X-Goog-SignedHeaders%3Dhost%26X-Goog-Signature%3D23543c8dfa668a0b889c4311716885bfdf17eb965f370f8713c8fc611754184c6c3cae4d7b39c317ec9c28e9cf881818e9a6b67527479a140e37cfabf7674002a3edb0ac04f0976598780b0b210032f07c608508101a269bb5318fd231c97c7735c938da0cf8b197daca67ee20f8d4ced9cc759e6c9412d3676515c50622bad6c1e701e00fa4fcdb31df252af0eff98812b96a9312aa9dbd52752b9a84ad4a8d3a01dd3389c5e30c45adc09c9c289531acf6ae10ca750448f2fb65dffb59e487fdd9b8b1fc39107285dbfce10d201592c3bf2c23fc23ffe7ed410bbd5a1f77b7c0de11dc4c450de881476f11fd6d1157e030cb065ff54c63da19d4980d6ff985'\n",
        "\n",
        "KAGGLE_INPUT_PATH='/kaggle/input'\n",
        "KAGGLE_WORKING_PATH='/kaggle/working'\n",
        "KAGGLE_SYMLINK='kaggle'\n",
        "\n",
        "!umount /kaggle/input/ 2> /dev/null\n",
        "shutil.rmtree('/kaggle/input', ignore_errors=True)\n",
        "os.makedirs(KAGGLE_INPUT_PATH, 0o777, exist_ok=True)\n",
        "os.makedirs(KAGGLE_WORKING_PATH, 0o777, exist_ok=True)\n",
        "\n",
        "try:\n",
        "  os.symlink(KAGGLE_INPUT_PATH, os.path.join(\"..\", 'input'), target_is_directory=True)\n",
        "except FileExistsError:\n",
        "  pass\n",
        "try:\n",
        "  os.symlink(KAGGLE_WORKING_PATH, os.path.join(\"..\", 'working'), target_is_directory=True)\n",
        "except FileExistsError:\n",
        "  pass\n",
        "\n",
        "for data_source_mapping in DATA_SOURCE_MAPPING.split(','):\n",
        "    directory, download_url_encoded = data_source_mapping.split(':')\n",
        "    download_url = unquote(download_url_encoded)\n",
        "    filename = urlparse(download_url).path\n",
        "    destination_path = os.path.join(KAGGLE_INPUT_PATH, directory)\n",
        "    try:\n",
        "        with urlopen(download_url) as fileres, NamedTemporaryFile() as tfile:\n",
        "            total_length = fileres.headers['content-length']\n",
        "            print(f'Downloading {directory}, {total_length} bytes compressed')\n",
        "            dl = 0\n",
        "            data = fileres.read(CHUNK_SIZE)\n",
        "            while len(data) > 0:\n",
        "                dl += len(data)\n",
        "                tfile.write(data)\n",
        "                done = int(50 * dl / int(total_length))\n",
        "                sys.stdout.write(f\"\\r[{'=' * done}{' ' * (50-done)}] {dl} bytes downloaded\")\n",
        "                sys.stdout.flush()\n",
        "                data = fileres.read(CHUNK_SIZE)\n",
        "            if filename.endswith('.zip'):\n",
        "              with ZipFile(tfile) as zfile:\n",
        "                zfile.extractall(destination_path)\n",
        "            else:\n",
        "              with tarfile.open(tfile.name) as tarfile:\n",
        "                tarfile.extractall(destination_path)\n",
        "            print(f'\\nDownloaded and uncompressed: {directory}')\n",
        "    except HTTPError as e:\n",
        "        print(f'Failed to load (likely expired) {download_url} to path {destination_path}')\n",
        "        continue\n",
        "    except OSError as e:\n",
        "        print(f'Failed to load {download_url} to path {destination_path}')\n",
        "        continue\n",
        "\n",
        "print('Data source import complete.')\n"
      ],
      "metadata": {
        "colab": {
          "base_uri": "https://localhost:8080/"
        },
        "id": "eoNnslJP8pBf",
        "outputId": "482f76a4-d9e1-4497-bc78-91baa81bf5cb"
      },
      "cell_type": "code",
      "outputs": [
        {
          "output_type": "stream",
          "name": "stdout",
          "text": [
            "Downloading hindi-corpus, 29188248 bytes compressed\n",
            "[==================================================] 29188248 bytes downloaded\n",
            "Downloaded and uncompressed: hindi-corpus\n",
            "Downloading indicbert, 404 bytes compressed\n",
            "[==================================================] 404 bytes downloaded\n",
            "Downloaded and uncompressed: indicbert\n",
            "Data source import complete.\n"
          ]
        }
      ],
      "execution_count": null,
      "id": "eoNnslJP8pBf"
    },
    {
      "cell_type": "code",
      "source": [
        "# load corpus\n",
        "corpus1 = '/kaggle/input/hindi-corpus/hi_100_new.txt'"
      ],
      "metadata": {
        "id": "QDC0qX4TeXdr",
        "execution": {
          "iopub.status.busy": "2024-02-17T06:34:13.878306Z",
          "iopub.execute_input": "2024-02-17T06:34:13.878678Z",
          "iopub.status.idle": "2024-02-17T06:34:13.916829Z",
          "shell.execute_reply.started": "2024-02-17T06:34:13.878649Z",
          "shell.execute_reply": "2024-02-17T06:34:13.915892Z"
        },
        "trusted": true
      },
      "execution_count": null,
      "outputs": [],
      "id": "QDC0qX4TeXdr"
    },
    {
      "cell_type": "code",
      "source": [
        "with open(corpus1,'r',encoding='utf-8') as f:\n",
        "  text = f.read()"
      ],
      "metadata": {
        "id": "d5e5175e-b974-4f6e-9c2d-d9443af5f4ee",
        "execution": {
          "iopub.status.busy": "2024-02-17T06:34:22.628057Z",
          "iopub.execute_input": "2024-02-17T06:34:22.628487Z",
          "iopub.status.idle": "2024-02-17T06:34:24.435608Z",
          "shell.execute_reply.started": "2024-02-17T06:34:22.628455Z",
          "shell.execute_reply": "2024-02-17T06:34:24.43453Z"
        },
        "trusted": true
      },
      "execution_count": null,
      "outputs": [],
      "id": "d5e5175e-b974-4f6e-9c2d-d9443af5f4ee"
    },
    {
      "cell_type": "code",
      "source": [
        "data = text.split('।')"
      ],
      "metadata": {
        "scrolled": true,
        "id": "1558981e-2bc0-407a-ac09-f197181e24a8",
        "execution": {
          "iopub.status.busy": "2024-02-17T06:34:25.749627Z",
          "iopub.execute_input": "2024-02-17T06:34:25.750326Z",
          "iopub.status.idle": "2024-02-17T06:34:25.911247Z",
          "shell.execute_reply.started": "2024-02-17T06:34:25.75029Z",
          "shell.execute_reply": "2024-02-17T06:34:25.90999Z"
        },
        "trusted": true
      },
      "execution_count": null,
      "outputs": [],
      "id": "1558981e-2bc0-407a-ac09-f197181e24a8"
    },
    {
      "cell_type": "markdown",
      "source": [
        "# Question 1"
      ],
      "metadata": {
        "id": "8dd90250-c955-4334-b850-9b08b8340a52"
      },
      "id": "8dd90250-c955-4334-b850-9b08b8340a52"
    },
    {
      "cell_type": "code",
      "source": [
        "# ALL these List are prepared with the help of internet.\n",
        "matras = set(['ऻ','ि','ी','ू','ृ','ॄ','ॅ','ॆ','े', 'ं', 'ै','ॉ','ॊ','ो','ौ','ॎ','ॏ','ु','ा','ँ'])\n",
        "vyanjans = set(['क','ख','ग','घ','डं','च','छ','ज','झ','ञ','ट','ठ','ड','ढ','ण','त','थ','द','ध','न','प','फ','ब','भ','म','य','र','ल','व','श','स','ष','ह','क्ष','त्र','ज्ञ'])\n",
        "dic = {'ऻ':'आ','ा':'आ','ि':'इ','ी':'ई','ु':'उ','ू':'ऊ','ृ':'ऋ','े':'ए','ै':'ऐ', 'ो':'ओ','ौ':'औ','ँ':'अं','ं':'अं', 'ॄ':'ऋ','ॅ':'ॲ ','ॉ':'ऑ','ॎ':'ए','ॆ':'ऐ','ॊ':'ऒ','ॏ':'औ'}\n",
        "swar_map ={'अ':'','आ': 'ा','इ': 'ि','ई': 'ी','उ': 'ु','ऊ': 'ू','ऋ': 'ृ','ए': 'े','ऐ': 'ै','ओ': 'ो','औ': 'ौ','अं': 'ं','ॲ': 'ॅ','ऑ': 'ॉ'}\n",
        "# Making dictionary to map matras with their swar sound.\n",
        "swars = set(['अ','आ','इ','ई','उ','ऊ','ऋ','ए','ऐ','ओ','औ','अं','अः'])\n",
        "noise = set(['>्','0्', '1्', '\"्', 'ळ्', '2्', '–्', 'ः्', '3्', '5्', '4्', '््', '%्', '—्', '8्', '6्', '7्', '9्', 'ॅ्', 'a्', '>्', 'e्', '#्', 'i्','r्', 't्', '»्', 'o्', 'n्', 'd्', '०्', 's्', 'h्', 'l्', 'c्', 'm्',\n",
        "'\\u200c्', '\\u200b्', 'ï्', 'A्', 'p्', '•्', 'b्', 'G्', 'B्', '&्', 'u्',\n",
        "'_्', '@्', 'M्', 'о्', 'f्', '·्', '$्', 'S्', 'g्', 'I्', 'а्', 'е्', 'P्',\n",
        "'и्', 'R्', 'y्', 'k्', 'w्', 'T्', '�्', 'a','b','c','d','e','f','g','h','i','j',\n",
        " 'k','l','m','n','o','p','q','r','s','t','u','v','w','x','y','z','0','1','2','3','4','5','6','7','8','9',\n",
        " 'A','B','C','D','E','F','G','H','I','J','K','L','M','N','O','P','Q','R','S','T','U','V','W','X','Y','Z',\n",
        " '!','\"','\\\\','#','\\\\','$','%','\\\\','&',\"'\",'\\\\','(','\\\\',')','\\\\','*','\\\\','+',',','\\\\','-','\\\\','.','/',\n",
        " ':',';','<','=','>','\\\\','?','@','\\\\','[','\\\\','\\\\','\\\\',']','\\\\','^','_','`','\\\\','{','\\\\','|','\\\\','}','\\\\','~'])# These are noise we just have to insure these does'nt occur and even if these occurs we just ignore them.\n",
        "\n",
        "# We created set of the list to imporve the look_up time as in sets lookup time if of O(1).\n"
      ],
      "metadata": {
        "id": "75b905ed-d13b-4a39-800b-f958af464982",
        "execution": {
          "iopub.status.busy": "2024-02-17T06:34:33.442332Z",
          "iopub.execute_input": "2024-02-17T06:34:33.442738Z",
          "iopub.status.idle": "2024-02-17T06:34:33.470439Z",
          "shell.execute_reply.started": "2024-02-17T06:34:33.442706Z",
          "shell.execute_reply": "2024-02-17T06:34:33.469539Z"
        },
        "trusted": true
      },
      "execution_count": null,
      "outputs": [],
      "id": "75b905ed-d13b-4a39-800b-f958af464982"
    },
    {
      "cell_type": "code",
      "source": [
        "# Creating list of sentences in corpus\n",
        "sentences = []\n",
        "for i in data:\n",
        "    sentences.append(i)"
      ],
      "metadata": {
        "id": "tLf6QYXEq8vF",
        "execution": {
          "iopub.status.busy": "2024-02-17T06:34:35.386806Z",
          "iopub.execute_input": "2024-02-17T06:34:35.38771Z",
          "iopub.status.idle": "2024-02-17T06:34:35.455982Z",
          "shell.execute_reply.started": "2024-02-17T06:34:35.387674Z",
          "shell.execute_reply": "2024-02-17T06:34:35.45506Z"
        },
        "trusted": true
      },
      "execution_count": null,
      "outputs": [],
      "id": "tLf6QYXEq8vF"
    },
    {
      "cell_type": "code",
      "source": [
        "# This function will give list of characters corrected as required given a word\n",
        "def unicode_corrected(word):\n",
        "    Corrected_word = []\n",
        "    l = len(word)\n",
        "    if l==0:\n",
        "      return Corrected_word\n",
        "    for i in range(l):\n",
        "        if word[i] in vyanjans:\n",
        "            Corrected_word.append(word[i]+'्')\n",
        "            if i+1<l and word[i+1] not in matras and word[i+1] != '्':\n",
        "              Corrected_word.append('अ')\n",
        "        elif word[i] in swars:\n",
        "            Corrected_word.append(word[i])\n",
        "        elif word[i] in matras:\n",
        "          if word[i] == 'ं' and word[i-1]=='अ':\n",
        "            Corrected_word.pop()\n",
        "          Corrected_word.append(dic[word[i]])\n",
        "    if word[l-1] in vyanjans:\n",
        "      Corrected_word.append('अ')\n",
        "    return Corrected_word"
      ],
      "metadata": {
        "id": "2430f7d3-7b10-4052-a7df-af83fcb2e755",
        "execution": {
          "iopub.status.busy": "2024-02-17T06:35:00.940936Z",
          "iopub.execute_input": "2024-02-17T06:35:00.941334Z",
          "iopub.status.idle": "2024-02-17T06:35:00.951667Z",
          "shell.execute_reply.started": "2024-02-17T06:35:00.941304Z",
          "shell.execute_reply": "2024-02-17T06:35:00.950414Z"
        },
        "trusted": true
      },
      "execution_count": null,
      "outputs": [],
      "id": "2430f7d3-7b10-4052-a7df-af83fcb2e755"
    },
    {
      "cell_type": "code",
      "source": [
        "# correcting whole corpus sentence wise\n",
        "corrected_sentences = []\n",
        "for sentence in sentences:\n",
        "  tokens = sentence.split()\n",
        "  corr_sen = []\n",
        "  for i in range(len(tokens)):\n",
        "    new = unicode_corrected(tokens[i])\n",
        "    corr_sen.append(new)\n",
        "  corrected_sentences.append(corr_sen)"
      ],
      "metadata": {
        "id": "EMyvijU1q0co",
        "execution": {
          "iopub.status.busy": "2024-02-17T06:35:04.802394Z",
          "iopub.execute_input": "2024-02-17T06:35:04.802845Z",
          "iopub.status.idle": "2024-02-17T06:35:52.257274Z",
          "shell.execute_reply.started": "2024-02-17T06:35:04.802799Z",
          "shell.execute_reply": "2024-02-17T06:35:52.255707Z"
        },
        "trusted": true
      },
      "execution_count": null,
      "outputs": [],
      "id": "EMyvijU1q0co"
    },
    {
      "cell_type": "code",
      "source": [
        "# Sample output of corrected unicodes\n",
        "unicode_corrected('अंतरंगिनी')"
      ],
      "metadata": {
        "colab": {
          "base_uri": "https://localhost:8080/"
        },
        "id": "j6BclHgjNFgy",
        "outputId": "bd3f4ebe-2a11-428b-eb0c-dc32c02d70bf",
        "execution": {
          "iopub.status.busy": "2024-02-17T06:36:00.806873Z",
          "iopub.execute_input": "2024-02-17T06:36:00.80725Z",
          "iopub.status.idle": "2024-02-17T06:36:00.814885Z",
          "shell.execute_reply.started": "2024-02-17T06:36:00.807222Z",
          "shell.execute_reply": "2024-02-17T06:36:00.813863Z"
        },
        "trusted": true
      },
      "execution_count": null,
      "outputs": [
        {
          "output_type": "execute_result",
          "data": {
            "text/plain": [
              "['अं', 'त्', 'अ', 'र्', 'अं', 'ग्', 'इ', 'न्', 'ई']"
            ]
          },
          "metadata": {},
          "execution_count": 9
        }
      ],
      "id": "j6BclHgjNFgy"
    },
    {
      "cell_type": "code",
      "source": [
        "corrected_sentences[:10]"
      ],
      "metadata": {
        "colab": {
          "base_uri": "https://localhost:8080/"
        },
        "id": "lh65apfvt6wl",
        "outputId": "9260ea2e-080c-4ae1-eb66-62fe5ce5eed6",
        "execution": {
          "iopub.status.busy": "2024-02-17T06:36:02.468019Z",
          "iopub.execute_input": "2024-02-17T06:36:02.468409Z",
          "iopub.status.idle": "2024-02-17T06:36:02.514408Z",
          "shell.execute_reply.started": "2024-02-17T06:36:02.46838Z",
          "shell.execute_reply": "2024-02-17T06:36:02.512524Z"
        },
        "trusted": true
      },
      "execution_count": null,
      "outputs": [
        {
          "output_type": "execute_result",
          "data": {
            "text/plain": [
              "[[['आ', 'व्', 'ए', 'द्', 'अ', 'न्', 'अ'],\n",
              "  ['क्', 'अ', 'र्', 'अ', 'न्', 'ए'],\n",
              "  ['क्', 'ई'],\n",
              "  ['आ', 'ख्', 'इ', 'र्', 'ई'],\n",
              "  ['त्', 'आ', 'र्', 'ई', 'ख्', 'अ'],\n",
              "  [],\n",
              "  ['ज्', 'अ', 'न्', 'अ', 'व्', 'अ', 'र्', 'ई'],\n",
              "  [],\n",
              "  ['ह्', 'ऐ']],\n",
              " [['इ', 'त्', 'अ', 'न्', 'ई'],\n",
              "  ['द्', 'उ', 'आ'],\n",
              "  ['क्', 'अ', 'र्', 'अ'],\n",
              "  ['द्', 'ओ'],\n",
              "  ['ह्', 'अ', 'म्', 'आ', 'र्', 'ए'],\n",
              "  ['ल्', 'इ', 'ए'],\n",
              "  ['क्', 'इ'],\n",
              "  ['ज्', 'इ', 'त्', 'अ', 'न्', 'आ'],\n",
              "  ['प्', 'य्', 'आ', 'र्', 'अ'],\n",
              "  ['द्', 'उ', 'न्', 'इ', 'य्', 'आ'],\n",
              "  ['न्', 'ए'],\n",
              "  ['आ', 'प्', 'अ', 'क्', 'ओ'],\n",
              "  ['द्', 'इ', 'य्', 'आ'],\n",
              "  ['ह्', 'ऐ'],\n",
              "  ['ब्', 'अ', 'स्', 'अ'],\n",
              "  ['उ', 'त्', 'अ', 'न्', 'आ'],\n",
              "  ['ह्', 'ई'],\n",
              "  ['ह्', 'अ', 'म्', 'ए', 'अं'],\n",
              "  ['भ्', 'ई'],\n",
              "  ['म्', 'इ', 'ल्', 'अ'],\n",
              "  ['ज्', 'आ', 'ए'],\n",
              "  ['म्', 'ओ', 'द्', 'ई'],\n",
              "  ['स्', 'अ', 'र्', 'अ', 'क्', 'आ', 'र्', 'अ'],\n",
              "  ['क्', 'ए'],\n",
              "  ['प्', 'अ', 'ह्', 'अ', 'ल्', 'ए'],\n",
              "  ['क्', 'आ', 'र्', 'य्', 'अ', 'क्', 'आ', 'ल्', 'अ'],\n",
              "  ['म्', 'ए', 'अं'],\n",
              "  ['भ्', 'ई'],\n",
              "  ['त्', 'ई', 'न्', 'अ'],\n",
              "  ['त्', 'अ', 'ल्', 'आ', 'क्', 'अ'],\n",
              "  ['क्', 'ओ'],\n",
              "  ['ल्', 'ए', 'क्', 'अ', 'र्', 'अ'],\n",
              "  ['ब्', 'इ', 'ल्', 'अ'],\n",
              "  ['ल्', 'आ', 'य्', 'आ'],\n",
              "  ['ग्', 'अ', 'य्', 'आ'],\n",
              "  ['थ्', 'आ'],\n",
              "  ['ह्', 'आ', 'ल्', 'आ', 'अं', 'क्', 'इ'],\n",
              "  ['त्', 'अ', 'ब्', 'अ'],\n",
              "  ['य्', 'अ', 'ह्', 'अ'],\n",
              "  ['र्', 'आ', 'ज्', 'य्', 'अ', 'स्', 'अ', 'भ्', 'आ'],\n",
              "  ['म्', 'ए', 'अं'],\n",
              "  ['प्', 'आ', 'स्', 'अ'],\n",
              "  ['न्', 'अ', 'ह्', 'ई', 'अं'],\n",
              "  ['ह्', 'ओ'],\n",
              "  ['प्', 'आ', 'य्', 'आ'],\n",
              "  ['थ्', 'आ'],\n",
              "  ['भ्', 'आ', 'ज्', 'अ', 'प्', 'आ'],\n",
              "  ['क्', 'ए'],\n",
              "  ['द्', 'इ', 'व्', 'अं', 'ग्', 'अ', 'त्', 'अ'],\n",
              "  ['न्', 'ए', 'त्', 'आ'],\n",
              "  ['प्', 'र्', 'अ', 'म्', 'ओ', 'द्', 'अ'],\n",
              "  ['म्', 'अ', 'ह्', 'आ', 'ज्', 'अ', 'न्', 'अ'],\n",
              "  ['क्', 'ई'],\n",
              "  ['ब्', 'ए', 'ट्', 'ई'],\n",
              "  ['प्', 'ऊ', 'न्', 'अ', 'म्', 'अ'],\n",
              "  ['म्', 'अ', 'ह्', 'आ', 'ज्', 'अ', 'न्', 'अ'],\n",
              "  ['क्', 'ओ'],\n",
              "  ['स्', 'अ', 'च्', 'इ', 'व्', 'अ'],\n",
              "  ['ब्', 'अ', 'न्', 'आ', 'य्', 'आ'],\n",
              "  ['ग्', 'अ', 'य्', 'आ'],\n",
              "  ['ह्', 'ऐ'],\n",
              "  ['ऐ', 'स्', 'ई'],\n",
              "  ['स्', 'थ्', 'इ', 'त्', 'इ'],\n",
              "  ['म्', 'ए', 'अं'],\n",
              "  ['ए', 'क्', 'अ'],\n",
              "  ['न्', 'य्', 'आ', 'य्', 'अ', 'प्', 'ऊ', 'र्', 'ण्', 'अ'],\n",
              "  ['स्', 'अ', 'र्', 'अ', 'क्', 'आ', 'र्', 'अ'],\n",
              "  ['स्', 'आ', 'र्', 'व्', 'अ', 'ज्', 'अ', 'न्', 'इ', 'क्', 'अ'],\n",
              "  ['व्', 'इ', 'त्', 'त्', 'अ'],\n",
              "  ['क्', 'आ'],\n",
              "  ['इ', 'स्', 'अ'],\n",
              "  ['त्', 'अ', 'र्', 'अ', 'ह्', 'अ'],\n",
              "  ['इ', 'स्', 'त्', 'ए', 'म्', 'आ', 'ल्', 'अ'],\n",
              "  ['क्', 'अ', 'र्', 'अ', 'त्', 'ई'],\n",
              "  ['ह्', 'ऐ'],\n",
              "  ['क्', 'इ'],\n",
              "  ['स्', 'अं', 'स्', 'आ', 'ध्', 'अ', 'न्', 'ओ', 'अं'],\n",
              "  ['क्', 'आ'],\n",
              "  ['आ', 'व्', 'अं', 'ट्', 'अ', 'न्', 'अ'],\n",
              "  ['स्', 'अ', 'भ्', 'ई'],\n",
              "  ['क्', 'ए'],\n",
              "  ['उ', 'प्', 'अ', 'भ्', 'ओ', 'ग्', 'अ'],\n",
              "  ['व्', 'आ', 'ल्', 'ए'],\n",
              "  ['उ', 'त्', 'प्', 'आ', 'द्', 'ओ', 'अं'],\n",
              "  ['क्', 'ई'],\n",
              "  ['व्', 'य्', 'अ', 'व्', 'अ', 'ह्', 'आ', 'र्', 'य्', 'अ', 'त्', 'आ'],\n",
              "  ['औ', 'र्', 'अ'],\n",
              "  ['स्', 'अ', 'म्', 'अ', 'ग्', 'र्', 'अ'],\n",
              "  ['व्', 'ऋ', 'ह्', 'अ', 'द्', 'अ', 'आ', 'र्', 'थ्', 'इ', 'क्', 'अ'],\n",
              "  ['प्', 'र्', 'अ', 'ब्', 'अं', 'ध्', 'अ', 'न्', 'अ'],\n",
              "  ['न्', 'इ', 'ष्', 'प्', 'अ', 'क्', 'ष्', 'अ', 'त्', 'आ'],\n",
              "  ['क्', 'ए'],\n",
              "  ['र्', 'ऊ', 'प्', 'अ'],\n",
              "  ['म्', 'ए', 'अं'],\n",
              "  ['न्', 'य्', 'आ', 'य्', 'अ'],\n",
              "  ['क्', 'ओ'],\n",
              "  ['ब्', 'अ', 'ढ्', 'अ', 'आ', 'ए']],\n",
              " [['द्', 'इ', 'ल्', 'अ', 'च्', 'अ', 'स्', 'प्', 'अ'],\n",
              "  ['ह्', 'ऐ'],\n",
              "  ['क्', 'इ'],\n",
              "  ['ड्', 'ई', 'स्', 'ई', 'ए', 'च्', 'अ', 'ए', 'ल्', 'अ'],\n",
              "  ['क्', 'ए'],\n",
              "  ['च्', 'ए', 'य्', 'अ', 'र्', 'अ', 'म्', 'ऐ', 'न्', 'अ'],\n",
              "  ['ट्', 'ई'],\n",
              "  ['व्', 'ए', 'अं', 'क्', 'अ', 'ट्', 'अ', 'र्', 'अ', 'म्', 'अ', 'न्', 'अ'],\n",
              "  ['र्', 'ए', 'ड्', 'ड्', 'ई'],\n",
              "  ['औ', 'र्', 'अ'],\n",
              "  ['व्', 'आ', 'इ', 'स्', 'अ'],\n",
              "  ['च्', 'ए', 'य्', 'अ', 'र्', 'अ', 'म्', 'ऐ', 'न्', 'अ'],\n",
              "  ['ट्', 'ई'],\n",
              "  ['व्', 'इ', 'न्', 'आ', 'य्', 'अ', 'क्', 'अ'],\n",
              "  ['र्', 'अ', 'व्', 'इ'],\n",
              "  ['र्', 'ए', 'ड्', 'ड्', 'ई'],\n",
              "  ['इ', 'स्', 'अ'],\n",
              "  ['ब्', 'ऐ', 'ठ्', 'अ', 'क्', 'अ'],\n",
              "  ['म्', 'ए', 'अं'],\n",
              "  ['म्', 'औ', 'ज्', 'ऊ', 'द्', 'अ'],\n",
              "  ['न्', 'अ', 'ह्', 'ई', 'अं'],\n",
              "  ['थ्', 'ए']],\n",
              " [['इ', 'स्', 'अ'],\n",
              "  ['आ', 'म्', 'अ'],\n",
              "  ['च्', 'उ', 'न्', 'आ', 'व्', 'अ'],\n",
              "  ['म्', 'ए', 'अं'],\n",
              "  ['भ्', 'आ', 'ज्', 'अ', 'प्', 'आ'],\n",
              "  ['न्', 'ए', 'त्', 'आ'],\n",
              "  ['स्', 'अ', 'त्', 'ई', 'श्', 'अ'],\n",
              "  ['क्', 'उ', 'म्', 'आ', 'र्', 'अ'],\n",
              "  ['ग्', 'औ', 'त्', 'अ', 'म्', 'अ'],\n",
              "  ['क्', 'ओ'],\n",
              "  ['स्', 'अ', 'ब्', 'अ', 'स्', 'ए'],\n",
              "  ['अ', 'ध्', 'इ', 'क्', 'अ'],\n",
              "  [],\n",
              "  ['ल्', 'आ', 'ख्', 'अ'],\n",
              "  [],\n",
              "  ['ह्', 'अ', 'ज्', 'आ', 'र्', 'अ'],\n",
              "  [],\n",
              "  ['व्', 'ओ', 'ट्', 'अ'],\n",
              "  ['प्', 'र्', 'आ', 'प्', 'त्', 'अ'],\n",
              "  ['ह्', 'उ', 'ए'],\n",
              "  ['आ', 'य्', 'अ', 'र्', 'अ', 'ल्', 'ऐ', 'अं', 'ड्', 'अ'],\n",
              "  ['ट्', 'ई', 'म्', 'अ'],\n",
              "  ['क्', 'ए'],\n",
              "  ['व्', 'इ', 'क्', 'ए', 'ट्', 'अ', 'क्', 'ई', 'प्', 'अ', 'र्', 'अ'],\n",
              "  ['ब्', 'अ', 'ल्', 'ल्', 'ए', 'ब्', 'आ', 'ज्', 'अ'],\n",
              "  ['न्', 'इ', 'य्', 'आ', 'ल्', 'अ'],\n",
              "  ['ओ', 'ब्', 'र्', 'आ', 'य्', 'अ', 'न्', 'अ'],\n",
              "  ['न्', 'ए'],\n",
              "  ['अं', 'त्', 'अ', 'र्', 'र्', 'आ', 'ष्', 'ट्', 'र्', 'ई', 'य्', 'अ'],\n",
              "  ['क्', 'र्', 'इ', 'क्', 'ए', 'ट्', 'अ'],\n",
              "  ['स्', 'ए'],\n",
              "  ['स्', 'अं', 'न्', 'य्', 'आ', 'स्', 'अ'],\n",
              "  ['क्', 'आ'],\n",
              "  ['ऐ', 'ल्', 'आ', 'न्', 'अ'],\n",
              "  ['क्', 'अ', 'र्', 'अ'],\n",
              "  ['द्', 'इ', 'य्', 'आ'],\n",
              "  ['ह्', 'ऐ']],\n",
              " [['स्', 'आ', 'ल्', 'अ'],\n",
              "  [],\n",
              "  ['म्', 'ए', 'अं'],\n",
              "  ['ड्', 'ए', 'न्', 'अ', 'म्', 'आ', 'र्', 'क्', 'अ'],\n",
              "  ['क्', 'ए'],\n",
              "  ['ख्', 'इ', 'ल्', 'आ', 'फ्', 'अ'],\n",
              "  ['क्', 'ए'],\n",
              "  ['ए', 'क्', 'अ', 'द्', 'इ', 'व्', 'अ', 'स्', 'ई', 'य्', 'अ'],\n",
              "  ['क्', 'र्', 'इ', 'क्', 'ए', 'ट्', 'अ'],\n",
              "  ['म्', 'ए', 'अं'],\n",
              "  ['ड्', 'ए', 'ब्', 'य्', 'ऊ'],\n",
              "  ['क्', 'अ', 'र्', 'अ', 'न्', 'ए'],\n",
              "  ['व्', 'आ', 'ल्', 'ए'],\n",
              "  ['ब्', 'र्', 'आ', 'य्', 'अ', 'न्', 'अ'],\n",
              "  ['न्', 'ए'],\n",
              "  [],\n",
              "  ['स्', 'आ', 'ल्', 'अ'],\n",
              "  ['क्', 'ई'],\n",
              "  ['उ', 'म्', 'र्', 'अ'],\n",
              "  ['म्', 'ए', 'अं'],\n",
              "  ['स्', 'अं', 'न्', 'य्', 'आ', 'स्', 'अ'],\n",
              "  ['क्', 'आ'],\n",
              "  ['ऐ', 'ल्', 'आ', 'न्', 'अ'],\n",
              "  ['क्', 'इ', 'य्', 'आ']],\n",
              " [['न्', 'इ', 'य्', 'आ', 'ल्', 'अ'],\n",
              "  ['ओ', 'ब्', 'र्', 'आ', 'य्', 'अ', 'न्', 'अ'],\n",
              "  ['आ', 'य्', 'अ', 'र्', 'अ', 'ल्', 'ऐ', 'अं', 'ड्', 'अ'],\n",
              "  ['ट्', 'ई', 'म्', 'अ'],\n",
              "  ['क्', 'ए'],\n",
              "  ['स्', 'अ', 'ब्', 'अ', 'स्', 'ए'],\n",
              "  ['स्', 'अ', 'फ्', 'अ', 'ल्', 'अ'],\n",
              "  ['व्', 'इ', 'क्', 'ए', 'ट्', 'अ', 'क्', 'ई', 'प्', 'अ', 'र्', 'अ'],\n",
              "  ['र्', 'अ', 'ह्', 'ए'],\n",
              "  ['ह्', 'ऐ', 'अं'],\n",
              "  ['उ', 'न्', 'ह्', 'ओ', 'अं', 'न्', 'ए'],\n",
              "  ['व्', 'इ', 'क्', 'ए', 'ट्', 'अ'],\n",
              "  ['क्', 'ए'],\n",
              "  ['प्', 'ई', 'छ्', 'ए'],\n",
              "  [],\n",
              "  ['श्', 'इ', 'क्', 'आ', 'र्', 'अ'],\n",
              "  ['क्', 'इ', 'ए']],\n",
              " [['य्', 'अ', 'ह्', 'आ', 'अं'],\n",
              "  ['त्', 'अ', 'क्', 'अ'],\n",
              "  ['क्', 'इ'],\n",
              "  ['इ', 'स्', 'अ'],\n",
              "  ['स्', 'आ', 'ल्', 'अ'],\n",
              "  ['प्', 'आ', 'क्', 'इ', 'स्', 'त्', 'आ', 'न्', 'अ'],\n",
              "  ['क्', 'ए'],\n",
              "  ['ख्', 'इ', 'ल्', 'आ', 'फ्', 'अ'],\n",
              "  ['ख्', 'ए', 'ल्', 'ए'],\n",
              "  ['ग्', 'अ', 'ए'],\n",
              "  ['आ', 'य्', 'अ', 'र्', 'अ', 'ल्', 'ऐ', 'अं', 'ड्', 'अ'],\n",
              "  ['क्', 'ए'],\n",
              "  ['ऐ', 'त्', 'इ', 'ह्', 'आ', 'स्', 'इ', 'क्', 'अ'],\n",
              "  ['प्', 'अ', 'ह्', 'अ', 'ल्', 'ए'],\n",
              "  ['ट्', 'ए', 'स्', 'ट्', 'अ'],\n",
              "  ['म्', 'ए', 'अं'],\n",
              "  ['भ्', 'ई'],\n",
              "  ['ट्', 'ई', 'म्', 'अ'],\n",
              "  ['क्', 'आ'],\n",
              "  ['ह्', 'इ', 'स्', 'स्', 'आ'],\n",
              "  ['थ्', 'ए']],\n",
              " [['ख्', 'ए', 'ल्', 'अ'],\n",
              "  ['अ', 'र्', 'ज्', 'उ', 'न्', 'अ'],\n",
              "  ['क्', 'आ'],\n",
              "  ['क्', 'अ', 'ह्', 'अ', 'न्', 'आ'],\n",
              "  ['ह्', 'ऐ'],\n",
              "  ['क्', 'इ'],\n",
              "  ['ब्', 'ऑ', 'ड्', 'ई'],\n",
              "  ['क्', 'ओ'],\n",
              "  ['फ्', 'इ', 'ट्', 'अ'],\n",
              "  ['र्', 'अ', 'ख्', 'अ', 'न्', 'ए'],\n",
              "  ['क्', 'ए'],\n",
              "  ['ल्', 'इ', 'ए'],\n",
              "  ['ज्', 'इ', 'त्', 'अ', 'न्', 'आ'],\n",
              "  ['ज्', 'अ', 'र्', 'ऊ', 'र्', 'ई'],\n",
              "  ['ए', 'क्', 'स्', 'अ', 'र्', 'अ', 'स्', 'आ', 'इ', 'ज्', 'अ'],\n",
              "  ['ह्', 'ऐ'],\n",
              "  ['उ', 'त्', 'अ', 'न्', 'आ'],\n",
              "  ['ह्', 'ई'],\n",
              "  ['ज्', 'अ', 'र्', 'ऊ', 'र्', 'ई'],\n",
              "  ['ह्', 'ऐ'],\n",
              "  ['ख्', 'ए', 'ल्', 'अ']],\n",
              " [['व्', 'अ', 'ह्', 'अ'],\n",
              "  ['क्', 'अ', 'ह्', 'अ', 'त्', 'ए'],\n",
              "  ['ह्', 'ऐ', 'अं'],\n",
              "  ['ज्', 'अ', 'ब्', 'अ'],\n",
              "  ['आ', 'प्', 'अ'],\n",
              "  ['ज्', 'इ', 'म्', 'अ'],\n",
              "  ['न्', 'अ'],\n",
              "  ['ज्', 'आ'],\n",
              "  ['र्', 'अ', 'ह्', 'ए'],\n",
              "  ['ह्', 'ओ', 'अं'],\n",
              "  ['त्', 'ओ'],\n",
              "  ['ख्', 'उ', 'द्', 'अ'],\n",
              "  ['क्', 'ओ'],\n",
              "  ['ब्', 'आ', 'क्', 'ई'],\n",
              "  ['ए', 'क्', 'ट्', 'इ', 'व्', 'इ', 'ट्', 'ई', 'ज्', 'अ'],\n",
              "  ['ज्', 'ऐ', 'स्', 'ए'],\n",
              "  ['स्', 'आ', 'इ', 'क्', 'इ', 'ल्', 'इ', 'अं', 'ग्', 'अ'],\n",
              "  ['स्', 'व्', 'इ', 'म्', 'इ', 'अं', 'ग्', 'अ'],\n",
              "  ['औ', 'र्', 'अ'],\n",
              "  ['व्', 'ऑ', 'क्', 'इ', 'अं', 'ग्', 'अ'],\n",
              "  ['म्', 'ए', 'अं'],\n",
              "  ['इ', 'न्', 'व्', 'ऑ', 'ल्', 'व्', 'अ'],\n",
              "  ['क्', 'अ', 'र्', 'ए', 'अं']],\n",
              " [['च्', 'ए', 'अं', 'ज्', 'अ'],\n",
              "  ['क्', 'ए'],\n",
              "  ['ल्', 'इ', 'य्', 'ए'],\n",
              "  ['ख्', 'ए', 'ल्', 'अ', 'न्', 'आ'],\n",
              "  ['भ्', 'ई'],\n",
              "  ['अ', 'च्', 'छ्', 'आ'],\n",
              "  ['र्', 'अ', 'ह्', 'अ', 'त्', 'आ'],\n",
              "  ['ह्', 'ऐ']]]"
            ]
          },
          "metadata": {},
          "execution_count": 10
        }
      ],
      "id": "lh65apfvt6wl"
    },
    {
      "cell_type": "code",
      "source": [
        "# this will free up un-necessary consumption of RAM\n",
        "del corrected_sentences\n",
        "del sentences"
      ],
      "metadata": {
        "id": "W4XBFARrJQLi",
        "execution": {
          "iopub.status.busy": "2024-02-17T06:36:05.347094Z",
          "iopub.execute_input": "2024-02-17T06:36:05.347484Z",
          "iopub.status.idle": "2024-02-17T06:36:06.816108Z",
          "shell.execute_reply.started": "2024-02-17T06:36:05.347456Z",
          "shell.execute_reply": "2024-02-17T06:36:06.814845Z"
        },
        "trusted": true
      },
      "execution_count": null,
      "outputs": [],
      "id": "W4XBFARrJQLi"
    },
    {
      "cell_type": "markdown",
      "source": [
        "# Question 2"
      ],
      "metadata": {
        "id": "f3b2541d-cff6-48c3-ae67-8655be83e666"
      },
      "id": "f3b2541d-cff6-48c3-ae67-8655be83e666"
    },
    {
      "cell_type": "markdown",
      "source": [
        "Q2 (5 marks) Find all characters and syllables. Store a list of them in descending order of their\n",
        "frequencies."
      ],
      "metadata": {
        "id": "3c70c7ce-8a88-4ebc-a901-1f10a7e89d80"
      },
      "id": "3c70c7ce-8a88-4ebc-a901-1f10a7e89d80"
    },
    {
      "cell_type": "code",
      "source": [
        "# creates tokens based on white spaces\n",
        "from collections import Counter # Counter creates dictionary when given a list -> words are treated as \"keys\" and their frequencies are treated as \"values\"\n",
        "\n",
        "# this breaks the corpus in list of words based on white space\n",
        "tokens = []\n",
        "for i in data:\n",
        "    for _ in i.split():\n",
        "        if _ not in noise:\n",
        "            if _[-1] in noise:           # to check for noise\n",
        "                _ = _[:-1]\n",
        "            tokens.append(_)\n",
        "    tokens.append('$') # to signify end of sentence."
      ],
      "metadata": {
        "id": "398b2e91-d021-4cd4-bb23-e766dc25891d",
        "execution": {
          "iopub.status.busy": "2024-02-17T06:36:09.240383Z",
          "iopub.execute_input": "2024-02-17T06:36:09.241374Z",
          "iopub.status.idle": "2024-02-17T06:36:14.176846Z",
          "shell.execute_reply.started": "2024-02-17T06:36:09.241329Z",
          "shell.execute_reply": "2024-02-17T06:36:14.1757Z"
        },
        "trusted": true
      },
      "execution_count": null,
      "outputs": [],
      "id": "398b2e91-d021-4cd4-bb23-e766dc25891d"
    },
    {
      "cell_type": "code",
      "source": [
        "# prints top 20 elements of list as per their frequencies in decreasing order\n",
        "def top20(list1):\n",
        "  top_20_ = Counter(list1).most_common(20)\n",
        "  for key, value in top_20_:\n",
        "      print(key,\":\",value)"
      ],
      "metadata": {
        "id": "K2s52pe72SQu",
        "execution": {
          "iopub.status.busy": "2024-02-17T06:36:15.702136Z",
          "iopub.execute_input": "2024-02-17T06:36:15.702769Z",
          "iopub.status.idle": "2024-02-17T06:36:15.708808Z",
          "shell.execute_reply.started": "2024-02-17T06:36:15.702727Z",
          "shell.execute_reply": "2024-02-17T06:36:15.707523Z"
        },
        "trusted": true
      },
      "execution_count": null,
      "outputs": [],
      "id": "K2s52pe72SQu"
    },
    {
      "cell_type": "markdown",
      "source": [
        "### Charactes with their Frequencies"
      ],
      "metadata": {
        "id": "4be1c2e1-4999-4706-9d3b-94d03df12a7e"
      },
      "id": "4be1c2e1-4999-4706-9d3b-94d03df12a7e"
    },
    {
      "cell_type": "markdown",
      "source": [
        "##### Unigram"
      ],
      "metadata": {
        "id": "-1IWec-A8IyN"
      },
      "id": "-1IWec-A8IyN"
    },
    {
      "cell_type": "code",
      "source": [
        "# function for generating a list of characters, given a list of words.\n",
        "def character_count(tokens):\n",
        "    char_list = []\n",
        "    for i in tokens:\n",
        "        if i == '$':\n",
        "            continue\n",
        "        for j in unicode_corrected(i):   #unicode_correction of tokens and counting characters\n",
        "            char_list.append(j)\n",
        "    return char_list"
      ],
      "metadata": {
        "id": "29aab0ff-e38b-4b34-b0ba-b10dddb6690a",
        "execution": {
          "iopub.status.busy": "2024-02-17T06:36:29.07628Z",
          "iopub.execute_input": "2024-02-17T06:36:29.076647Z",
          "iopub.status.idle": "2024-02-17T06:37:12.881745Z",
          "shell.execute_reply.started": "2024-02-17T06:36:29.07662Z",
          "shell.execute_reply": "2024-02-17T06:37:12.880727Z"
        },
        "trusted": true
      },
      "execution_count": null,
      "outputs": [],
      "id": "29aab0ff-e38b-4b34-b0ba-b10dddb6690a"
    },
    {
      "cell_type": "code",
      "source": [
        "char_list = character_count(tokens) # generate list of unigram characters\n",
        "top20(char_list) # prints top 20 characters with their frequencies in decreasing order"
      ],
      "metadata": {
        "colab": {
          "base_uri": "https://localhost:8080/"
        },
        "id": "fe560f0f-9cbd-4b1b-96ad-8d342e4c2b0f",
        "outputId": "ba9185b0-5b49-4a1a-f808-cb22203536c9",
        "execution": {
          "iopub.status.busy": "2024-02-17T06:37:24.045224Z",
          "iopub.execute_input": "2024-02-17T06:37:24.045634Z",
          "iopub.status.idle": "2024-02-17T06:37:24.053552Z",
          "shell.execute_reply.started": "2024-02-17T06:37:24.045605Z",
          "shell.execute_reply": "2024-02-17T06:37:24.052166Z"
        },
        "trusted": true
      },
      "execution_count": null,
      "outputs": [
        {
          "output_type": "stream",
          "name": "stdout",
          "text": [
            "अ : 7082229\n",
            "आ : 2991109\n",
            "ए : 2318442\n",
            "क् : 2219964\n",
            "र् : 2115649\n",
            "ई : 1460305\n",
            "इ : 1432973\n",
            "न् : 1334448\n",
            "स् : 1283708\n",
            "अं : 1215588\n",
            "ह् : 1133159\n",
            "म् : 1053237\n",
            "त् : 980066\n",
            "ल् : 919917\n",
            "ओ : 896588\n",
            "प् : 805896\n",
            "य् : 752819\n",
            "व् : 624743\n",
            "द् : 607633\n",
            "उ : 587149\n"
          ]
        }
      ],
      "id": "fe560f0f-9cbd-4b1b-96ad-8d342e4c2b0f"
    },
    {
      "cell_type": "code",
      "source": [
        "del char_list"
      ],
      "metadata": {
        "id": "sJK9i4fMJCw2",
        "execution": {
          "iopub.status.busy": "2024-02-17T06:37:29.679433Z",
          "iopub.execute_input": "2024-02-17T06:37:29.67982Z",
          "iopub.status.idle": "2024-02-17T06:37:29.685455Z",
          "shell.execute_reply.started": "2024-02-17T06:37:29.67978Z",
          "shell.execute_reply": "2024-02-17T06:37:29.684218Z"
        },
        "trusted": true
      },
      "execution_count": null,
      "outputs": [],
      "id": "sJK9i4fMJCw2"
    },
    {
      "cell_type": "markdown",
      "source": [
        "##### Bi-gram"
      ],
      "metadata": {
        "id": "QzFYXIag8MQQ"
      },
      "id": "QzFYXIag8MQQ"
    },
    {
      "cell_type": "code",
      "source": [
        "def character_bigrams(tokens):\n",
        "  char_list_bi = []\n",
        "  for i in tokens:\n",
        "      if i == '$':\n",
        "          continue\n",
        "      list1 = unicode_corrected(i)  #unicode_correction of tokens and counting characters\n",
        "      for i in range(1,len(list1)):\n",
        "        new = list1[i-1]+list1[i]\n",
        "        char_list_bi.append(new)\n",
        "  return char_list_bi"
      ],
      "metadata": {
        "id": "qSycU1Z7DawD"
      },
      "id": "qSycU1Z7DawD",
      "execution_count": null,
      "outputs": []
    },
    {
      "cell_type": "code",
      "source": [
        "char_list_bi = character_bigrams(tokens) # generate list of bigram characters\n",
        "top20(char_list_bi)"
      ],
      "metadata": {
        "colab": {
          "base_uri": "https://localhost:8080/"
        },
        "id": "AeMo26lz8OsI",
        "outputId": "11ea7d52-70f0-4761-f64c-c7bac09a5a26",
        "execution": {
          "iopub.status.busy": "2024-02-17T06:37:32.310633Z",
          "iopub.execute_input": "2024-02-17T06:37:32.311012Z",
          "iopub.status.idle": "2024-02-17T06:38:28.250559Z",
          "shell.execute_reply.started": "2024-02-17T06:37:32.310984Z",
          "shell.execute_reply": "2024-02-17T06:38:28.249228Z"
        },
        "trusted": true
      },
      "execution_count": null,
      "outputs": [
        {
          "output_type": "stream",
          "name": "stdout",
          "text": [
            "र्अ : 1169953\n",
            "अर् : 785625\n",
            "क्अ : 610555\n",
            "स्अ : 517928\n",
            "न्अ : 515086\n",
            "अन् : 432177\n",
            "क्ए : 407130\n",
            "प्अ : 403704\n",
            "अह् : 390458\n",
            "आर् : 368632\n",
            "एअं : 360547\n",
            "त्अ : 354071\n",
            "अक् : 350793\n",
            "ल्अ : 329260\n",
            "न्ए : 328954\n",
            "म्अ : 322851\n",
            "क्आ : 314323\n",
            "अत् : 308623\n",
            "य्आ : 297778\n",
            "ह्ऐ : 297241\n"
          ]
        }
      ],
      "id": "AeMo26lz8OsI"
    },
    {
      "cell_type": "code",
      "source": [
        "del char_list_bi"
      ],
      "metadata": {
        "id": "MjnoFGwyI7Nk",
        "execution": {
          "iopub.status.busy": "2024-02-17T06:38:42.069605Z",
          "iopub.execute_input": "2024-02-17T06:38:42.070457Z",
          "iopub.status.idle": "2024-02-17T06:38:42.75503Z",
          "shell.execute_reply.started": "2024-02-17T06:38:42.070418Z",
          "shell.execute_reply": "2024-02-17T06:38:42.753505Z"
        },
        "trusted": true
      },
      "execution_count": null,
      "outputs": [],
      "id": "MjnoFGwyI7Nk"
    },
    {
      "cell_type": "markdown",
      "source": [
        "### Syllables with their Frequencies"
      ],
      "metadata": {
        "id": "fffe4ebe-b7cf-4969-9ebe-79eca4a3b1e1"
      },
      "id": "fffe4ebe-b7cf-4969-9ebe-79eca4a3b1e1"
    },
    {
      "cell_type": "code",
      "source": [
        "# function for finding the syllables given a word\n",
        "def gen_syllable(word, slist):\n",
        "    syllable = \"\"\n",
        "    if len(word)==0:\n",
        "        return\n",
        "    if word[0] in swars:\n",
        "        slist.append(word[0])\n",
        "    else:\n",
        "        syllable = word[0]\n",
        "    for i in range(1,len(word)):\n",
        "      if word[i-1] in swars and word[i] in swars:\n",
        "        slist.append(word[i])\n",
        "      elif word[i] in swars:\n",
        "        syllable = syllable[:-1]\n",
        "        syllable += swar_map[word[i]]\n",
        "        slist.append(syllable)\n",
        "        syllable = \"\"\n",
        "      else:\n",
        "        syllable += word[i]"
      ],
      "metadata": {
        "id": "d9ca89f3-3d93-4e78-a894-cfa223e7cefb",
        "execution": {
          "iopub.status.busy": "2024-02-17T06:39:20.556706Z",
          "iopub.execute_input": "2024-02-17T06:39:20.557126Z",
          "iopub.status.idle": "2024-02-17T06:39:20.565994Z",
          "shell.execute_reply.started": "2024-02-17T06:39:20.557097Z",
          "shell.execute_reply": "2024-02-17T06:39:20.564737Z"
        },
        "trusted": true
      },
      "execution_count": null,
      "outputs": [],
      "id": "d9ca89f3-3d93-4e78-a894-cfa223e7cefb"
    },
    {
      "cell_type": "markdown",
      "source": [
        "##### unigram syllables"
      ],
      "metadata": {
        "id": "M1m4V2idxsgm"
      },
      "id": "M1m4V2idxsgm"
    },
    {
      "cell_type": "code",
      "source": [
        "# generate all the uni-gram syllables given a list of tokens\n",
        "def syllable_unigrams(tokens):\n",
        "  s_list = []\n",
        "  for i in tokens:\n",
        "    word = unicode_corrected(i)\n",
        "    gen_syllable(word,s_list)\n",
        "  return s_list"
      ],
      "metadata": {
        "id": "a28da4b8-709d-4760-8981-d29e7b3e0255",
        "execution": {
          "iopub.status.busy": "2024-02-17T06:39:26.230999Z",
          "iopub.execute_input": "2024-02-17T06:39:26.231366Z",
          "iopub.status.idle": "2024-02-17T06:39:26.236905Z",
          "shell.execute_reply.started": "2024-02-17T06:39:26.231339Z",
          "shell.execute_reply": "2024-02-17T06:39:26.235481Z"
        },
        "trusted": true
      },
      "execution_count": null,
      "outputs": [],
      "id": "a28da4b8-709d-4760-8981-d29e7b3e0255"
    },
    {
      "cell_type": "code",
      "source": [
        "syllable_list = syllable_unigrams(tokens) # generate list of unigram syllables\n",
        "top20(syllable_list)"
      ],
      "metadata": {
        "colab": {
          "base_uri": "https://localhost:8080/"
        },
        "id": "fc17552d-1473-482f-8f56-2fb4e0855aca",
        "outputId": "1d4802c5-e061-4a4e-8f02-e966094da02d",
        "execution": {
          "iopub.status.busy": "2024-02-17T06:40:47.619545Z",
          "iopub.execute_input": "2024-02-17T06:40:47.619972Z",
          "iopub.status.idle": "2024-02-17T06:40:47.628979Z",
          "shell.execute_reply.started": "2024-02-17T06:40:47.619939Z",
          "shell.execute_reply": "2024-02-17T06:40:47.627512Z"
        },
        "trusted": true
      },
      "execution_count": null,
      "outputs": [
        {
          "output_type": "stream",
          "name": "stdout",
          "text": [
            "र : 1005547\n",
            "अं : 1002821\n",
            "क : 596506\n",
            "न : 502798\n",
            "स : 487412\n",
            "के : 404826\n",
            "प : 388127\n",
            "ने : 328058\n",
            "ल : 322039\n",
            "त : 308134\n",
            "का : 307758\n",
            "ए : 306908\n",
            "है : 297056\n",
            "मे : 292362\n",
            "म : 290360\n",
            "ह : 278520\n",
            "ब : 242393\n",
            "आ : 237245\n",
            "अ : 236246\n",
            "की : 234967\n"
          ]
        }
      ],
      "id": "fc17552d-1473-482f-8f56-2fb4e0855aca"
    },
    {
      "cell_type": "code",
      "source": [
        "del syllable_list"
      ],
      "metadata": {
        "id": "4GEg-HvBIy64",
        "execution": {
          "iopub.status.busy": "2024-02-17T06:40:51.492265Z",
          "iopub.execute_input": "2024-02-17T06:40:51.49267Z",
          "iopub.status.idle": "2024-02-17T06:40:51.595643Z",
          "shell.execute_reply.started": "2024-02-17T06:40:51.492638Z",
          "shell.execute_reply": "2024-02-17T06:40:51.594253Z"
        },
        "trusted": true
      },
      "execution_count": null,
      "outputs": [],
      "id": "4GEg-HvBIy64"
    },
    {
      "cell_type": "markdown",
      "source": [
        "##### Bi-gram syllables"
      ],
      "metadata": {
        "id": "6ogVJkfY-oAY"
      },
      "id": "6ogVJkfY-oAY"
    },
    {
      "cell_type": "code",
      "source": [
        "# return a list of bi-gram syllables given a list of tokens\n",
        "def syllable_bigrams(tokens):\n",
        "  s_list_bi = []\n",
        "  for i in tokens:\n",
        "    s_list = []\n",
        "    word = unicode_corrected(i)\n",
        "    gen_syllable(word,s_list)\n",
        "    for i in range(1,len(s_list)):\n",
        "      s_list_bi.append(s_list[i-1]+s_list[i])\n",
        "  return s_list_bi"
      ],
      "metadata": {
        "id": "d2w8W1fSx0yD",
        "execution": {
          "iopub.status.busy": "2024-02-17T06:41:21.117368Z",
          "iopub.execute_input": "2024-02-17T06:41:21.118658Z",
          "iopub.status.idle": "2024-02-17T06:41:21.125527Z",
          "shell.execute_reply.started": "2024-02-17T06:41:21.118612Z",
          "shell.execute_reply": "2024-02-17T06:41:21.124192Z"
        },
        "trusted": true
      },
      "execution_count": null,
      "outputs": [],
      "id": "d2w8W1fSx0yD"
    },
    {
      "cell_type": "code",
      "source": [
        "syllable_list_bi = syllable_bigrams(tokens) # generate list of bi-gram syllables\n",
        "top(syllable_list_bi)"
      ],
      "metadata": {
        "execution": {
          "iopub.status.busy": "2024-02-17T06:41:24.683437Z",
          "iopub.execute_input": "2024-02-17T06:41:24.683822Z",
          "iopub.status.idle": "2024-02-17T06:42:41.038687Z",
          "shell.execute_reply.started": "2024-02-17T06:41:24.683774Z",
          "shell.execute_reply": "2024-02-17T06:42:41.03744Z"
        },
        "trusted": true,
        "colab": {
          "base_uri": "https://localhost:8080/"
        },
        "id": "edvXVno38pBp",
        "outputId": "b732ba49-47e1-465d-e071-d11cfaaebc1f"
      },
      "execution_count": null,
      "outputs": [
        {
          "output_type": "stream",
          "name": "stdout",
          "text": [
            "मेअं : 259276\n",
            "कर : 159729\n",
            "और : 115735\n",
            "पर : 99547\n",
            "इस : 82722\n",
            "हैअं : 80772\n",
            "हीअं : 55811\n",
            "एक : 54456\n",
            "लिए : 54045\n",
            "नही : 49370\n",
            "अप : 45131\n",
            "कार : 38882\n",
            "किया : 37453\n",
            "योअं : 34596\n",
            "रने : 34498\n",
            "कहा : 33141\n",
            "यह : 31405\n",
            "गया : 30316\n",
            "सर : 30078\n",
            "उन : 28940\n"
          ]
        }
      ],
      "id": "edvXVno38pBp"
    },
    {
      "cell_type": "code",
      "source": [
        "del syllable_list_bi"
      ],
      "metadata": {
        "id": "JIITi9rdIiZf",
        "execution": {
          "iopub.status.busy": "2024-02-17T06:42:48.859656Z",
          "iopub.execute_input": "2024-02-17T06:42:48.860067Z",
          "iopub.status.idle": "2024-02-17T06:42:48.95081Z",
          "shell.execute_reply.started": "2024-02-17T06:42:48.860033Z",
          "shell.execute_reply": "2024-02-17T06:42:48.949501Z"
        },
        "trusted": true
      },
      "execution_count": null,
      "outputs": [],
      "id": "JIITi9rdIiZf"
    },
    {
      "cell_type": "code",
      "source": [
        "del data"
      ],
      "metadata": {
        "id": "5qpOBGgYPlmG",
        "execution": {
          "iopub.status.busy": "2024-02-17T06:42:50.542022Z",
          "iopub.execute_input": "2024-02-17T06:42:50.542484Z",
          "iopub.status.idle": "2024-02-17T06:42:50.584937Z",
          "shell.execute_reply.started": "2024-02-17T06:42:50.542449Z",
          "shell.execute_reply": "2024-02-17T06:42:50.583294Z"
        },
        "trusted": true
      },
      "execution_count": null,
      "outputs": [],
      "id": "5qpOBGgYPlmG"
    },
    {
      "cell_type": "markdown",
      "source": [
        "# Question 3"
      ],
      "metadata": {
        "id": "LQeUjX4d6B4f"
      },
      "id": "LQeUjX4d6B4f"
    },
    {
      "cell_type": "markdown",
      "source": [
        "1. संघ के प्रांतीय सचिव एवं कोषाध्यक्ष रणदीप आर्य ने बताया कि बिजली विभाग में कभी ट्रांसफार्मर दिलवाने के नाम पर और कभी तेल व केबल के नाम पर अतिरिक्त शुल्क मांगा जाता है और किसान को मजबूरीवश यह शुल्क देना पड़ता है।\n",
        "\n",
        "---\n",
        "\n",
        "\n",
        "Ans: संघ के, प्रांतीय सचिव एवं कोषाध्यक्ष, रणदीप\n",
        "आर्य ने, बताया, कि, बिजली विभाग में, कभी, ट्रांसफार्मर, दिलवाने के, नाम पर, और, कभी, तेल व केबल के, नाम पर, अतिरिक्त शुल्क, मांगा जाता है, और, किसान को, मजबूरीवश, यह शुल्क, देना, पड़ता है।\n",
        "\n",
        "2. वहीं दूसरी ओर, ऐलनाबाद विधायक व वरिष्ठ नेता अभय सिंह चौटाला ने चुटकी लेते हुये कहा, पहले आम कहावत थी कि ‘प्याज रोटी खाओ प्रभु के गुण गाओ’ परंतु आजकल प्याज ने तो उपभोक्ताओं के आंसू निकाल दिए हैं।\n",
        "\n",
        "\n",
        "---\n",
        "\n",
        "\n",
        "Ans: वहीं दूसरी ओर, ऐलनाबाद विधायक व वरिष्ठ नेता, अभय सिंह चौटाला ने, चुटकी लेते हुये, कहा, पहले, आम कहावत, थी, कि, ‘प्याज रोटी, खाओ, प्रभु के गुण, गाओ’, परंतु, आजकल, प्याज ने तो, उपभोक्ताओं के, आंसू, निकाल दिए हैं।\n",
        "\n",
        "3. ये सेना के आधुनिकीकरण में एक बड़ा कदम माना जा रहा है ।\n",
        "---\n",
        "Ans: ये, सेना के, आधुनिकीकरण में, एक बड़ा कदम, माना जा रहा है\n",
        "\n",
        "4. अपने बयान में आधार कार्ड जारी करने वाली अथॉरिटी यूआईडीएआई ने कहा था कि, इस तरह के कार्ड आपकी प्राइवेसी के लिए खतरा साबित हो सकते हैं।\n",
        "---\n",
        "Ans: अपने बयान में, आधार कार्ड, जारी करने वाली, अथॉरिटी, यूआईडीएआई ने, कहा था कि, इस तरह के, कार्ड, आपकी प्राइवेसी, के लिए, खतरा, साबित, हो सकते हैं\n",
        "\n",
        "5. वहीं प्रबंधन समिति कुसुम चाचान कहतीं हैं कि मरीजों एवं उनके स्वजनों को निशुल्क भोजन कराकर सुख की अनुभूति होती है।\n",
        "---\n",
        "Ans: वहीं, प्रबंधन समिति, कुसुम चाचान, कहतीं हैं, कि, मरीजों एवं उनके स्वजनों को, निशुल्क भोजन, कराकर, सुख की अनुभूति, होती है\n",
        "\n",
        "6. फिर पानी भी कम मात्रा में सिंचाई के लिए उपलब्ध होता है।\n",
        "---\n",
        "Ans: फिर, पानी भी, कम मात्रा में, सिंचाई के लिए, उपलब्ध, होता है\n",
        "\n",
        "7. लेकिन दिवाली से एक दिन पहले रात को दोबारा से यह दीवार बना दी गई।\n",
        "---\n",
        "Ans: लेकिन, दिवाली से, एक दिन पहले, रात को, दोबारा से, यह दीवार, बना दी गई\n",
        "\n",
        "8. Ó अदालत ने कुरान की एक आयत का जिक्र किया जो कहती है, ‘मुस्लिम धर्म को नहीं मानने वाली महिलाओं से तब तक शादी न करें जब तक कि वह इस्लाम को मानने न लगे ़ ़ ़ अपनी बेटियों का ऐसे लोगों से तब तक निकाह नहीं करें जब तक कि वे मुस्लिम धर्म को मानने न लग जाएं।\n",
        "---\n",
        "Ans: अदालत ने, कुरान की, एक आयत का, जिक्र किया, जो, कहती है, ‘मुस्लिम धर्म को, नहीं मानने वाली, महिलाओं से, तब तक, शादी न करें, जब तक कि, वह, इस्लाम को, मानने न लगे, अपनी बेटियों का, ऐसे लोगों से, तब तक, निकाह नहीं करें, जब तक कि, वे, मुस्लिम धर्म को, मानने न लग जाएं\n",
        "\n",
        "9. भोपाल की रैली में राहुल ने कार्यकर्ताओं को आभार व्यक्त करते हुए कहा कि पीएम मोदी भाषण देते हैं तो कहते हैं कि ‘मैं कांग्रेस को मिटा दूंगा’ लेकिन हमारी राजस्थान, मध्य प्रदेश और छत्तीसगढ़ में सरकार बन गई और दिल्ली में बनने वाली है।\n",
        "---\n",
        "Ans: भोपाल की, रैली में, राहुल ने, कार्यकर्ताओं को, आभार व्यक्त करते हुए, कहा कि, पीएम मोदी, भाषण देते हैं, तो, कहते हैं कि, ‘मैं, कांग्रेस को, मिटा दूंगा,’ लेकिन, हमारी, राजस्थान, मध्य प्रदेश और छत्तीसगढ़ में, सरकार बन गई, और, दिल्ली में, बनने वाली है\n",
        "\n",
        "10. पुलिस ने शव को कब्जे में लेकर पोस्टमार्टम के लिए भेज दिया है.\n",
        "---\n",
        "Ans: पुलिस ने, शव को, कब्जे में, लेकर, पोस्टमार्टम के लिए, भेज दिया है\n",
        "\n",
        "11. ऐसे में बोर्ड ने दोबारा परीक्षा कराने का फैसला लिया।\n",
        "---\n",
        "Ans: ऐसे में, बोर्ड ने, दोबारा, परीक्षा कराने का, फैसला लिया\n",
        "\n",
        "12. महिला की शिकायत पर पुलिस ने केस दर्ज कर आरोपी को गिरफ्तार कर लिया है।\n",
        "---\n",
        "Ans: महिला की, शिकायत पर, पुलिस ने, केस दर्ज कर, आरोपी को, गिरफ्तार कर लिया है\n",
        "\n",
        "13. इस साल अक्षय कुमार की. . . महीने के अनुसार पढ़े\n",
        "---\n",
        "Ans: इस साल, अक्षय कुमार की, . . ., महीने के अनुसार, पढ़े\n",
        "\n",
        "14. सिखा के कुल्हे खोल के मैंने उसके पिछवाड़े के छेद पर ये झाग को लगा दिया. गांड के छेद को एकदम चिकना कर के मैंने लंड के ऊपर भी झाग बनाया.\n",
        "---\n",
        "Ans: सिखा के, कुल्हे, खोल के, मैंने, उसके, पिछवाड़े के छेद पर, ये झाग को, लगा दिया, गांड के छेद को, एकदम चिकना, कर के, मैंने, लंड के ऊपर भी, झाग बनाया\n",
        "\n",
        "15. उन्होंने कहा, ‘सरकार ने ब्यूसेजोर क्रिकेट ग्राउंड का नाम बदलने का ऐतिहासिक फैसला किया है जो संकेत देता है कि वेस्टइंडीज में स्थानीय खिलाड़ियों के लिए कितना प्यार है. अपने देश में इस सम्मान के लिए डेरेन को बधाई.’\n",
        "---\n",
        "Ans: उन्होंने, कहा, ‘सरकार ने, ब्यूसेजोर क्रिकेट ग्राउंड का, नाम, बदलने का, ऐतिहासिक फैसला, किया है, जो, संकेत देता है, कि, वेस्टइंडीज में, स्थानीय खिलाड़ियों, के लिए, कितना, प्यार है, अपने देश में, इस सम्मान के लिए, डेरेन को बधाई\n",
        "\n",
        "16. कार्यकर्ताओं ने श्री बिश्नोई व पार्टी के समर्थन में नारे लगाये और एक-दूसरे को लड्डïू खिलाकर मुंह मीठा कराया।\n",
        "---\n",
        "Ans: कार्यकर्ताओं ने, श्री बिश्नोई व पार्टी के, समर्थन में, नारे लगाये, और, एक-दूसरे को, लड्डïू खिलाकर, मुंह, मीठा कराया\n",
        "\n",
        "17. खबर में पार्क के प्रवक्ता जैमी रिचर्ड्स के हवाले से कहा गया है, 'हमें अभी तक नहीं पता कि वे कैसे गिरे। हम यह समझने की कोशिश कर रहे हैं कि क्या हुआ।\n",
        "---\n",
        "Ans: खबर में, पार्क के प्रवक्ता, जैमी रिचर्ड्स के हवाले से, कहा गया है, 'हमें, अभी तक, नहीं पता कि, वे, कैसे गिरे, हम, यह, समझने की कोशिश, कर रहे हैं कि, क्या, हुआ\n",
        "\n",
        "18. बिजली विभाग ने आज गांव चिडाव के ग्राम सचिवालय में खुला दरबार लगाया।\n",
        "---\n",
        "Ans: बिजली विभाग ने, आज, गांव, चिडाव के, ग्राम सचिवालय में, खुला दरबार, लगाया\n",
        "\n",
        "19. कैरीजेन का ज्यादातर जीवन फिटनेस के आसपास ही घूमता रहा। ट्रेनिंग के केवल एक साल के बाद उन्होंने एक बेहतर शरीर का निर्माण किया उसके बाद उन्होंने फिटनेस प्रतियोगिता में भाग लेकर जीत को हासिल कर लिया।\n",
        "---\n",
        "Ans: कैरीजेन का, ज्यादातर जीवन, फिटनेस के, आसपास ही, घूमता रहा, ट्रेनिंग के, केवल एक साल के बाद, उन्होंने, एक बेहतर शरीर का, निर्माण किया, उसके बाद, उन्होंने, फिटनेस प्रतियोगिता में, भाग लेकर, जीत को, हासिल कर लिया\n",
        "\n",
        "20. स्थान : प्राचीनतम शनि मंदिर संस्थान, जूनी इंदौर\n",
        "---\n",
        "Ans: स्थान,  प्राचीनतम शनि मंदिर संस्थान, जूनी इंदौर\n",
        "\n",
        "21. शतरंज : एआईसीएफ की आम बैठक रविवार को  (19:58)\n",
        "---\n",
        "Ans: शतरंज, एआईसीएफ की, आम बैठक, रविवार को\n",
        "\n",
        "22. आपको बता दें कि सपना ने याचिका में कहा कि यह रागिनी विभिन्न लोक गायक पिछले चार दशकों से भी अधिक समय से विभिन्न कलाकारों द्वारा प्रस्तुत की जा रही है।\n",
        "---\n",
        "Ans: आपको, बता दें, कि, सपना ने, याचिका में, कहा कि, यह रागिनी, विभिन्न लोक गायक, पिछले, चार दशकों से, भी ,अधिक समय से, विभिन्न कलाकारों द्वारा, प्रस्तुत की जा रही है\n",
        "\n",
        "23. अब तक 16 टीमें पहुंच चुकी हैं।\n",
        "---\n",
        "Ans: अब तक, 16 टीमें, पहुंच चुकी हैं\n",
        "\n",
        "24. प्रथम दो माह तक कैंसर के रोगी का आहार सिर्फ अंगूर ही होना चाहिए।\n",
        "---\n",
        "Ans: प्रथम दो माह तक, कैंसर के, रोगी का ,आहार, सिर्फ अंगूर ही, होना चाहिए\n",
        "\n",
        "25. ऐसे लोग भ्रांति फैला कर उसका लाभ उठाना चाहते हैं।\n",
        "---\n",
        "Ans: ऐसे लोग, भ्रांति, फैला कर, उसका लाभ, उठाना चाहते हैं\n",
        "\n"
      ],
      "metadata": {
        "id": "m71QcaRk6O4e"
      },
      "id": "m71QcaRk6O4e"
    },
    {
      "cell_type": "markdown",
      "source": [
        "# Question 4"
      ],
      "metadata": {
        "id": "bPzqmxE6gk9_"
      },
      "id": "bPzqmxE6gk9_"
    },
    {
      "cell_type": "markdown",
      "source": [
        "### Some Pre-Processing"
      ],
      "metadata": {
        "id": "c1FEAevnGGbt"
      },
      "id": "c1FEAevnGGbt"
    },
    {
      "cell_type": "code",
      "source": [
        "import sentencepiece as spm # importing SentencePiece library for training Unigram and BPE models\n",
        "\n",
        "# change input parameter when running at different environment\n",
        "\n",
        "# Train unigram tokenizer\n",
        "spm.SentencePieceTrainer.train(input='/kaggle/input/hindi-corpus/hi_100_new.txt', model_prefix='uni_1k', model_type='unigram')\n",
        "\n",
        "# Train BPE tokenizer with vocabulary size 1000\n",
        "spm.SentencePieceTrainer.train(input='/kaggle/input/hindi-corpus/hi_100_new.txt', model_prefix='bpe_1k', vocab_size=1000, model_type='bpe')\n",
        "\n",
        "# Train BPE tokenizer with vocabulary size 2000\n",
        "spm.SentencePieceTrainer.train(input='/kaggle/input/hindi-corpus/hi_100_new.txt', model_prefix='bpe_2k', vocab_size=2000, model_type='bpe')\n",
        "\n"
      ],
      "metadata": {
        "id": "79ezcHl4gijk",
        "execution": {
          "iopub.status.busy": "2024-02-17T06:43:57.186432Z",
          "iopub.execute_input": "2024-02-17T06:43:57.186891Z",
          "iopub.status.idle": "2024-02-17T06:46:08.801012Z",
          "shell.execute_reply.started": "2024-02-17T06:43:57.186857Z",
          "shell.execute_reply": "2024-02-17T06:46:08.799717Z"
        },
        "trusted": true
      },
      "execution_count": null,
      "outputs": [],
      "id": "79ezcHl4gijk"
    },
    {
      "cell_type": "code",
      "source": [
        "# function for bi-gram tokens\n",
        "def token_bigrams(tokens):\n",
        "  tokens_bi = []\n",
        "  for i in range(1,len(tokens)):\n",
        "    tokens_bi.append(tokens[i-1]+tokens[i])\n",
        "  return tokens_bi"
      ],
      "metadata": {
        "id": "NH8_mVTllwG7",
        "execution": {
          "iopub.status.busy": "2024-02-17T06:46:29.65904Z",
          "iopub.execute_input": "2024-02-17T06:46:29.65974Z",
          "iopub.status.idle": "2024-02-17T06:46:29.666277Z",
          "shell.execute_reply.started": "2024-02-17T06:46:29.659705Z",
          "shell.execute_reply": "2024-02-17T06:46:29.664873Z"
        },
        "trusted": true
      },
      "execution_count": null,
      "outputs": [],
      "id": "NH8_mVTllwG7"
    },
    {
      "cell_type": "markdown",
      "source": [
        "Function for finding and printing unigram frequencies of tokens, Characters and Syllables"
      ],
      "metadata": {
        "id": "G476RryK-CmM"
      },
      "id": "G476RryK-CmM"
    },
    {
      "cell_type": "code",
      "source": [
        "# for printing uni-gram frequencies of tokens, characters and syllables of different tokenizer models given list of tokens of produced by that model.\n",
        "def uni_gram_frequencies(tokens):\n",
        "  print(\"\\nUni-gram tokens:\")\n",
        "  top20(tokens)\n",
        "  print(\"\\nUni-gram Characters:\")\n",
        "  characters = character_count(tokens)\n",
        "  top20(characters)\n",
        "  del characters\n",
        "  print(\"\\nUni-gram Syllables:\")\n",
        "  syllables = syllable_unigrams(tokens)\n",
        "  top20(syllables)"
      ],
      "metadata": {
        "id": "DgfzF961-Bms",
        "execution": {
          "iopub.status.busy": "2024-02-17T06:46:38.292666Z",
          "iopub.execute_input": "2024-02-17T06:46:38.293076Z",
          "iopub.status.idle": "2024-02-17T06:46:38.299923Z",
          "shell.execute_reply.started": "2024-02-17T06:46:38.293039Z",
          "shell.execute_reply": "2024-02-17T06:46:38.298734Z"
        },
        "trusted": true
      },
      "execution_count": null,
      "outputs": [],
      "id": "DgfzF961-Bms"
    },
    {
      "cell_type": "markdown",
      "source": [
        "Function for finding and printing bigram frequencies of tokens, Characters and Syllables"
      ],
      "metadata": {
        "id": "P-4LO4xw-PUT"
      },
      "id": "P-4LO4xw-PUT"
    },
    {
      "cell_type": "code",
      "source": [
        "# for printing bi-gram frequencies of tokens, characters and syllables of different tokenizer models given list of tokens of produced by that model.\n",
        "def bi_gram_frequencies(tokens):\n",
        "  token_bi = token_bigrams(tokens)\n",
        "  top20(token_bi)\n",
        "  print(\"\\nBi-gram Characters:\")\n",
        "  del token_bi\n",
        "  characters = character_bigrams(tokens)\n",
        "  top20(characters)\n",
        "  del characters\n",
        "  print(\"\\nBi-gram Syllables:\")\n",
        "  syllables = syllable_bigrams(tokens)\n",
        "  top20(syllables)"
      ],
      "metadata": {
        "id": "dnF25Cqy99ui",
        "execution": {
          "iopub.status.busy": "2024-02-17T06:46:46.332677Z",
          "iopub.execute_input": "2024-02-17T06:46:46.3332Z",
          "iopub.status.idle": "2024-02-17T06:46:46.341439Z",
          "shell.execute_reply.started": "2024-02-17T06:46:46.333151Z",
          "shell.execute_reply": "2024-02-17T06:46:46.339895Z"
        },
        "trusted": true
      },
      "execution_count": null,
      "outputs": [],
      "id": "dnF25Cqy99ui"
    },
    {
      "cell_type": "markdown",
      "source": [
        "Function for working with a tokenizer algorithm"
      ],
      "metadata": {
        "id": "soGUzcQ_-1ar"
      },
      "id": "soGUzcQ_-1ar"
    },
    {
      "cell_type": "code",
      "source": [
        "# loads different tokenizer models and generate tokens\n",
        "def algorithm_model(model,corpus):\n",
        "  sp_model = spm.SentencePieceProcessor()\n",
        "  sp_model.load(model)\n",
        "  tokens = sp_model.encode_as_pieces(corpus)\n",
        "  return tokens"
      ],
      "metadata": {
        "id": "t--xutlB-7Ae",
        "execution": {
          "iopub.status.busy": "2024-02-17T06:46:50.315485Z",
          "iopub.execute_input": "2024-02-17T06:46:50.316402Z",
          "iopub.status.idle": "2024-02-17T06:46:50.322902Z",
          "shell.execute_reply.started": "2024-02-17T06:46:50.316366Z",
          "shell.execute_reply": "2024-02-17T06:46:50.321337Z"
        },
        "trusted": true
      },
      "execution_count": null,
      "outputs": [],
      "id": "t--xutlB-7Ae"
    },
    {
      "cell_type": "code",
      "source": [
        "# load 25 questions for generating tokens by all the models in question 4. We will use these tokens in quetion 5 for performance measuring.\n",
        "with open('/kaggle/input/hindi-corpus/Q3_corpus.txt','r',encoding='utf-8') as f:\n",
        "  q3_corpus = f.read()"
      ],
      "metadata": {
        "id": "fwv4OTmOR0gX",
        "execution": {
          "iopub.status.busy": "2024-02-17T06:47:08.796983Z",
          "iopub.execute_input": "2024-02-17T06:47:08.797413Z",
          "iopub.status.idle": "2024-02-17T06:47:08.806402Z",
          "shell.execute_reply.started": "2024-02-17T06:47:08.797384Z",
          "shell.execute_reply": "2024-02-17T06:47:08.80515Z"
        },
        "trusted": true
      },
      "execution_count": null,
      "outputs": [],
      "id": "fwv4OTmOR0gX"
    },
    {
      "cell_type": "code",
      "source": [
        "# Read the entire corpus for working with different tokenizer models\n",
        "with open('/kaggle/input/hindi-corpus/hi_100_new.txt','r',encoding='utf-8') as f:\n",
        "  corpus = f.read()"
      ],
      "metadata": {
        "id": "k5sk0QURPaUu",
        "execution": {
          "iopub.status.busy": "2024-02-17T06:51:10.305383Z",
          "iopub.execute_input": "2024-02-17T06:51:10.305951Z",
          "iopub.status.idle": "2024-02-17T06:51:11.188762Z",
          "shell.execute_reply.started": "2024-02-17T06:51:10.305908Z",
          "shell.execute_reply": "2024-02-17T06:51:11.187297Z"
        },
        "trusted": true
      },
      "execution_count": null,
      "outputs": [],
      "id": "k5sk0QURPaUu"
    },
    {
      "cell_type": "markdown",
      "source": [
        "### Unigram algorithm"
      ],
      "metadata": {
        "id": "IXNe4unCsKza"
      },
      "id": "IXNe4unCsKza"
    },
    {
      "cell_type": "code",
      "source": [
        "tokens_uni_1k = algorithm_model('uni_1k.model',corpus) # generate tokens of whole corpus\n",
        "tokens_uni_1k_25 = algorithm_model('uni_1k.model',q3_corpus) # generate tokens of 25 questions to be used in question 5\n",
        "cleaned_tokens_uni1k = [token.replace('▁', '') for token in tokens_uni_1k if token not in noise and token not in matras ] # clean tokens of tokenizer model"
      ],
      "metadata": {
        "id": "Z4WGAIizsLWO",
        "execution": {
          "iopub.status.busy": "2024-02-17T06:51:15.967972Z",
          "iopub.execute_input": "2024-02-17T06:51:15.970778Z",
          "iopub.status.idle": "2024-02-17T06:51:44.706006Z",
          "shell.execute_reply.started": "2024-02-17T06:51:15.970737Z",
          "shell.execute_reply": "2024-02-17T06:51:44.704972Z"
        },
        "trusted": true
      },
      "execution_count": null,
      "outputs": [],
      "id": "Z4WGAIizsLWO"
    },
    {
      "cell_type": "markdown",
      "source": [
        "##### Uni-gram frequencies"
      ],
      "metadata": {
        "id": "V-TfC0HTsR8h"
      },
      "id": "V-TfC0HTsR8h"
    },
    {
      "cell_type": "code",
      "source": [
        "uni_gram_frequencies(cleaned_tokens_uni1k) # print uni-gram frequencies of tokens, characters and syllables"
      ],
      "metadata": {
        "colab": {
          "base_uri": "https://localhost:8080/"
        },
        "id": "ksKSfOef_knd",
        "outputId": "50abadaf-74ad-4a0a-bfc5-22b8f975fab7",
        "execution": {
          "iopub.status.busy": "2024-02-17T06:52:15.071593Z",
          "iopub.execute_input": "2024-02-17T06:52:15.072116Z",
          "iopub.status.idle": "2024-02-17T06:54:15.082707Z",
          "shell.execute_reply.started": "2024-02-17T06:52:15.072082Z",
          "shell.execute_reply": "2024-02-17T06:54:15.08134Z"
        },
        "trusted": true
      },
      "execution_count": null,
      "outputs": [
        {
          "name": "stdout",
          "text": "\nUni-gram tokens:\nके : 327776\n। : 276509\nमें : 240971\nहै : 228767\nकी : 200438\nको : 155030\nसे : 147370\nका : 125966\nने : 124887\nऔर : 115827\nपर : 97774\nकि : 83312\nहैं : 66837\nभी : 65971\nकर : 64023\nन : 60454\nों : 56936\nएक : 54623\n : 53712\nइस : 50577\n\nUni-gram Characters:\nअ : 7687399\nआ : 2945384\nए : 2283936\nक् : 2221101\nर् : 2115631\nइ : 1424414\nई : 1391237\nन् : 1334418\nस् : 1283708\nअं : 1181533\nह् : 1133159\nम् : 1053237\nत् : 980066\nल् : 919917\nओ : 882167\nप् : 805896\nय् : 753228\nव् : 624743\nद् : 607633\nउ : 580536\n\nUni-gram Syllables:\nर : 1082442\nअं : 988776\nक : 631185\nन : 549470\nस : 518598\nके : 401109\nप : 398871\nल : 370074\nए : 342237\nत : 329456\nने : 322271\nम : 315715\nका : 302629\nहै : 296941\nह : 291857\nमे : 290425\nआ : 287786\nइ : 283378\nब : 254355\nग : 241495\n",
          "output_type": "stream"
        }
      ],
      "id": "ksKSfOef_knd"
    },
    {
      "cell_type": "markdown",
      "source": [
        "##### bi-gram frequencies"
      ],
      "metadata": {
        "id": "jdzar2I2x_iQ"
      },
      "id": "jdzar2I2x_iQ"
    },
    {
      "cell_type": "code",
      "source": [
        "bi_gram_frequencies(cleaned_tokens_uni1k) # print bi-gram frequencies of tokens, characters and syllables"
      ],
      "metadata": {
        "colab": {
          "base_uri": "https://localhost:8080/"
        },
        "id": "SStzQK_m_4HE",
        "outputId": "6cc25880-8431-4605-b484-d4f88d2ef68e"
      },
      "execution_count": null,
      "outputs": [
        {
          "output_type": "stream",
          "name": "stdout",
          "text": "है। : 96169\n\nकेलिए : 43532\n\nहैं। : 27981\n\nहैकि : 25876\n\nकेसाथ : 18391\n\nकहाकि : 16126\n\nकेबाद : 14512\n\nथा। : 12749\n\nरहाहै : 12039\n\nनेकहा : 11914\n\nहैऔर : 11729\n\nगयाहै : 11064\n\n।इस : 10970\n\nोंके : 10586\n\nरहीहै : 9153\n\nकरनेके : 8851\n\nोंमें : 8714\n\nरहेहैं : 8424\n\nोंको : 8214\n\nथी। : 7817\n\n\n\nBi-gram Characters:\n\nर्अ : 1267976\n\nअर् : 740114\n\nक्अ : 647043\n\nन्अ : 563047\n\nस्अ : 540464\n\nप्अ : 417601\n\nक्ए : 402530\n\nल्अ : 382830\n\nत्अ : 382752\n\nअन् : 380380\n\nअह् : 377309\n\nआर् : 353337\n\nएअं : 352351\n\nम्अ : 351141\n\nन्ए : 322538\n\nक्आ : 307930\n\nअक् : 301741\n\nह्ऐ : 297090\n\nह्अ : 294637\n\nम्ए : 293213\n\n\n\nBi-gram Syllables:\n\nमेअं : 258784\n\nकर : 162688\n\nऔर : 117143\n\nपर : 103547\n\nइस : 85443\n\nओअं : 78392\n\nहैअं : 66837\n\nएक : 55969\n\nहीअं : 55359\n\nलिए : 53591\n\nनही : 49220\n\nअप : 45593\n\nकार : 42096\n\nकिया : 36932\n\nकहा : 32993\n\nरने : 32824\n\nयोअं : 32470\n\nयह : 31725\n\nएअं : 31612\n\nसर : 31392\n"
        }
      ],
      "id": "SStzQK_m_4HE"
    },
    {
      "cell_type": "code",
      "source": [
        "del cleaned_tokens_uni1k\n",
        "del tokens_uni_1k"
      ],
      "metadata": {
        "id": "OB8RjVylWKuq",
        "execution": {
          "iopub.status.busy": "2024-02-17T06:54:25.446968Z",
          "iopub.execute_input": "2024-02-17T06:54:25.448422Z",
          "iopub.status.idle": "2024-02-17T06:54:26.246731Z",
          "shell.execute_reply.started": "2024-02-17T06:54:25.448359Z",
          "shell.execute_reply": "2024-02-17T06:54:26.245276Z"
        },
        "trusted": true
      },
      "execution_count": null,
      "outputs": [],
      "id": "OB8RjVylWKuq"
    },
    {
      "cell_type": "markdown",
      "source": [
        "### BPE Algorithm Vocab size = 1k"
      ],
      "metadata": {
        "id": "mUQRaFFt36vt"
      },
      "id": "mUQRaFFt36vt"
    },
    {
      "cell_type": "code",
      "source": [
        "# vocab size 1k\n",
        "tokens_bpe_1k = algorithm_model('bpe_1k.model',corpus) # generate tokens of whole corpus\n",
        "tokens_bpe_1k_25 = algorithm_model('bpe_1k.model',q3_corpus) # generate tokens of 25 questions to be used in question 5\n",
        "cleaned_tokens_bpe1k = [token.replace('▁', '') for token in tokens_bpe_1k if token not in noise and token not in matras ]"
      ],
      "metadata": {
        "id": "P9oT6y_63_oz",
        "execution": {
          "iopub.status.busy": "2024-02-17T06:54:31.84696Z",
          "iopub.execute_input": "2024-02-17T06:54:31.847452Z",
          "iopub.status.idle": "2024-02-17T06:56:01.59278Z",
          "shell.execute_reply.started": "2024-02-17T06:54:31.847415Z",
          "shell.execute_reply": "2024-02-17T06:56:01.591303Z"
        },
        "trusted": true
      },
      "execution_count": null,
      "outputs": [],
      "id": "P9oT6y_63_oz"
    },
    {
      "cell_type": "markdown",
      "source": [
        "##### Unigram Frequencies:"
      ],
      "metadata": {
        "id": "LrFh_cGh4oIo"
      },
      "id": "LrFh_cGh4oIo"
    },
    {
      "cell_type": "code",
      "source": [
        "uni_gram_frequencies(cleaned_tokens_bpe1k) # print uni-gram frequencies of tokens, characters and syllables"
      ],
      "metadata": {
        "colab": {
          "base_uri": "https://localhost:8080/"
        },
        "id": "t249Na2kAa8O",
        "outputId": "32706528-5552-4c53-e6d5-e0d05eac3f2d"
      },
      "execution_count": null,
      "outputs": [
        {
          "output_type": "stream",
          "name": "stdout",
          "text": "\n\nUni-gram tokens:\n\nके : 344230\n\n। : 276966\n\nमें : 245494\n\nहै : 215519\n\nकी : 214647\n\nने : 178508\n\nको : 164642\n\nसे : 161960\n\nका : 147974\n\nक : 133331\n\nन : 124503\n\nऔर : 115365\n\nम : 114131\n\nस : 111941\n\nपर : 105525\n\nप : 99336\n\nव : 96389\n\nल : 95954\n\nत : 94389\n\nकि : 92995\n\n\n\nUni-gram Characters:\n\nअ : 8685760\n\nआ : 2948310\n\nए : 2263983\n\nक् : 2221101\n\nर् : 2115631\n\nई : 1415545\n\nइ : 1391135\n\nन् : 1334418\n\nस् : 1283708\n\nअं : 1164817\n\nह् : 1133159\n\nम् : 1053237\n\nत् : 980066\n\nल् : 919917\n\nओ : 851777\n\nप् : 805896\n\nय् : 753228\n\nव् : 624743\n\nद् : 607633\n\nज् : 556610\n\n\n\nUni-gram Syllables:\n\nर : 1164091\n\nअं : 1039000\n\nक : 666931\n\nन : 583689\n\nस : 563096\n\nआ : 493637\n\nइ : 476624\n\nप : 452203\n\nल : 419895\n\nके : 402872\n\nए : 392194\n\nम : 390011\n\nत : 370312\n\nह : 334884\n\nने : 325957\n\nका : 304314\n\nहै : 296118\n\nब : 293508\n\nग : 291416\n\nमे : 285742\n"
        }
      ],
      "id": "t249Na2kAa8O"
    },
    {
      "cell_type": "markdown",
      "source": [
        "##### bi-gram Frequencies"
      ],
      "metadata": {
        "id": "VGDqWIrr40Hy"
      },
      "id": "VGDqWIrr40Hy"
    },
    {
      "cell_type": "code",
      "source": [
        "bi_gram_frequencies(cleaned_tokens_bpe1k) # print bi-gram frequencies of tokens, characters and syllables"
      ],
      "metadata": {
        "colab": {
          "base_uri": "https://localhost:8080/"
        },
        "id": "dXsDPK8tApdb",
        "outputId": "6c003653-b236-43c4-ee89-b19e2cdfe449"
      },
      "execution_count": null,
      "outputs": [
        {
          "output_type": "stream",
          "name": "stdout",
          "text": "है। : 91502\n\nकेलिए : 43669\n\nहैं। : 34402\n\nहैकि : 25341\n\nकेसाथ : 18478\n\nकहाकि : 16133\n\nकेबाद : 14524\n\nोंके : 13519\n\nोंमें : 13068\n\nथा। : 12934\n\nनेकहा : 12058\n\nरहाहै : 12021\n\nनेके : 11831\n\nताहै : 11145\n\n।इस : 11081\n\nगयाहै : 11053\n\nहैऔर : 10845\n\nरहेहैं : 10181\n\nोंको : 10154\n\n : 9698\n\n\n\nBi-gram Characters:\n\nर्अ : 1360453\n\nक्अ : 675991\n\nअर् : 635321\n\nन्अ : 589650\n\nस्अ : 579574\n\nप्अ : 465789\n\nम्अ : 430109\n\nल्अ : 425884\n\nत्अ : 409012\n\nक्ए : 402872\n\nआर् : 366396\n\nएअं : 351357\n\nअह् : 349873\n\nह्अ : 337544\n\nन्ए : 325957\n\nय्अ : 325819\n\nक्आ : 304314\n\nह्ऐ : 296118\n\nब्अ : 293508\n\nग्अ : 293145\n\n\n\nBi-gram Syllables:\n\nमेअं : 259459\n\nकर : 169583\n\nऔर : 119313\n\nपर : 107325\n\nओअं : 100848\n\nइस : 95508\n\nहैअं : 80599\n\nएअं : 57064\n\nहीअं : 56185\n\nएक : 54352\n\nलिए : 53777\n\nकार : 51507\n\nनही : 49103\n\nइत : 46809\n\nअप : 46073\n\nइक : 45433\n\nअंग : 40905\n\nआर : 38283\n\nयोअं : 36742\n\nकिया : 36546\n"
        }
      ],
      "id": "dXsDPK8tApdb"
    },
    {
      "cell_type": "code",
      "source": [
        "del cleaned_tokens_bpe1k\n",
        "del tokens_bpe_1k"
      ],
      "metadata": {
        "id": "gtjueXI4WVrp",
        "execution": {
          "iopub.status.busy": "2024-02-17T06:56:12.796678Z",
          "iopub.execute_input": "2024-02-17T06:56:12.797218Z",
          "iopub.status.idle": "2024-02-17T06:56:13.942123Z",
          "shell.execute_reply.started": "2024-02-17T06:56:12.797181Z",
          "shell.execute_reply": "2024-02-17T06:56:13.941088Z"
        },
        "trusted": true
      },
      "execution_count": null,
      "outputs": [],
      "id": "gtjueXI4WVrp"
    },
    {
      "cell_type": "markdown",
      "source": [
        "### BPE Algorithm Vocab Size = 2k"
      ],
      "metadata": {
        "id": "FBVyG4ir6aay"
      },
      "id": "FBVyG4ir6aay"
    },
    {
      "cell_type": "code",
      "source": [
        "# vocab size 2k\n",
        "tokens_bpe_2k = algorithm_model('bpe_2k.model',corpus) # generate tokens of whole corpus\n",
        "tokens_bpe_2k_25 = algorithm_model('bpe_2k.model',q3_corpus) # generate tokens of 25 questions to be used in question 5\n",
        "cleaned_tokens_bpe2k = [token.replace('▁', '') for token in tokens_bpe_2k if token not in noise and token not in matras ]"
      ],
      "metadata": {
        "id": "E69T2hpE5_g0",
        "execution": {
          "iopub.status.busy": "2024-02-17T06:56:34.036996Z",
          "iopub.execute_input": "2024-02-17T06:56:34.0379Z",
          "iopub.status.idle": "2024-02-17T06:58:08.616087Z",
          "shell.execute_reply.started": "2024-02-17T06:56:34.037862Z",
          "shell.execute_reply": "2024-02-17T06:58:08.614764Z"
        },
        "trusted": true
      },
      "execution_count": null,
      "outputs": [],
      "id": "E69T2hpE5_g0"
    },
    {
      "cell_type": "markdown",
      "source": [
        "##### Unigram Frequencies:"
      ],
      "metadata": {
        "id": "bRvgm-ye7JPk"
      },
      "id": "bRvgm-ye7JPk"
    },
    {
      "cell_type": "code",
      "source": [
        "uni_gram_frequencies(cleaned_tokens_bpe2k) # print uni-gram frequencies of tokens, characters and syllables"
      ],
      "metadata": {
        "colab": {
          "base_uri": "https://localhost:8080/"
        },
        "id": "9X85fgD_8kqn",
        "outputId": "d971b372-72c6-4d5c-f317-1bba303290e4"
      },
      "execution_count": null,
      "outputs": [
        {
          "output_type": "stream",
          "name": "stdout",
          "text": "\n\nUni-gram tokens:\n\nके : 344230\n\n। : 276966\n\nमें : 245494\n\nहै : 215519\n\nकी : 214647\n\nने : 178508\n\nको : 164642\n\nसे : 161960\n\nका : 147974\n\nक : 133331\n\nन : 124503\n\nऔर : 115365\n\nम : 114131\n\nस : 111941\n\nपर : 105525\n\nप : 99336\n\nव : 96389\n\nल : 95954\n\nत : 94389\n\nकि : 92995\n\n\n\nUni-gram Characters:\n\nअ : 8685760\n\nआ : 2948310\n\nए : 2263983\n\nक् : 2221101\n\nर् : 2115631\n\nई : 1415545\n\nइ : 1391135\n\nन् : 1334418\n\nस् : 1283708\n\nअं : 1164817\n\nह् : 1133159\n\nम् : 1053237\n\nत् : 980066\n\nल् : 919917\n\nओ : 851777\n\nप् : 805896\n\nय् : 753228\n\nव् : 624743\n\nद् : 607633\n\nज् : 556610\n\n\n\nUni-gram Syllables:\n\nर : 1164091\n\nअं : 1039000\n\nक : 666931\n\nन : 583689\n\nस : 563096\n\nआ : 493637\n\nइ : 476624\n\nप : 452203\n\nल : 419895\n\nके : 402872\n\nए : 392194\n\nम : 390011\n\nत : 370312\n\nह : 334884\n\nने : 325957\n\nका : 304314\n\nहै : 296118\n\nब : 293508\n\nग : 291416\n\nमे : 285742\n"
        }
      ],
      "id": "9X85fgD_8kqn"
    },
    {
      "cell_type": "markdown",
      "source": [
        "##### bi-gram Frequencies"
      ],
      "metadata": {
        "id": "4_lVtnN7BC4L"
      },
      "id": "4_lVtnN7BC4L"
    },
    {
      "cell_type": "code",
      "source": [
        "bi_gram_frequencies(cleaned_tokens_bpe2k) # print bi-gram frequencies of tokens, characters and syllables"
      ],
      "metadata": {
        "colab": {
          "base_uri": "https://localhost:8080/"
        },
        "id": "rIfajiSY8-QR",
        "outputId": "672c2051-a04c-4c74-c044-efaa576ada10"
      },
      "execution_count": null,
      "outputs": [
        {
          "output_type": "stream",
          "name": "stdout",
          "text": "है। : 91502\n\nकेलिए : 43669\n\nहैं। : 34402\n\nहैकि : 25341\n\nकेसाथ : 18478\n\nकहाकि : 16133\n\nकेबाद : 14524\n\nोंके : 13519\n\nोंमें : 13068\n\nथा। : 12934\n\nनेकहा : 12058\n\nरहाहै : 12021\n\nनेके : 11831\n\nताहै : 11145\n\n।इस : 11081\n\nगयाहै : 11053\n\nहैऔर : 10845\n\nरहेहैं : 10181\n\nोंको : 10154\n\n : 9698\n\n\n\nBi-gram Characters:\n\nर्अ : 1360453\n\nक्अ : 675991\n\nअर् : 635321\n\nन्अ : 589650\n\nस्अ : 579574\n\nप्अ : 465789\n\nम्अ : 430109\n\nल्अ : 425884\n\nत्अ : 409012\n\nक्ए : 402872\n\nआर् : 366396\n\nएअं : 351357\n\nअह् : 349873\n\nह्अ : 337544\n\nन्ए : 325957\n\nय्अ : 325819\n\nक्आ : 304314\n\nह्ऐ : 296118\n\nब्अ : 293508\n\nग्अ : 293145\n\n\n\nBi-gram Syllables:\n\nमेअं : 259459\n\nकर : 169583\n\nऔर : 119313\n\nपर : 107325\n\nओअं : 100848\n\nइस : 95508\n\nहैअं : 80599\n\nएअं : 57064\n\nहीअं : 56185\n\nएक : 54352\n\nलिए : 53777\n\nकार : 51507\n\nनही : 49103\n\nइत : 46809\n\nअप : 46073\n\nइक : 45433\n\nअंग : 40905\n\nआर : 38283\n\nयोअं : 36742\n\nकिया : 36546\n"
        }
      ],
      "id": "rIfajiSY8-QR"
    },
    {
      "cell_type": "code",
      "source": [
        "del cleaned_tokens_bpe2k\n",
        "del tokens_bpe_2k"
      ],
      "metadata": {
        "id": "1Na_Hh8JWmNW",
        "execution": {
          "iopub.status.busy": "2024-02-17T06:58:18.716162Z",
          "iopub.execute_input": "2024-02-17T06:58:18.716554Z",
          "iopub.status.idle": "2024-02-17T06:58:19.551352Z",
          "shell.execute_reply.started": "2024-02-17T06:58:18.716525Z",
          "shell.execute_reply": "2024-02-17T06:58:19.550265Z"
        },
        "trusted": true
      },
      "execution_count": null,
      "outputs": [],
      "id": "1Na_Hh8JWmNW"
    },
    {
      "cell_type": "markdown",
      "source": [
        "### mBERT algorithm max_length = 1k"
      ],
      "metadata": {
        "id": "bVahdRZGB7_N"
      },
      "id": "bVahdRZGB7_N"
    },
    {
      "cell_type": "code",
      "source": [
        "from transformers import BertTokenizer"
      ],
      "metadata": {
        "execution": {
          "iopub.status.busy": "2024-02-17T07:02:05.537606Z",
          "iopub.execute_input": "2024-02-17T07:02:05.538146Z",
          "iopub.status.idle": "2024-02-17T07:02:05.545303Z",
          "shell.execute_reply.started": "2024-02-17T07:02:05.538109Z",
          "shell.execute_reply": "2024-02-17T07:02:05.543677Z"
        },
        "trusted": true,
        "id": "e7dLJeQp8pBz"
      },
      "execution_count": null,
      "outputs": [],
      "id": "e7dLJeQp8pBz"
    },
    {
      "cell_type": "code",
      "source": [
        "from transformers import BertTokenizer\n",
        "tokenizer_mbert_1k = BertTokenizer.from_pretrained('bert-base-multilingual-cased',max_length=1000)\n",
        "tokens_mbert_1k = tokenizer_mbert_1k.tokenize(corpus) # generate tokens of whole corpus\n",
        "tokens_mbert_1k_25 = tokenizer_mbert_1k.tokenize(q3_corpus) # generate tokens of 25 questions to be used in question 5"
      ],
      "metadata": {
        "id": "g48S5q5nBL32",
        "execution": {
          "iopub.status.busy": "2024-02-17T07:02:12.687224Z",
          "iopub.execute_input": "2024-02-17T07:02:12.687775Z",
          "iopub.status.idle": "2024-02-17T07:04:12.916114Z",
          "shell.execute_reply.started": "2024-02-17T07:02:12.687733Z",
          "shell.execute_reply": "2024-02-17T07:04:12.914492Z"
        },
        "trusted": true
      },
      "execution_count": null,
      "outputs": [],
      "id": "g48S5q5nBL32"
    },
    {
      "cell_type": "code",
      "source": [
        "cleaned_tokens_mBERT_1k = [token.replace('#', '') for token in tokens_mbert_1k if token not in noise and token not in matras ]"
      ],
      "metadata": {
        "id": "zvPAUq-0CGec"
      },
      "execution_count": null,
      "outputs": [],
      "id": "zvPAUq-0CGec"
    },
    {
      "cell_type": "markdown",
      "source": [
        "##### Unigram Frequencies:"
      ],
      "metadata": {
        "id": "DKsOOdp-Ddcx"
      },
      "id": "DKsOOdp-Ddcx"
    },
    {
      "cell_type": "code",
      "source": [
        "uni_gram_frequencies(cleaned_tokens_mBERT_1k) # print uni-gram frequencies of tokens, characters and syllables"
      ],
      "metadata": {
        "colab": {
          "base_uri": "https://localhost:8080/"
        },
        "id": "__LkSfWVDReR",
        "outputId": "7bb7501b-4ec7-42d3-d5a1-e48446100db4"
      },
      "execution_count": null,
      "outputs": [
        {
          "output_type": "stream",
          "name": "stdout",
          "text": "\n\nUni-gram tokens:\n\nके : 347164\n\nस : 330691\n\nप : 314836\n\nम : 305742\n\nर : 301686\n\n। : 276966\n\nब : 259624\n\nमें : 246133\n\nन : 235575\n\nहै : 215601\n\nकी : 213189\n\nा : 205131\n\nक : 193113\n\nल : 187736\n\nको : 173966\n\nी : 173301\n\nने : 172673\n\nसे : 165303\n\nका : 164733\n\nज : 151362\n\n\n\nUni-gram Characters:\n\nअ : 10295489\n\nआ : 2990545\n\nए : 2317673\n\nक् : 2220811\n\nर् : 2115389\n\nई : 1460042\n\nइ : 1432641\n\nन् : 1334247\n\nस् : 1283571\n\nअं : 1215374\n\nह् : 1133069\n\nम् : 1053101\n\nत् : 979855\n\nल् : 919790\n\nओ : 896257\n\nप् : 805642\n\nय् : 753100\n\nव् : 624631\n\nद् : 607566\n\nउ : 586969\n\n\n\nUni-gram Syllables:\n\nर : 1519633\n\nअं : 1119929\n\nक : 772941\n\nस : 758570\n\nआ : 737460\n\nन : 727742\n\nइ : 716501\n\nप : 605704\n\nए : 586798\n\nम : 525462\n\nल : 490884\n\nत : 440043\n\nउ : 411127\n\nके : 397142\n\nब : 382913\n\nह : 352607\n\nग : 348705\n\nई : 348361\n\nओ : 338374\n\nने : 306789\n"
        }
      ],
      "id": "__LkSfWVDReR"
    },
    {
      "cell_type": "markdown",
      "source": [
        "##### Bi-gram Frequencies:"
      ],
      "metadata": {
        "id": "JHx9rqHGD16Y"
      },
      "id": "JHx9rqHGD16Y"
    },
    {
      "cell_type": "code",
      "source": [
        "bi_gram_frequencies(cleaned_tokens_mBERT_1k) # print bi-gram frequencies of tokens, characters and syllables"
      ],
      "metadata": {
        "colab": {
          "base_uri": "https://localhost:8080/"
        },
        "id": "E8-m3n3mD1gK",
        "outputId": "08967618-948b-46c6-f296-89dd40921f0b"
      },
      "execution_count": null,
      "outputs": [
        {
          "output_type": "stream",
          "name": "stdout",
          "text": "है। : 91485\n\nकेलिए : 44091\n\nप्र : 38159\n\nहैं। : 34394\n\nआप : 26605\n\nहैकि : 25506\n\nकेसाथ : 18558\n\nमु : 18220\n\nोंके : 17272\n\nसम : 16871\n\nसु : 16326\n\nकहाकि : 16146\n\nबता : 15907\n\nसा : 15568\n\nोंमें : 15472\n\nजर : 14583\n\nकेबाद : 14487\n\nोंको : 13865\n\nपुल : 13842\n\nमो : 13677\n\n\n\nBi-gram Characters:\n\nर्अ : 1633762\n\nक्अ : 776956\n\nस्अ : 764871\n\nन्अ : 734326\n\nप्अ : 610571\n\nअर् : 598163\n\nम्अ : 542117\n\nल्अ : 497419\n\nत्अ : 495787\n\nक्ए : 397142\n\nब्अ : 383609\n\nह्अ : 352837\n\nग्अ : 352622\n\nय्अ : 338215\n\nएअं : 322613\n\nव्अ : 310488\n\nन्ए : 306789\n\nआर् : 304446\n\nज्अ : 301061\n\nक्आ : 299923\n\n\n\nBi-gram Syllables:\n\nमेअं : 254882\n\nकर : 205213\n\nपर : 127688\n\nऔर : 125194\n\nइस : 119334\n\nओअं : 118355\n\nहैअं : 80610\n\nएक : 67768\n\nअंग : 54850\n\nलिए : 53250\n\nएअं : 51529\n\nनही : 47362\n\nहीअं : 47362\n\nकार : 47089\n\nआर : 44496\n\nउन : 44146\n\nइन : 42615\n\nइक : 41972\n\nअप : 40042\n\nआज : 38689\n"
        }
      ],
      "id": "E8-m3n3mD1gK"
    },
    {
      "cell_type": "code",
      "source": [
        "del cleaned_tokens_mBERT_1k\n",
        "del tokens_mbert_1k"
      ],
      "metadata": {
        "id": "2or2kSp-WzNJ"
      },
      "execution_count": null,
      "outputs": [],
      "id": "2or2kSp-WzNJ"
    },
    {
      "cell_type": "markdown",
      "source": [
        "### mBERT algorithm max_length = 2k"
      ],
      "metadata": {
        "id": "PBswrqEkEXF4"
      },
      "id": "PBswrqEkEXF4"
    },
    {
      "cell_type": "code",
      "source": [
        "tokenizer_mbert_2k = BertTokenizer.from_pretrained('bert-base-multilingual-cased',max_length=2000)\n",
        "tokens_mbert_2k = tokenizer_mbert_2k.tokenize(corpus) # generate tokens of whole corpus\n",
        "tokens_mbert_2k_25 = tokenizer_mbert_2k.tokenize(q3_corpus) # generate tokens of 25 questions to be used in question 5"
      ],
      "metadata": {
        "id": "p2NXAXN_EKD6"
      },
      "execution_count": null,
      "outputs": [],
      "id": "p2NXAXN_EKD6"
    },
    {
      "cell_type": "code",
      "source": [
        "cleaned_tokens_mBERT_2k = [token.replace('#', '') for token in tokens_mbert_2k if token not in noise and token not in matras ]"
      ],
      "metadata": {
        "id": "QwnXjs4GEkGU"
      },
      "execution_count": null,
      "outputs": [],
      "id": "QwnXjs4GEkGU"
    },
    {
      "cell_type": "markdown",
      "source": [
        "##### Unigram Frequencies:"
      ],
      "metadata": {
        "id": "4K3_IasZEs9J"
      },
      "id": "4K3_IasZEs9J"
    },
    {
      "cell_type": "code",
      "source": [
        "uni_gram_frequencies(cleaned_tokens_mBERT_2k) # print uni-gram frequencies of tokens, characters and syllables"
      ],
      "metadata": {
        "colab": {
          "base_uri": "https://localhost:8080/"
        },
        "id": "wlSgIhPRErea",
        "outputId": "5c952c16-a06f-41a6-f26f-c10673695084"
      },
      "execution_count": null,
      "outputs": [
        {
          "output_type": "stream",
          "name": "stdout",
          "text": "\n\nUni-gram tokens:\n\nके : 347164\n\nस : 330691\n\nप : 314836\n\nम : 305742\n\nर : 301686\n\n। : 276966\n\nब : 259624\n\nमें : 246133\n\nन : 235575\n\nहै : 215601\n\nकी : 213189\n\nा : 205131\n\nक : 193113\n\nल : 187736\n\nको : 173966\n\nी : 173301\n\nने : 172673\n\nसे : 165303\n\nका : 164733\n\nज : 151362\n\n\n\nUni-gram Characters:\n\nअ : 10295489\n\nआ : 2990545\n\nए : 2317673\n\nक् : 2220811\n\nर् : 2115389\n\nई : 1460042\n\nइ : 1432641\n\nन् : 1334247\n\nस् : 1283571\n\nअं : 1215374\n\nह् : 1133069\n\nम् : 1053101\n\nत् : 979855\n\nल् : 919790\n\nओ : 896257\n\nप् : 805642\n\nय् : 753100\n\nव् : 624631\n\nद् : 607566\n\nउ : 586969\n\n\n\nUni-gram Syllables:\n\nर : 1519633\n\nअं : 1119929\n\nक : 772941\n\nस : 758570\n\nआ : 737460\n\nन : 727742\n\nइ : 716501\n\nप : 605704\n\nए : 586798\n\nम : 525462\n\nल : 490884\n\nत : 440043\n\nउ : 411127\n\nके : 397142\n\nब : 382913\n\nह : 352607\n\nग : 348705\n\nई : 348361\n\nओ : 338374\n\nने : 306789\n"
        }
      ],
      "id": "wlSgIhPRErea"
    },
    {
      "cell_type": "markdown",
      "source": [
        "##### bi-gram frequencies"
      ],
      "metadata": {
        "id": "vcIGjE3nE5vA"
      },
      "id": "vcIGjE3nE5vA"
    },
    {
      "cell_type": "code",
      "source": [
        "bi_gram_frequencies(cleaned_tokens_mBERT_2k) # print bi-gram frequencies of tokens, characters and syllables"
      ],
      "metadata": {
        "colab": {
          "base_uri": "https://localhost:8080/"
        },
        "id": "QNqRhN86E2x9",
        "outputId": "7fe22299-03c3-4650-972d-a0cb98832630"
      },
      "execution_count": null,
      "outputs": [
        {
          "output_type": "stream",
          "name": "stdout",
          "text": "है। : 91485\n\nकेलिए : 44091\n\nप्र : 38159\n\nहैं। : 34394\n\nआप : 26605\n\nहैकि : 25506\n\nकेसाथ : 18558\n\nमु : 18220\n\nोंके : 17272\n\nसम : 16871\n\nसु : 16326\n\nकहाकि : 16146\n\nबता : 15907\n\nसा : 15568\n\nोंमें : 15472\n\nजर : 14583\n\nकेबाद : 14487\n\nोंको : 13865\n\nपुल : 13842\n\nमो : 13677\n\n\n\nBi-gram Characters:\n\nर्अ : 1633762\n\nक्अ : 776956\n\nस्अ : 764871\n\nन्अ : 734326\n\nप्अ : 610571\n\nअर् : 598163\n\nम्अ : 542117\n\nल्अ : 497419\n\nत्अ : 495787\n\nक्ए : 397142\n\nब्अ : 383609\n\nह्अ : 352837\n\nग्अ : 352622\n\nय्अ : 338215\n\nएअं : 322613\n\nव्अ : 310488\n\nन्ए : 306789\n\nआर् : 304446\n\nज्अ : 301061\n\nक्आ : 299923\n\n\n\nBi-gram Syllables:\n\nमेअं : 254882\n\nकर : 205213\n\nपर : 127688\n\nऔर : 125194\n\nइस : 119334\n\nओअं : 118355\n\nहैअं : 80610\n\nएक : 67768\n\nअंग : 54850\n\nलिए : 53250\n\nएअं : 51529\n\nनही : 47362\n\nहीअं : 47362\n\nकार : 47089\n\nआर : 44496\n\nउन : 44146\n\nइन : 42615\n\nइक : 41972\n\nअप : 40042\n\nआज : 38689\n"
        }
      ],
      "id": "QNqRhN86E2x9"
    },
    {
      "cell_type": "code",
      "source": [
        "del cleaned_tokens_mBERT_2k\n",
        "del tokens_mbert_2k"
      ],
      "metadata": {
        "id": "zR_0Ry71XCC6"
      },
      "execution_count": null,
      "outputs": [],
      "id": "zR_0Ry71XCC6"
    },
    {
      "cell_type": "markdown",
      "source": [
        "### IndicBERT algorithm max_length = 1k"
      ],
      "metadata": {
        "id": "Zb7yOcIoZtmt"
      },
      "id": "Zb7yOcIoZtmt"
    },
    {
      "cell_type": "code",
      "source": [
        "from transformers import AutoModel, AutoTokenizer\n",
        "\n",
        "tokenizer = AutoTokenizer.from_pretrained('ai4bharat/indic-bert')\n",
        "# model = AutoModel.from_pretrained('ai4bharat/indic-bert')"
      ],
      "metadata": {
        "id": "XQ21fQcOaAXf",
        "colab": {
          "base_uri": "https://localhost:8080/",
          "height": 205,
          "referenced_widgets": [
            "43def3b8d9574790b193ec50425db5e4",
            "9d4fe9cc89f641aea638c0cc1fb63200",
            "7f24a7b9bdd54de4ac2b2cf8f2de9b7a",
            "1bd604c36a6e4d1983c089065ed6a70a",
            "e952fecf01af4e7ba2e1dcf7c403886b",
            "11e187bdc06648cdb79bb2b8840a8df4",
            "60dbc27e5bd541f1a448de69eef161af",
            "22f3ac646b7147f6ad8a18c4deaff749",
            "730e80d965984d87b5d404e6c99e1c62",
            "15081aa425f6443dbd8da1a79ce750f9",
            "6209a98f8b274ff68c99327db015dd95",
            "d44ec017298b472bbec5cea437d1df35",
            "867ad2d2ef5541619bf49dc5397bd090",
            "03b9047ba4a548bc921ec8862a9c75dd",
            "75c8f66f4c214844a872ec69fd5e635e",
            "d3493a5d0c094f7f91e39a5ef5ef461d",
            "94a9ca464f174ba595c8d6eaca2c5b44",
            "ebd58180641f42d894dc95bb65c52bd4",
            "3e257a2cde35411192f44e37e4fc9c15",
            "a996bc0ef43f4a6eaf4b5b65952bf0b7",
            "6f145d28a2e04435808c18543af2be4d",
            "7b0a27e203e640398752c49815f49e9d"
          ]
        },
        "outputId": "e37d5cdd-65d5-45b6-cc1b-6a633e6bf398",
        "execution": {
          "iopub.status.busy": "2024-02-17T07:21:19.325445Z",
          "iopub.execute_input": "2024-02-17T07:21:19.325924Z",
          "iopub.status.idle": "2024-02-17T07:22:00.239017Z",
          "shell.execute_reply.started": "2024-02-17T07:21:19.325893Z",
          "shell.execute_reply": "2024-02-17T07:22:00.236088Z"
        },
        "trusted": true
      },
      "execution_count": null,
      "outputs": [
        {
          "output_type": "stream",
          "name": "stderr",
          "text": [
            "/usr/local/lib/python3.10/dist-packages/huggingface_hub/utils/_token.py:88: UserWarning: \n",
            "The secret `HF_TOKEN` does not exist in your Colab secrets.\n",
            "To authenticate with the Hugging Face Hub, create a token in your settings tab (https://huggingface.co/settings/tokens), set it as secret in your Google Colab and restart your session.\n",
            "You will be able to reuse this secret in all of your notebooks.\n",
            "Please note that authentication is recommended but still optional to access public models or datasets.\n",
            "  warnings.warn(\n"
          ]
        },
        {
          "output_type": "display_data",
          "data": {
            "text/plain": [
              "config.json:   0%|          | 0.00/507 [00:00<?, ?B/s]"
            ],
            "application/vnd.jupyter.widget-view+json": {
              "version_major": 2,
              "version_minor": 0,
              "model_id": "43def3b8d9574790b193ec50425db5e4"
            }
          },
          "metadata": {}
        },
        {
          "output_type": "display_data",
          "data": {
            "text/plain": [
              "spiece.model:   0%|          | 0.00/5.65M [00:00<?, ?B/s]"
            ],
            "application/vnd.jupyter.widget-view+json": {
              "version_major": 2,
              "version_minor": 0,
              "model_id": "d44ec017298b472bbec5cea437d1df35"
            }
          },
          "metadata": {}
        }
      ],
      "id": "XQ21fQcOaAXf"
    },
    {
      "cell_type": "code",
      "source": [
        "with open('/kaggle/input/hindi-corpus/hi_100_new.txt','r',encoding='utf-8') as f:\n",
        "  corpus = f.read()"
      ],
      "metadata": {
        "id": "xXwWnSadFBEj"
      },
      "id": "xXwWnSadFBEj",
      "execution_count": null,
      "outputs": []
    },
    {
      "cell_type": "code",
      "source": [
        "# function to process big corpus in pieces to avoid RAM exhaust\n",
        "# this function takes corpus and max_len of model and returns tokens for that corpus\n",
        "def gen_indic_tokens(corpus,max_len):\n",
        "  chunk_length = 1000\n",
        "  # Split the corpus into chunks of maximum length\n",
        "  corpus_chunks = [corpus[i:i+chunk_length] for i in range(0, len(corpus), chunk_length)]\n",
        "\n",
        "  # Tokenize each chunk and concatenate the tokenized outputs\n",
        "  tokenized_chunks = [tokenizer(chunk, max_length=max_len, truncation=True) for chunk in corpus_chunks]\n",
        "\n",
        "  # list of list of tokens of each processed chunk\n",
        "  tokens1 = []\n",
        "  for i in tokenized_chunks:\n",
        "    tokens1.append(tokenizer.convert_ids_to_tokens(i['input_ids']))\n",
        "\n",
        "  # converting list of list in a flat list\n",
        "  token_list = []\n",
        "  for token in tokens1:\n",
        "    for i in token:\n",
        "      token_list.append(i)\n",
        "  del tokens1 # free RAM when not in use\n",
        "  # cleaning tokens generated by indicBERT\n",
        "  cleaned = [token.replace('▁', '') for token in token_list if token not in noise and token not in matras ]\n",
        "  return cleaned"
      ],
      "metadata": {
        "id": "tAd3b_N_LS3O"
      },
      "id": "tAd3b_N_LS3O",
      "execution_count": null,
      "outputs": []
    },
    {
      "cell_type": "code",
      "source": [
        "max_length = 1000 # model_parameter\n",
        "cleaned_indicBert_list_1k_uni = gen_indic_tokens(corpus,max_length) # generate tokens of whole corpus\n",
        "cleaned_indicBert_list_1k_uni_25 = gen_indic_tokens(q3_corpus,max_length) # generate tokens of 25 questions to be used in question 5"
      ],
      "metadata": {
        "id": "s6VW5ZXYMGSy"
      },
      "id": "s6VW5ZXYMGSy",
      "execution_count": null,
      "outputs": []
    },
    {
      "cell_type": "markdown",
      "source": [
        "##### Unigram Frequencies"
      ],
      "metadata": {
        "id": "74y8F84GaoFZ"
      },
      "id": "74y8F84GaoFZ"
    },
    {
      "cell_type": "code",
      "source": [
        "uni_gram_frequencies(cleaned_indicBert_list_1k_uni) # print uni-gram frequencies of tokens, characters and syllables"
      ],
      "metadata": {
        "colab": {
          "base_uri": "https://localhost:8080/"
        },
        "id": "5fSQkQYaalI0",
        "outputId": "b42e0d86-a57e-45df-cbca-29b00604d5c3"
      },
      "execution_count": null,
      "outputs": [
        {
          "output_type": "stream",
          "name": "stdout",
          "text": [
            "\n",
            "Uni-gram tokens:\n",
            "क : 1149619\n",
            "ह : 529391\n",
            "य : 451473\n",
            "न : 416539\n",
            "स : 388838\n",
            "म : 359719\n",
            "त : 314868\n",
            "पर : 278447\n",
            "। : 274211\n",
            " : 271663\n",
            "कर : 207963\n",
            "द : 187896\n",
            "ल : 172532\n",
            "व : 165384\n",
            "ग : 158512\n",
            "ज : 156784\n",
            "र : 148374\n",
            "थ : 139655\n",
            "ए : 136874\n",
            "भ : 122324\n",
            "\n",
            "Uni-gram Characters:\n",
            "अ : 18095486\n",
            "क् : 2221101\n",
            "र् : 2115912\n",
            "न् : 1335232\n",
            "स् : 1283708\n",
            "ह् : 1133159\n",
            "म् : 1053237\n",
            "त् : 980066\n",
            "ल् : 919917\n",
            "प् : 805896\n",
            "य् : 753228\n",
            "व् : 624743\n",
            "द् : 607633\n",
            "ज् : 556610\n",
            "ब् : 524636\n",
            "ग् : 479960\n",
            "ट् : 318634\n",
            "श् : 297486\n",
            "ए : 286325\n",
            "च् : 272542\n",
            "\n",
            "Uni-gram Syllables:\n",
            "क : 2221101\n",
            "र : 2115912\n",
            "न : 1335232\n",
            "स : 1283708\n",
            "ह : 1133159\n",
            "म : 1053237\n",
            "त : 980066\n",
            "ल : 919917\n",
            "प : 805896\n",
            "य : 753228\n",
            "व : 624743\n",
            "द : 607633\n",
            "ज : 556610\n",
            "ब : 524636\n",
            "ग : 479960\n",
            "ट : 318634\n",
            "श : 297486\n",
            "ए : 286325\n",
            "च : 272542\n",
            "अ : 253205\n"
          ]
        }
      ],
      "id": "5fSQkQYaalI0"
    },
    {
      "cell_type": "markdown",
      "source": [
        "##### bi-gram Frequencies"
      ],
      "metadata": {
        "id": "7XCq8yMsa8hT"
      },
      "id": "7XCq8yMsa8hT"
    },
    {
      "cell_type": "code",
      "source": [
        "bi_gram_frequencies(cleaned_indicBert_list_1k_uni) # print bi-gram frequencies of tokens, characters and syllables"
      ],
      "metadata": {
        "colab": {
          "base_uri": "https://localhost:8080/"
        },
        "id": "mAu08QMSa_Dw",
        "outputId": "b4f7a9a8-210b-4348-83b5-61a1e6f13d1e"
      },
      "execution_count": null,
      "outputs": [
        {
          "output_type": "stream",
          "name": "stdout",
          "text": [
            "ह। : 129440\n",
            "नह : 61172\n",
            "तह : 59822\n",
            "कय : 58481\n",
            "यक : 57725\n",
            "लए : 54073\n",
            "कल : 49225\n",
            "नक : 46468\n",
            "हक : 42942\n",
            "सथ : 41912\n",
            "[SEP][CLS] : 41292\n",
            "गय : 39313\n",
            "कस : 37775\n",
            "क : 37722\n",
            "रहह : 36339\n",
            "दन : 36266\n",
            "यह : 35287\n",
            "कपर : 32744\n",
            "थ। : 29421\n",
            "तक : 29076\n",
            "\n",
            "Bi-gram Characters:\n",
            "क्अ : 2221101\n",
            "र्अ : 2115912\n",
            "अर् : 1536928\n",
            "न्अ : 1335232\n",
            "स्अ : 1283708\n",
            "ह्अ : 1133159\n",
            "म्अ : 1053237\n",
            "त्अ : 980066\n",
            "ल्अ : 919917\n",
            "प्अ : 805896\n",
            "य्अ : 753228\n",
            "अन् : 691975\n",
            "व्अ : 624743\n",
            "द्अ : 607633\n",
            "ज्अ : 556610\n",
            "अल् : 525058\n",
            "ब्अ : 524636\n",
            "ग्अ : 479960\n",
            "अत् : 422023\n",
            "अह् : 410066\n",
            "\n",
            "Bi-gram Syllables:\n",
            "कर : 330952\n",
            "पर : 311009\n",
            "और : 115799\n",
            "इस : 100836\n",
            "तर : 94794\n",
            "रह : 93168\n",
            "वर : 91039\n",
            "रत : 81009\n",
            "दर : 81006\n",
            "सम : 72959\n",
            "सर : 69763\n",
            "गर : 69521\n",
            "जन : 67514\n",
            "लग : 63840\n",
            "मन : 62159\n",
            "एक : 60602\n",
            "बर : 59171\n",
            "पन : 58488\n",
            "उन : 57173\n",
            "मर : 55779\n"
          ]
        }
      ],
      "id": "mAu08QMSa_Dw"
    },
    {
      "cell_type": "code",
      "source": [
        "del cleaned_indicBert_list_1k_uni"
      ],
      "metadata": {
        "id": "gfFj9amdXSEi"
      },
      "execution_count": null,
      "outputs": [],
      "id": "gfFj9amdXSEi"
    },
    {
      "cell_type": "markdown",
      "source": [
        "### IndicBERT algorithm max_length = 2k"
      ],
      "metadata": {
        "id": "5KnhxhRkh3sg"
      },
      "id": "5KnhxhRkh3sg"
    },
    {
      "cell_type": "code",
      "source": [
        "max_length = 2000 # model_parameter\n",
        "cleaned_indicBert_list_2k_uni = gen_indic_tokens(corpus,max_length) # generate tokens of whole corpus\n",
        "cleaned_indicBert_list_2k_uni_25 = gen_indic_tokens(q3_corpus,max_length) # generate tokens of 25 questions to be used in question 5"
      ],
      "metadata": {
        "id": "CVAdB4gIU73A"
      },
      "id": "CVAdB4gIU73A",
      "execution_count": null,
      "outputs": []
    },
    {
      "cell_type": "markdown",
      "source": [
        "##### Unigram Frequencies:"
      ],
      "metadata": {
        "id": "15PBuW5aiCEf"
      },
      "id": "15PBuW5aiCEf"
    },
    {
      "cell_type": "code",
      "source": [
        "uni_gram_frequencies(cleaned_indicBert_list_2k_uni) # print uni-gram frequencies of tokens, characters and syllables"
      ],
      "metadata": {
        "colab": {
          "base_uri": "https://localhost:8080/"
        },
        "id": "HFnemsb4iACl",
        "outputId": "73765135-ca10-4444-c646-45bb8e74bd83"
      },
      "execution_count": null,
      "outputs": [
        {
          "output_type": "stream",
          "name": "stdout",
          "text": [
            "\n",
            "Uni-gram tokens:\n",
            "क : 1149619\n",
            "ह : 529391\n",
            "य : 451473\n",
            "न : 416539\n",
            "स : 388838\n",
            "म : 359719\n",
            "त : 314868\n",
            "पर : 278447\n",
            "। : 274211\n",
            " : 271663\n",
            "कर : 207963\n",
            "द : 187896\n",
            "ल : 172532\n",
            "व : 165384\n",
            "ग : 158512\n",
            "ज : 156784\n",
            "र : 148374\n",
            "थ : 139655\n",
            "ए : 136874\n",
            "भ : 122324\n",
            "\n",
            "Uni-gram Characters:\n",
            "अ : 18095486\n",
            "क् : 2221101\n",
            "र् : 2115912\n",
            "न् : 1335232\n",
            "स् : 1283708\n",
            "ह् : 1133159\n",
            "म् : 1053237\n",
            "त् : 980066\n",
            "ल् : 919917\n",
            "प् : 805896\n",
            "य् : 753228\n",
            "व् : 624743\n",
            "द् : 607633\n",
            "ज् : 556610\n",
            "ब् : 524636\n",
            "ग् : 479960\n",
            "ट् : 318634\n",
            "श् : 297486\n",
            "ए : 286325\n",
            "च् : 272542\n",
            "\n",
            "Uni-gram Syllables:\n",
            "क : 2221101\n",
            "र : 2115912\n",
            "न : 1335232\n",
            "स : 1283708\n",
            "ह : 1133159\n",
            "म : 1053237\n",
            "त : 980066\n",
            "ल : 919917\n",
            "प : 805896\n",
            "य : 753228\n",
            "व : 624743\n",
            "द : 607633\n",
            "ज : 556610\n",
            "ब : 524636\n",
            "ग : 479960\n",
            "ट : 318634\n",
            "श : 297486\n",
            "ए : 286325\n",
            "च : 272542\n",
            "अ : 253205\n"
          ]
        }
      ],
      "id": "HFnemsb4iACl"
    },
    {
      "cell_type": "markdown",
      "source": [
        "##### bi-gram Frequencies:"
      ],
      "metadata": {
        "id": "gPFm5EKSiWfL"
      },
      "id": "gPFm5EKSiWfL"
    },
    {
      "cell_type": "code",
      "source": [
        "bi_gram_frequencies(cleaned_indicBert_list_2k_uni) # print bi-gram frequencies of tokens, characters and syllables"
      ],
      "metadata": {
        "colab": {
          "base_uri": "https://localhost:8080/"
        },
        "id": "YUTjtZeoiYeg",
        "outputId": "208f06e3-dd1a-48d9-ae00-c46f0e99045f"
      },
      "execution_count": null,
      "outputs": [
        {
          "output_type": "stream",
          "name": "stdout",
          "text": [
            "ह। : 129440\n",
            "नह : 61172\n",
            "तह : 59822\n",
            "कय : 58481\n",
            "यक : 57725\n",
            "लए : 54073\n",
            "कल : 49225\n",
            "नक : 46468\n",
            "हक : 42942\n",
            "सथ : 41912\n",
            "[SEP][CLS] : 41292\n",
            "गय : 39313\n",
            "कस : 37775\n",
            "क : 37722\n",
            "रहह : 36339\n",
            "दन : 36266\n",
            "यह : 35287\n",
            "कपर : 32744\n",
            "थ। : 29421\n",
            "तक : 29076\n",
            "\n",
            "Bi-gram Characters:\n",
            "क्अ : 2221101\n",
            "र्अ : 2115912\n",
            "अर् : 1536928\n",
            "न्अ : 1335232\n",
            "स्अ : 1283708\n",
            "ह्अ : 1133159\n",
            "म्अ : 1053237\n",
            "त्अ : 980066\n",
            "ल्अ : 919917\n",
            "प्अ : 805896\n",
            "य्अ : 753228\n",
            "अन् : 691975\n",
            "व्अ : 624743\n",
            "द्अ : 607633\n",
            "ज्अ : 556610\n",
            "अल् : 525058\n",
            "ब्अ : 524636\n",
            "ग्अ : 479960\n",
            "अत् : 422023\n",
            "अह् : 410066\n",
            "\n",
            "Bi-gram Syllables:\n",
            "कर : 330952\n",
            "पर : 311009\n",
            "और : 115799\n",
            "इस : 100836\n",
            "तर : 94794\n",
            "रह : 93168\n",
            "वर : 91039\n",
            "रत : 81009\n",
            "दर : 81006\n",
            "सम : 72959\n",
            "सर : 69763\n",
            "गर : 69521\n",
            "जन : 67514\n",
            "लग : 63840\n",
            "मन : 62159\n",
            "एक : 60602\n",
            "बर : 59171\n",
            "पन : 58488\n",
            "उन : 57173\n",
            "मर : 55779\n"
          ]
        }
      ],
      "id": "YUTjtZeoiYeg"
    },
    {
      "cell_type": "code",
      "source": [
        "del cleaned_indicBert_list_2k_uni"
      ],
      "metadata": {
        "id": "2cUkwflcXeWK"
      },
      "execution_count": null,
      "outputs": [],
      "id": "2cUkwflcXeWK"
    },
    {
      "cell_type": "markdown",
      "source": [
        "### White-Space tokenizer"
      ],
      "metadata": {
        "id": "uAAjLOtwivXz"
      },
      "id": "uAAjLOtwivXz"
    },
    {
      "cell_type": "code",
      "source": [
        "from nltk.tokenize import WhitespaceTokenizer\n",
        "tk = WhitespaceTokenizer()"
      ],
      "metadata": {
        "id": "3ZY5R5rLiz-V"
      },
      "execution_count": null,
      "outputs": [],
      "id": "3ZY5R5rLiz-V"
    },
    {
      "cell_type": "code",
      "source": [
        "white_space_tokens = tk.tokenize(corpus) # generate tokens of whole corpus\n",
        "white_space_tokens_25 = tk.tokenize(q3_corpus) # generate tokens of 25 questions to be used in question 5"
      ],
      "metadata": {
        "id": "52vuJan2jWGR"
      },
      "execution_count": null,
      "outputs": [],
      "id": "52vuJan2jWGR"
    },
    {
      "cell_type": "markdown",
      "source": [
        "##### unigram frequencies:"
      ],
      "metadata": {
        "id": "-t9WLdx-j07r"
      },
      "id": "-t9WLdx-j07r"
    },
    {
      "cell_type": "code",
      "source": [
        "uni_gram_frequencies(white_space_tokens) # print uni-gram frequencies of tokens, characters and syllables"
      ],
      "metadata": {
        "colab": {
          "base_uri": "https://localhost:8080/"
        },
        "id": "yYSV3cQgjt_x",
        "outputId": "84c83631-acdb-45cc-ef11-831fa9351a88"
      },
      "execution_count": null,
      "outputs": [
        {
          "output_type": "stream",
          "name": "stdout",
          "text": [
            "\n",
            "Uni-gram tokens:\n",
            "के : 316314\n",
            "में : 237426\n",
            "की : 189769\n",
            "को : 145266\n",
            "से : 136979\n",
            "और : 114563\n",
            "का : 109743\n",
            "ने : 102378\n",
            "पर : 88560\n",
            "है। : 88260\n",
            "कि : 76741\n",
            "है : 72656\n",
            "भी : 63920\n",
            "एक : 49279\n",
            "लिए : 47955\n",
            "इस : 47558\n",
            "कर : 44563\n",
            "नहीं : 44168\n",
            "ही : 40104\n",
            "तो : 33469\n",
            "\n",
            "Uni-gram Characters:\n",
            "अ : 7082229\n",
            "आ : 2991109\n",
            "ए : 2318442\n",
            "क् : 2219964\n",
            "र् : 2115649\n",
            "ई : 1460305\n",
            "इ : 1432973\n",
            "न् : 1334448\n",
            "स् : 1283708\n",
            "अं : 1215588\n",
            "ह् : 1133159\n",
            "म् : 1053237\n",
            "त् : 980066\n",
            "ल् : 919917\n",
            "ओ : 896588\n",
            "प् : 805896\n",
            "य् : 752819\n",
            "व् : 624743\n",
            "द् : 607633\n",
            "उ : 587149\n",
            "\n",
            "Uni-gram Syllables:\n",
            "र : 1005547\n",
            "अं : 1002821\n",
            "क : 596506\n",
            "न : 502798\n",
            "स : 487412\n",
            "के : 404826\n",
            "प : 388127\n",
            "ने : 328058\n",
            "ल : 322039\n",
            "त : 308134\n",
            "का : 307758\n",
            "ए : 306908\n",
            "है : 297056\n",
            "मे : 292362\n",
            "म : 290360\n",
            "ह : 278520\n",
            "ब : 242393\n",
            "आ : 237245\n",
            "अ : 236246\n",
            "की : 234967\n"
          ]
        }
      ],
      "id": "yYSV3cQgjt_x"
    },
    {
      "cell_type": "markdown",
      "source": [
        "##### bi-gram frequencies:"
      ],
      "metadata": {
        "id": "zABjRtvQkH9P"
      },
      "id": "zABjRtvQkH9P"
    },
    {
      "cell_type": "code",
      "source": [
        "bi_gram_frequencies(white_space_tokens) # print bi-gram frequencies of tokens, characters and syllables"
      ],
      "metadata": {
        "colab": {
          "base_uri": "https://localhost:8080/"
        },
        "id": "VmoHpA4mkKV3",
        "outputId": "ee057ef9-5ed9-4281-9093-e091936b9d6d"
      },
      "execution_count": null,
      "outputs": [
        {
          "output_type": "stream",
          "name": "stdout",
          "text": [
            "केलिए : 42448\n",
            "हैकि : 24816\n",
            "केसाथ : 17075\n",
            "कहाकि : 15922\n",
            "केबाद : 14163\n",
            "हैऔर : 10096\n",
            "नेकहा : 9098\n",
            "करनेके : 8826\n",
            "बतायाकि : 6392\n",
            "कोलेकर : 5977\n",
            "गयाहै। : 5678\n",
            ".. : 5638\n",
            "रहाहै। : 5484\n",
            "केखिलाफ : 5312\n",
            "केदौरान : 5162\n",
            "केबीच : 5117\n",
            "बारेमें : 5059\n",
            "करतेहुए : 4817\n",
            "रहेहैं। : 4701\n",
            "मेंभी : 4682\n",
            "\n",
            "Bi-gram Characters:\n",
            "र्अ : 1169953\n",
            "अर् : 785626\n",
            "क्अ : 610555\n",
            "स्अ : 517928\n",
            "न्अ : 515086\n",
            "अन् : 432178\n",
            "क्ए : 407130\n",
            "प्अ : 403704\n",
            "अह् : 390461\n",
            "आर् : 368646\n",
            "एअं : 360549\n",
            "त्अ : 354071\n",
            "अक् : 350794\n",
            "ल्अ : 329260\n",
            "न्ए : 328954\n",
            "म्अ : 322851\n",
            "क्आ : 314323\n",
            "अत् : 308624\n",
            "य्आ : 297778\n",
            "ह्ऐ : 297241\n",
            "\n",
            "Bi-gram Syllables:\n",
            "मेअं : 259276\n",
            "कर : 159729\n",
            "और : 115735\n",
            "पर : 99547\n",
            "इस : 82722\n",
            "हैअं : 80777\n",
            "हीअं : 55811\n",
            "एक : 54457\n",
            "लिए : 54045\n",
            "नही : 49371\n",
            "अप : 45131\n",
            "कार : 38882\n",
            "किया : 37453\n",
            "योअं : 34596\n",
            "रने : 34498\n",
            "कहा : 33141\n",
            "यह : 31405\n",
            "गया : 30316\n",
            "सर : 30078\n",
            "उन : 28940\n"
          ]
        }
      ],
      "id": "VmoHpA4mkKV3"
    },
    {
      "cell_type": "code",
      "source": [
        "del white_space_tokens"
      ],
      "metadata": {
        "id": "ltZ9qZkykUN-"
      },
      "execution_count": null,
      "outputs": [],
      "id": "ltZ9qZkykUN-"
    },
    {
      "cell_type": "markdown",
      "source": [
        "# Question 5"
      ],
      "metadata": {
        "id": "wEB1A-hza9bG"
      },
      "id": "wEB1A-hza9bG"
    },
    {
      "cell_type": "markdown",
      "source": [
        "### Some Pre Processing"
      ],
      "metadata": {
        "id": "cTg27QQiblaj"
      },
      "id": "cTg27QQiblaj"
    },
    {
      "cell_type": "code",
      "source": [
        "# different lists for q5 generated by models in question 4"
      ],
      "metadata": {
        "id": "-U78dvSzbJjx"
      },
      "execution_count": null,
      "outputs": [],
      "id": "-U78dvSzbJjx"
    },
    {
      "cell_type": "code",
      "source": [
        "# tokens_uni_1k_25\n",
        "# tokens_bpe_1k_25\n",
        "# tokens_bpe_2k_25\n",
        "# tokens_mbert_1k_25\n",
        "# tokens_mbert_2k_25\n",
        "# cleaned_indicBert_list_1k_uni_25\n",
        "# cleaned_indicBert_list_2k_uni_25\n",
        "# white_space_tokens_25"
      ],
      "metadata": {
        "id": "nfYcnYetbYW7"
      },
      "execution_count": null,
      "outputs": [],
      "id": "nfYcnYetbYW7"
    },
    {
      "cell_type": "code",
      "source": [
        "# function to clean tokens generated by tokenizer models\n",
        "def clean_tokens(tokens):\n",
        "  cleaned = [token.replace('▁', '') for token in tokens if token not in noise and token not in matras ]\n",
        "  return cleaned"
      ],
      "metadata": {
        "id": "s_4D9Ev3hmM0"
      },
      "execution_count": null,
      "outputs": [],
      "id": "s_4D9Ev3hmM0"
    },
    {
      "cell_type": "code",
      "source": [
        "# cleaning tokens\n",
        "tokens_uni_1k_25 = clean_tokens(tokens_uni_1k_25)\n",
        "tokens_bpe_1k_25 = clean_tokens(tokens_bpe_1k_25)\n",
        "tokens_bpe_2k_25 = clean_tokens(tokens_bpe_2k_25)"
      ],
      "metadata": {
        "id": "NnjjDlDXjOOo"
      },
      "execution_count": null,
      "outputs": [],
      "id": "NnjjDlDXjOOo"
    },
    {
      "cell_type": "code",
      "source": [
        "# load word groups which works as ground truth\n",
        "with open('/cs689q3_assignment.txt','r', encoding='utf-8') as f:\n",
        "  word_groups = f.read()\n",
        "word_groups = word_groups.split(',') # creates a list of words separated based on comma(,)."
      ],
      "metadata": {
        "id": "VZNbr_RGbdXW"
      },
      "execution_count": null,
      "outputs": [],
      "id": "VZNbr_RGbdXW"
    },
    {
      "cell_type": "markdown",
      "source": [
        "Function to calculate Precision, Recall and F-Score for all the required algorithms"
      ],
      "metadata": {
        "id": "tf6x3G7t17_0"
      },
      "id": "tf6x3G7t17_0"
    },
    {
      "cell_type": "code",
      "source": [
        "# returns tuple of precision, recall and f-score as percentage given predicted_tokens and true_tokens\n",
        "def calculate_metrics(predicted_tokens, true_tokens):\n",
        "    true_positives = len(set(predicted_tokens) & set(true_tokens))\n",
        "    false_positives = len(set(predicted_tokens) - set(true_tokens))\n",
        "    false_negatives = len(set(true_tokens) - set(predicted_tokens))\n",
        "\n",
        "    precision = true_positives / (true_positives + false_positives)\n",
        "    recall = true_positives / (true_positives + false_negatives)\n",
        "\n",
        "    if precision + recall == 0:\n",
        "        f_score = 0\n",
        "    else:\n",
        "        f_score = 2 * (precision * recall) / (precision + recall)\n",
        "\n",
        "    return 100*precision, 100*recall, 100*f_score"
      ],
      "metadata": {
        "id": "EdIvtI9Zbw1U"
      },
      "execution_count": null,
      "outputs": [],
      "id": "EdIvtI9Zbw1U"
    },
    {
      "cell_type": "markdown",
      "source": [
        "Calculation of Precision, Recall and F-Score for all the required algorithms"
      ],
      "metadata": {
        "id": "27khTWA-1vQF"
      },
      "id": "27khTWA-1vQF"
    },
    {
      "cell_type": "code",
      "source": [
        "#Unigram algorithm\n",
        "precision_uni, recall_uni, f_score_uni = calculate_metrics(tokens_uni_1k_25, word_groups)\n",
        "#BPE Algorithm Vocab size = 1k\n",
        "precision_bpe_1k, recall_bpe_1k, f_score_bpe_1k = calculate_metrics(tokens_bpe_1k_25, word_groups)\n",
        "#BPE Algorithm Vocab Size = 2k\n",
        "precision_bpe_2k, recall_bpe_2k, f_score_bpe_2k = calculate_metrics(tokens_bpe_2k_25, word_groups)\n",
        "#mBERT algorithm max_length = 1k\n",
        "precision_mBERT_1k, recall_mBERT_1k, f_score_mBERT_1k = calculate_metrics(tokens_mbert_1k_25, word_groups)\n",
        "# mBERT algorithm max_length = 2k\n",
        "precision_mBERT_2k, recall_mBERT_2k, f_score_mBERT_2k = calculate_metrics(tokens_mbert_2k_25, word_groups)\n",
        "# IndicBERT algorithm max_length = 1k\n",
        "precision_IndicBERT_1k, recall_IndicBERT_1k, f_score_IndicBERT_1k = calculate_metrics(cleaned_indicBert_list_1k_uni_25, word_groups)\n",
        "# IndicBERT algorithm max_length = 2k\n",
        "precision_IndicBERT_2k, recall_IndicBERT_2k, f_score_IndicBERT_2k = calculate_metrics(cleaned_indicBert_list_2k_uni_25, word_groups)\n",
        "# White-Space tokenizer\n",
        "precision_white_space, recall_white_space, f_score_white_space = calculate_metrics(white_space_tokens_25, word_groups)\n"
      ],
      "metadata": {
        "id": "LtjU4rzk0sGC"
      },
      "execution_count": null,
      "outputs": [],
      "id": "LtjU4rzk0sGC"
    },
    {
      "cell_type": "markdown",
      "source": [
        "### Precision (Precision=TP/(TP+FP))"
      ],
      "metadata": {
        "id": "fGqJgdUTjzg0"
      },
      "id": "fGqJgdUTjzg0"
    },
    {
      "cell_type": "code",
      "source": [
        "print(\"\\nUnigram algorithm: {:.2f}\".format(precision_uni))\n",
        "print(\"\\nBPE Algorithm Vocab size = 1k: {:.2f}\".format(precision_bpe_1k))\n",
        "print(\"\\nBPE Algorithm Vocab Size = 2k: {:.2f}\".format(precision_bpe_2k))\n",
        "print(\"\\nmBERT algorithm max_length = 1k: {:.2f}\".format(precision_mBERT_1k))\n",
        "print(\"\\nmBERT algorithm max_length = 2k: {:.2f}\".format(precision_mBERT_2k))\n",
        "print(\"\\nIndicBERT algorithm max_length = 1k: {:.2f}\".format(precision_IndicBERT_1k))\n",
        "print(\"\\nIndicBERT algorithm max_length = 2k: {:.2f}\".format(precision_IndicBERT_2k))\n",
        "print(\"\\nWhite-Space tokenizer: {:.2f}\".format(precision_white_space))"
      ],
      "metadata": {
        "colab": {
          "base_uri": "https://localhost:8080/"
        },
        "id": "C3ILdpzujdiQ",
        "outputId": "e4e7e238-f14a-4460-f2a5-e314be6b14a8"
      },
      "execution_count": null,
      "outputs": [
        {
          "output_type": "stream",
          "name": "stdout",
          "text": "\n\nUnigram algorithm: 0.59\n\n\n\nBPE Algorithm Vocab size = 1k: 1.09\n\n\n\nBPE Algorithm Vocab Size = 2k: 1.41\n\n\n\nmBERT algorithm max_length = 1k: 0.90\n\n\n\nmBERT algorithm max_length = 2k: 0.90\n\n\n\nIndicBERT algorithm max_length = 1k: 1.47\n\n\n\nIndicBERT algorithm max_length = 2k: 1.47\n\n\n\nWhite-Space tokenizer: 1.79\n"
        }
      ],
      "id": "C3ILdpzujdiQ"
    },
    {
      "cell_type": "markdown",
      "source": [
        "### Recall (Recall  = TP / (TP+FN))"
      ],
      "metadata": {
        "id": "h6IrQMd2j2TW"
      },
      "id": "h6IrQMd2j2TW"
    },
    {
      "cell_type": "code",
      "source": [
        "print(\"\\nUnigram algorithm: {:.2f}\".format(recall_uni))\n",
        "print(\"\\nBPE Algorithm Vocab size = 1k: {:.2f}\".format(recall_bpe_1k))\n",
        "print(\"\\nBPE Algorithm Vocab Size = 2k: {:.2f}\".format(recall_bpe_2k))\n",
        "print(\"\\nmBERT algorithm max_length = 1k: {:.2f}\".format(recall_mBERT_1k))\n",
        "print(\"\\nmBERT algorithm max_length = 2k: {:.2f}\".format(recall_mBERT_2k))\n",
        "print(\"\\nIndicBERT algorithm max_length = 1k: {:.2f}\".format(recall_IndicBERT_1k))\n",
        "print(\"\\nIndicBERT algorithm max_length = 2k: {:.2f}\".format(recall_IndicBERT_2k))\n",
        "print(\"\\nWhite-Space tokenizer: {:.2f}\".format(recall_white_space))"
      ],
      "metadata": {
        "colab": {
          "base_uri": "https://localhost:8080/"
        },
        "id": "cVHA_lLkj3rK",
        "outputId": "7da7903a-ca62-4165-fd7c-5d398e28bb9f"
      },
      "execution_count": null,
      "outputs": [
        {
          "output_type": "stream",
          "name": "stdout",
          "text": "\n\nUnigram algorithm: 0.82\n\n\n\nBPE Algorithm Vocab size = 1k: 1.63\n\n\n\nBPE Algorithm Vocab Size = 2k: 2.45\n\n\n\nmBERT algorithm max_length = 1k: 1.63\n\n\n\nmBERT algorithm max_length = 2k: 1.63\n\n\n\nIndicBERT algorithm max_length = 1k: 2.45\n\n\n\nIndicBERT algorithm max_length = 2k: 2.45\n\n\n\nWhite-Space tokenizer: 2.86\n"
        }
      ],
      "id": "cVHA_lLkj3rK"
    },
    {
      "cell_type": "markdown",
      "source": [
        "### F-Score (F1 = 2 x Precision x Recall / (Precision + Recall))"
      ],
      "metadata": {
        "id": "i9msAwULj5I0"
      },
      "id": "i9msAwULj5I0"
    },
    {
      "cell_type": "code",
      "source": [
        "print(\"\\nUnigram algorithm: {:.2f}\".format(f_score_uni))\n",
        "print(\"\\nBPE Algorithm Vocab size = 1k: {:.2f}\".format(f_score_bpe_1k))\n",
        "print(\"\\nBPE Algorithm Vocab Size = 2k: {:.2f}\".format(f_score_bpe_2k))\n",
        "print(\"\\nmBERT algorithm max_length = 1k: {:.2f}\".format(f_score_mBERT_1k))\n",
        "print(\"\\nmBERT algorithm max_length = 2k: {:.2f}\".format(f_score_mBERT_2k))\n",
        "print(\"\\nIndicBERT algorithm max_length = 1k: {:.2f}\".format(f_score_IndicBERT_1k))\n",
        "print(\"\\nIndicBERT algorithm max_length = 2k: {:.2f}\".format(f_score_IndicBERT_2k))\n",
        "print(\"\\nWhite-Space tokenizer: {:.2f}\".format(f_score_white_space))"
      ],
      "metadata": {
        "colab": {
          "base_uri": "https://localhost:8080/"
        },
        "id": "LG7FeG9_j6ra",
        "outputId": "67f7326e-be14-40cb-cb11-aec79f650c5d"
      },
      "execution_count": null,
      "outputs": [
        {
          "output_type": "stream",
          "name": "stdout",
          "text": "\n\nUnigram algorithm: 0.68\n\n\n\nBPE Algorithm Vocab size = 1k: 1.31\n\n\n\nBPE Algorithm Vocab Size = 2k: 1.79\n\n\n\nmBERT algorithm max_length = 1k: 1.16\n\n\n\nmBERT algorithm max_length = 2k: 1.16\n\n\n\nIndicBERT algorithm max_length = 1k: 1.83\n\n\n\nIndicBERT algorithm max_length = 2k: 1.83\n\n\n\nWhite-Space tokenizer: 2.20\n"
        }
      ],
      "id": "LG7FeG9_j6ra"
    },
    {
      "cell_type": "markdown",
      "source": [
        "# Question 6"
      ],
      "metadata": {
        "id": "Si--O_a57_6O"
      },
      "id": "Si--O_a57_6O"
    },
    {
      "cell_type": "markdown",
      "source": [
        "### Learning From comparison"
      ],
      "metadata": {
        "id": "7vABuXxAFTP5"
      },
      "id": "7vABuXxAFTP5"
    },
    {
      "cell_type": "markdown",
      "source": [
        "Based on the outcomes of different tokenizer models,\n",
        "White Space Tokenizer is giving best precision out of 8 diifferent modelss.\n",
        "While comparing different models it is evident that mBERT and IndicBERT are better able to handle Hindi language as comapared to BPE and Unigram algorithm\n",
        "\n",
        "Impact of Vocab Size: In BPE as we increase vocab size Precision, Recall and F-Score improve significantly.\n",
        "\n",
        "Though I have not witnessed any significant improvement in performance of mBERT and IndicBERT models.\n",
        "\n",
        "Reason behind this insignificant improvement in performance of BERT models might be due to the fact that initially I could not run these models on whole corpus.\n",
        "\n",
        "Overall White Space Tokenizer is giving best performance metrics followed by IndicBERT, BPE(2k), mBERT, BPE(1k) and Unigram tokenizer models"
      ],
      "metadata": {
        "id": "iVUL1mhsFiT-"
      },
      "id": "iVUL1mhsFiT-"
    },
    {
      "cell_type": "code",
      "source": [],
      "metadata": {
        "id": "EdbnZ2hY8FQc"
      },
      "execution_count": null,
      "outputs": [],
      "id": "EdbnZ2hY8FQc"
    }
  ]
}